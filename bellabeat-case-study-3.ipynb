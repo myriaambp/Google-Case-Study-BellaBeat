{
 "cells": [
  {
   "cell_type": "markdown",
   "id": "85286dfb",
   "metadata": {
    "papermill": {
     "duration": 0.11488,
     "end_time": "2022-01-10T19:07:46.153132",
     "exception": false,
     "start_time": "2022-01-10T19:07:46.038252",
     "status": "completed"
    },
    "tags": []
   },
   "source": [
    "![v](https://bellabeat.com/wp-content/uploads/2020/12/bb-logo-full.png)"
   ]
  },
  {
   "cell_type": "markdown",
   "id": "a71424a3",
   "metadata": {
    "papermill": {
     "duration": 0.112884,
     "end_time": "2022-01-10T19:07:46.377839",
     "exception": false,
     "start_time": "2022-01-10T19:07:46.264955",
     "status": "completed"
    },
    "tags": []
   },
   "source": [
    "# <span style=\"color:black;font-size:20px;\"> <center>  *How can a Wellness Technology Company Play it Smart?* <span> <br> <span style= \"font-size:15px;\"> Myriam Bengoechea Pardo <br> <span style= \"font-size:15px;\"> Last Update: 10th Jan 2022 <span>\n",
    "  "
   ]
  },
  {
   "cell_type": "markdown",
   "id": "a9a177d0",
   "metadata": {
    "papermill": {
     "duration": 0.112454,
     "end_time": "2022-01-10T19:07:46.603192",
     "exception": false,
     "start_time": "2022-01-10T19:07:46.490738",
     "status": "completed"
    },
    "tags": []
   },
   "source": [
    "# <span style=\"color:#FA8072; font-size:20px;\"> Table of Contents </span>"
   ]
  },
  {
   "cell_type": "markdown",
   "id": "fa7c3c32",
   "metadata": {
    "papermill": {
     "duration": 0.111697,
     "end_time": "2022-01-10T19:07:46.826424",
     "exception": false,
     "start_time": "2022-01-10T19:07:46.714727",
     "status": "completed"
    },
    "tags": []
   },
   "source": [
    "# <span style=\"color:#FA8072; font-size:20px;\"> 1. Introduction </span>\n",
    "\n",
    "Bellabeat is a high tech company that manufactures health-focused smart products for women. The devices collect data on the user's activity, sleep, stress and reproductive health. The company has invested in traditional advertising  media, such as radio, out-of-home billboards, print and television but mainly focuses on digital marketing. Bellabeat invests year-round in Google Search, maintaining active Facebook and Instagram pages, and consistently engages consumers on Twitter. Additionally, Bellabeat runs video ads on Youtube and displays ads on the Google Display Network to support campaigns around key marketing dates.\n",
    "# <span style=\"color:#FA8072; font-size:16px;\"> 1.1 Products </span>\n",
    "Bellabeats products include the following:\n",
    "Bellabeat app: The Bellabeat app provides users with health data related to their activity, sleep, stress,\n",
    "menstrual cycle, and mindfulness habits. This data can help users better understand their current habits and\n",
    "make healthy decisions. The Bellabeat app connects to their line of smart wellness products.\n",
    "Leaf: Bellabeat’s classic wellness tracker can be worn as a bracelet, necklace, or clip. The Leaf tracker connects to the Bellabeat app to track activity, sleep, and stress.\n",
    "Time: This wellness watch combines the timeless look of a classic timepiece with smart technology to track user activity, sleep, and stress. The Time watch connects to the Bellabeat app to provide you with insights into your daily wellness.\n",
    "Spring: This is a water bottle that tracks daily water intake using smart technology to ensure that you are\n",
    "appropriately hydrated throughout the day. The Spring bottle connects to the Bellabeat app to track your hydration levels.\n",
    "Bellabeat membership: Bellabeat also offers a subscription-based membership program for users. Membership gives users 24/7 access to fully personalised guidance on nutrition, activity, sleep, health and beauty, and mindfulness based on their lifestyle and goals.\n",
    "# <span style=\"color:#FA8072; font-size:16px;\"> 1.2 Stakeholders </span>\n",
    "\n",
    "**Primary Stakeholder:**\n",
    "* Urška Sršen (Cofounder and Chief Creative Officer)\n",
    "* Sando Mur (Mathematician, cofounder; key member of the executive team)\n",
    "\n",
    "**Secondary Stakeholder:**\n",
    "* Bellabeat Marketing Analytics Team: A team of data analysts responsible for collecting, analyzing, and reporting data that helps guide Bellabeat’s marketing strategy."
   ]
  },
  {
   "cell_type": "markdown",
   "id": "8f8e735b",
   "metadata": {
    "papermill": {
     "duration": 0.135063,
     "end_time": "2022-01-10T19:07:47.078799",
     "exception": false,
     "start_time": "2022-01-10T19:07:46.943736",
     "status": "completed"
    },
    "tags": []
   },
   "source": [
    "# <span style=\"color:#FA8072; font-size:20px;\"> 2. Ask Phase </span>\n",
    "The co-founder has asked me to analyse smart device usage data in order to gain insight into how consumers use non-Bellabeat smart devices. An analysis of Bellabeat’s available consumer data would reveal more opportunities for growth. \n",
    "# <span style=\"color:#FA8072; font-size:16px;\"> 2.1 Business Task </span>\n",
    "* **Goal 1:** Identify trends in smart device usage.\n",
    "* **Goal 2:** Identify how these trends could apply to Bellabeat customers.\n",
    "* **Goal 3:** Identify how these trends could help influence Bellabeat’s marketing strategy."
   ]
  },
  {
   "cell_type": "markdown",
   "id": "1ece3b7f",
   "metadata": {
    "papermill": {
     "duration": 0.111042,
     "end_time": "2022-01-10T19:07:47.301926",
     "exception": false,
     "start_time": "2022-01-10T19:07:47.190884",
     "status": "completed"
    },
    "tags": []
   },
   "source": [
    "# <span style=\"color:#FA8072; font-size:20px;\"> 3. Prepare Phase </span>\n",
    "# <span style=\"color:#FA8072; font-size:16px;\"> 3.1 Data Sources </span>\n",
    "The data used in this project will come primarily from a data Set [(FitBit Fitness Tracker Data)](https://www.kaggle.com/arashnic/fitbit) available through Mobius and stored in Kaggle. It contains personal fitness trackers from thirty fitbit users. Thirty eligible Fitbit users consented to the submission of personal tracker data, including minute-level output for physical activity, heart rate, and sleep monitoring. It includes information about daily activity, steps, and heart rate that can be used to explore users’ habits.\n",
    "# <span style=\"color:#FA8072; font-size:16px;\"> 3.2 Accessibility and Privacy</span>\n",
    "*CC0 1.0 Universal Public Domain Dedication* <br>\n",
    "The individual who associated a work with this deed has dedicated the work to the public domain by waiving all of their trite to the work worldwide under copyright law, including all related and neighbouring rights, to the extent allowed by law. You can copy, modify, distribute and perform the work, even for commercial purposes, all without asking permission.\n",
    "# <span style=\"color:#FA8072; font-size:16px;\"> 3.3 Data organisation and Verification</span>\n",
    "The dataset contains 18 CSV files. Each file contains quantitative data tracked by the device. Each unique user has data on multiple rows, corresponding to the different dates (total of 31 days per user: 4/12/2016 to 5/9/2016), therefore this data is considered long. A summary table has been included below provided by: [Macarena Lacasa](https://www.kaggle.com/macarenalacasa)\n",
    "\n",
    "| Table Name | Type | Description |\n",
    "| --- | --- | --- |\n",
    "| dailyActivity_merged | Microsoft Excel CSV | Daily Activity over 31 days of 33 users. Tracking daily: Steps, Distance, Intensities, Calories |\n",
    "|dailyCalories_merged | Microsoft Excel CSV | Daily Calories over 31  days of 33 users |\n",
    "| dailyIntensities_merged | Microsoft Excel CSV | Daily Intensity over 31 days of 33 users. Measured in Minutes and Distance, dividing groups in 4 categories: Sedentary, Lightly Active, Fairly Active,Very Active |\n",
    "| dailySteps_merged | Microsoft Excel CSV | Daily Steps over 31 days of 33 users | \n",
    "| heartrate_seconds_merged | Microsoft Excel CSV | Exact day and time heartrate logs for just 7 users |\n",
    "| hourlyCalories_merged | Microsoft Excel CSV | Hourly Calories burned over 31 days of 33 users |\n",
    "| hourlyIntensities_merged | Microsoft Excel CSV | Hourly total and average intensity over 31 days of 33 users |\n",
    "| hourlySteps_merged | Microsoft Excel CSV | Hourly Steps over 31 days of 33 users |\n",
    "| minuteCaloriesNarrow_merged | Microsoft Excel CSV | Calories burned every minute over 31 days of 33 users (Every minute in single row)|\n",
    "| minuteCaloriesWide_merged | Microsoft Excel CSV | Calories burned every minute over 31 days of 33 users (Every minute in single column)|\n",
    "| minuteIntensitiesNarrow_merged | Microsoft Excel CSV | Intensity counted by minute over 31 days of 33 users (Every minute in single row) |\n",
    "| minuteIntensitiesWide_merged | Microsoft Excel CSV | Intensity counted by minute over 31 days of 33 users (Every minute in single column)|\n",
    "| minuteMETsNarrow_merged | Microsoft Excel CSV | Ratio of the energy you are using in a physical activity compared to the energy you would use at rest. Counted in minutes |\n",
    "| minuteSleep_merged | Microsoft Excel CSV | Log Sleep by Minute for 24 users over 31 days. Value column not specified |\n",
    "| minuteStepsNarrow_merged | Microsoft Excel CSV | Steps tracked every minute over 31 days of 33 users (Every minute in single row)|\n",
    "| minuteStepsWide_merged | Microsoft Excel CSV | Steps tracked every minute over 31 days of 33 users (Every minute in single column) |\n",
    "| sleepDay_merged | Microsoft Excel CSV| Daily sleep logs, tracked by: Total count of sleeps a day, Total minutes, Total Time in Bed |\n",
    "| weightLogInfo_merged | Microsoft Excel CSV | Weight track by day in Kg and Pounds over 30 days. Calculation of BMI.5 users report weight manually 3 users not.In total there are 8 users |\n",
    "# <span style=\"color:#FA8072; font-size:16px;\"> 3.4 Data Credibility and Integrity</span>\n",
    "There is a possibility of experiencing a sampling bias since we are limited to 30 users and we have no demographic information from the users. Additionally, the data is quite outdated (approximately 6 years old), therefore it is probable that it doesn't give us a good representation of the entire population now."
   ]
  },
  {
   "cell_type": "markdown",
   "id": "8862dddb",
   "metadata": {
    "papermill": {
     "duration": 0.111389,
     "end_time": "2022-01-10T19:07:47.524749",
     "exception": false,
     "start_time": "2022-01-10T19:07:47.413360",
     "status": "completed"
    },
    "tags": []
   },
   "source": [
    "# <span style=\"color:#FA8072; font-size:20px;\"> 4. Process Phase </span>\n",
    "The analysis of the data will be conducted in R due to the large and numerous tables in the dataset.\n",
    "# <span style=\"color:#FA8072; font-size:16px;\"> 4.1 Installing Packages and Opening Libraries </span>\n",
    "The following packages will be installed:\n",
    "* tidyverse\n",
    "* here\n",
    "* skimr\n",
    "* janitor\n",
    "* lubridate\n",
    "* ggpubr\n",
    "* ggrepel"
   ]
  },
  {
   "cell_type": "code",
   "execution_count": 1,
   "id": "5a52d456",
   "metadata": {
    "execution": {
     "iopub.execute_input": "2022-01-10T19:07:47.755263Z",
     "iopub.status.busy": "2022-01-10T19:07:47.751750Z",
     "iopub.status.idle": "2022-01-10T19:07:50.127463Z",
     "shell.execute_reply": "2022-01-10T19:07:50.126048Z"
    },
    "papermill": {
     "duration": 2.491664,
     "end_time": "2022-01-10T19:07:50.127683",
     "exception": false,
     "start_time": "2022-01-10T19:07:47.636019",
     "status": "completed"
    },
    "tags": []
   },
   "outputs": [
    {
     "name": "stderr",
     "output_type": "stream",
     "text": [
      "Loading required package: ggplot2\n",
      "\n",
      "── \u001b[1mAttaching packages\u001b[22m ─────────────────────────────────────── tidyverse 1.3.1 ──\n",
      "\n",
      "\u001b[32m✔\u001b[39m \u001b[34mtibble \u001b[39m 3.1.5     \u001b[32m✔\u001b[39m \u001b[34mdplyr  \u001b[39m 1.0.7\n",
      "\u001b[32m✔\u001b[39m \u001b[34mtidyr  \u001b[39m 1.1.4     \u001b[32m✔\u001b[39m \u001b[34mstringr\u001b[39m 1.4.0\n",
      "\u001b[32m✔\u001b[39m \u001b[34mreadr  \u001b[39m 2.0.2     \u001b[32m✔\u001b[39m \u001b[34mforcats\u001b[39m 0.5.1\n",
      "\u001b[32m✔\u001b[39m \u001b[34mpurrr  \u001b[39m 0.3.4     \n",
      "\n",
      "── \u001b[1mConflicts\u001b[22m ────────────────────────────────────────── tidyverse_conflicts() ──\n",
      "\u001b[31m✖\u001b[39m \u001b[34mdplyr\u001b[39m::\u001b[32mfilter()\u001b[39m masks \u001b[34mstats\u001b[39m::filter()\n",
      "\u001b[31m✖\u001b[39m \u001b[34mdplyr\u001b[39m::\u001b[32mlag()\u001b[39m    masks \u001b[34mstats\u001b[39m::lag()\n",
      "\n",
      "here() starts at /kaggle/working\n",
      "\n",
      "\n",
      "Attaching package: ‘janitor’\n",
      "\n",
      "\n",
      "The following objects are masked from ‘package:stats’:\n",
      "\n",
      "    chisq.test, fisher.test\n",
      "\n",
      "\n",
      "\n",
      "Attaching package: ‘lubridate’\n",
      "\n",
      "\n",
      "The following objects are masked from ‘package:base’:\n",
      "\n",
      "    date, intersect, setdiff, union\n",
      "\n",
      "\n"
     ]
    }
   ],
   "source": [
    "library(ggpubr)\n",
    "library(tidyverse)\n",
    "library(here)\n",
    "library(skimr)\n",
    "library(janitor)\n",
    "library(lubridate)\n",
    "library(ggrepel)"
   ]
  },
  {
   "cell_type": "markdown",
   "id": "557be24c",
   "metadata": {
    "papermill": {
     "duration": 0.121408,
     "end_time": "2022-01-10T19:07:50.375116",
     "exception": false,
     "start_time": "2022-01-10T19:07:50.253708",
     "status": "completed"
    },
    "tags": []
   },
   "source": [
    "# <span style=\"color:#FA8072; font-size:16px;\"> 4.2 Import Datasets </span>\n",
    "The following datasets will be used in order to achieve the three underlying goals:\n",
    "* sleep_day\n",
    "* daily_activity\n",
    "* hourly_steps\n",
    "\n"
   ]
  },
  {
   "cell_type": "code",
   "execution_count": 2,
   "id": "299be6e6",
   "metadata": {
    "execution": {
     "iopub.execute_input": "2022-01-10T19:07:50.658804Z",
     "iopub.status.busy": "2022-01-10T19:07:50.621021Z",
     "iopub.status.idle": "2022-01-10T19:07:51.272819Z",
     "shell.execute_reply": "2022-01-10T19:07:51.271265Z"
    },
    "papermill": {
     "duration": 0.777572,
     "end_time": "2022-01-10T19:07:51.273003",
     "exception": false,
     "start_time": "2022-01-10T19:07:50.495431",
     "status": "completed"
    },
    "tags": []
   },
   "outputs": [
    {
     "data": {
      "text/html": [
       "'bellabeat-case-study-data'"
      ],
      "text/latex": [
       "'bellabeat-case-study-data'"
      ],
      "text/markdown": [
       "'bellabeat-case-study-data'"
      ],
      "text/plain": [
       "[1] \"bellabeat-case-study-data\""
      ]
     },
     "metadata": {},
     "output_type": "display_data"
    },
    {
     "name": "stderr",
     "output_type": "stream",
     "text": [
      "\u001b[1m\u001b[1mRows: \u001b[1m\u001b[22m\u001b[34m\u001b[34m413\u001b[34m\u001b[39m \u001b[1m\u001b[1mColumns: \u001b[1m\u001b[22m\u001b[34m\u001b[34m5\u001b[34m\u001b[39m\n",
      "\n",
      "\u001b[36m──\u001b[39m \u001b[1m\u001b[1mColumn specification\u001b[1m\u001b[22m \u001b[36m────────────────────────────────────────────────────────\u001b[39m\n",
      "\u001b[1mDelimiter:\u001b[22m \",\"\n",
      "\u001b[31mchr\u001b[39m (1): SleepDay\n",
      "\u001b[32mdbl\u001b[39m (4): Id, TotalSleepRecords, TotalMinutesAsleep, TotalTimeInBed\n",
      "\n",
      "\n",
      "\u001b[36mℹ\u001b[39m Use \u001b[30m\u001b[47m\u001b[30m\u001b[47m`spec()`\u001b[47m\u001b[30m\u001b[49m\u001b[39m to retrieve the full column specification for this data.\n",
      "\u001b[36mℹ\u001b[39m Specify the column types or set \u001b[30m\u001b[47m\u001b[30m\u001b[47m`show_col_types = FALSE`\u001b[47m\u001b[30m\u001b[49m\u001b[39m to quiet this message.\n",
      "\n",
      "\u001b[1m\u001b[1mRows: \u001b[1m\u001b[22m\u001b[34m\u001b[34m940\u001b[34m\u001b[39m \u001b[1m\u001b[1mColumns: \u001b[1m\u001b[22m\u001b[34m\u001b[34m15\u001b[34m\u001b[39m\n",
      "\n",
      "\u001b[36m──\u001b[39m \u001b[1m\u001b[1mColumn specification\u001b[1m\u001b[22m \u001b[36m────────────────────────────────────────────────────────\u001b[39m\n",
      "\u001b[1mDelimiter:\u001b[22m \",\"\n",
      "\u001b[31mchr\u001b[39m  (1): ActivityDate\n",
      "\u001b[32mdbl\u001b[39m (14): Id, TotalSteps, TotalDistance, TrackerDistance, LoggedActivitiesDi...\n",
      "\n",
      "\n",
      "\u001b[36mℹ\u001b[39m Use \u001b[30m\u001b[47m\u001b[30m\u001b[47m`spec()`\u001b[47m\u001b[30m\u001b[49m\u001b[39m to retrieve the full column specification for this data.\n",
      "\u001b[36mℹ\u001b[39m Specify the column types or set \u001b[30m\u001b[47m\u001b[30m\u001b[47m`show_col_types = FALSE`\u001b[47m\u001b[30m\u001b[49m\u001b[39m to quiet this message.\n",
      "\n",
      "\u001b[1m\u001b[1mRows: \u001b[1m\u001b[22m\u001b[34m\u001b[34m22099\u001b[34m\u001b[39m \u001b[1m\u001b[1mColumns: \u001b[1m\u001b[22m\u001b[34m\u001b[34m3\u001b[34m\u001b[39m\n",
      "\n",
      "\u001b[36m──\u001b[39m \u001b[1m\u001b[1mColumn specification\u001b[1m\u001b[22m \u001b[36m────────────────────────────────────────────────────────\u001b[39m\n",
      "\u001b[1mDelimiter:\u001b[22m \",\"\n",
      "\u001b[31mchr\u001b[39m (1): ActivityHour\n",
      "\u001b[32mdbl\u001b[39m (2): Id, StepTotal\n",
      "\n",
      "\n",
      "\u001b[36mℹ\u001b[39m Use \u001b[30m\u001b[47m\u001b[30m\u001b[47m`spec()`\u001b[47m\u001b[30m\u001b[49m\u001b[39m to retrieve the full column specification for this data.\n",
      "\u001b[36mℹ\u001b[39m Specify the column types or set \u001b[30m\u001b[47m\u001b[30m\u001b[47m`show_col_types = FALSE`\u001b[47m\u001b[30m\u001b[49m\u001b[39m to quiet this message.\n",
      "\n"
     ]
    }
   ],
   "source": [
    "list.files(path = \"../input\")\n",
    "\n",
    "sleep_day <- read_csv('../input/bellabeat-case-study-data/sleepDay_merged.csv')\n",
    "daily_activity <- read_csv('../input/bellabeat-case-study-data/dailyActivity_merged.csv')\n",
    "hourly_steps <- read_csv('../input/bellabeat-case-study-data/hourlySteps_merged.csv')\n"
   ]
  },
  {
   "cell_type": "markdown",
   "id": "d04d16bd",
   "metadata": {
    "papermill": {
     "duration": 0.134625,
     "end_time": "2022-01-10T19:07:51.540414",
     "exception": false,
     "start_time": "2022-01-10T19:07:51.405789",
     "status": "completed"
    },
    "tags": []
   },
   "source": [
    "# <span style=\"color:#FA8072; font-size:16px;\"> 4.3 Preview Datasets </span>"
   ]
  },
  {
   "cell_type": "code",
   "execution_count": 3,
   "id": "a1efd6fa",
   "metadata": {
    "execution": {
     "iopub.execute_input": "2022-01-10T19:07:51.847466Z",
     "iopub.status.busy": "2022-01-10T19:07:51.844931Z",
     "iopub.status.idle": "2022-01-10T19:07:52.030561Z",
     "shell.execute_reply": "2022-01-10T19:07:52.029474Z"
    },
    "papermill": {
     "duration": 0.338305,
     "end_time": "2022-01-10T19:07:52.030720",
     "exception": false,
     "start_time": "2022-01-10T19:07:51.692415",
     "status": "completed"
    },
    "tags": []
   },
   "outputs": [
    {
     "data": {
      "text/html": [
       "<table class=\"dataframe\">\n",
       "<caption>A tibble: 6 × 5</caption>\n",
       "<thead>\n",
       "\t<tr><th scope=col>Id</th><th scope=col>SleepDay</th><th scope=col>TotalSleepRecords</th><th scope=col>TotalMinutesAsleep</th><th scope=col>TotalTimeInBed</th></tr>\n",
       "\t<tr><th scope=col>&lt;dbl&gt;</th><th scope=col>&lt;chr&gt;</th><th scope=col>&lt;dbl&gt;</th><th scope=col>&lt;dbl&gt;</th><th scope=col>&lt;dbl&gt;</th></tr>\n",
       "</thead>\n",
       "<tbody>\n",
       "\t<tr><td>1503960366</td><td>4/12/2016 12:00:00 AM</td><td>1</td><td>327</td><td>346</td></tr>\n",
       "\t<tr><td>1503960366</td><td>4/13/2016 12:00:00 AM</td><td>2</td><td>384</td><td>407</td></tr>\n",
       "\t<tr><td>1503960366</td><td>4/15/2016 12:00:00 AM</td><td>1</td><td>412</td><td>442</td></tr>\n",
       "\t<tr><td>1503960366</td><td>4/16/2016 12:00:00 AM</td><td>2</td><td>340</td><td>367</td></tr>\n",
       "\t<tr><td>1503960366</td><td>4/17/2016 12:00:00 AM</td><td>1</td><td>700</td><td>712</td></tr>\n",
       "\t<tr><td>1503960366</td><td>4/19/2016 12:00:00 AM</td><td>1</td><td>304</td><td>320</td></tr>\n",
       "</tbody>\n",
       "</table>\n"
      ],
      "text/latex": [
       "A tibble: 6 × 5\n",
       "\\begin{tabular}{lllll}\n",
       " Id & SleepDay & TotalSleepRecords & TotalMinutesAsleep & TotalTimeInBed\\\\\n",
       " <dbl> & <chr> & <dbl> & <dbl> & <dbl>\\\\\n",
       "\\hline\n",
       "\t 1503960366 & 4/12/2016 12:00:00 AM & 1 & 327 & 346\\\\\n",
       "\t 1503960366 & 4/13/2016 12:00:00 AM & 2 & 384 & 407\\\\\n",
       "\t 1503960366 & 4/15/2016 12:00:00 AM & 1 & 412 & 442\\\\\n",
       "\t 1503960366 & 4/16/2016 12:00:00 AM & 2 & 340 & 367\\\\\n",
       "\t 1503960366 & 4/17/2016 12:00:00 AM & 1 & 700 & 712\\\\\n",
       "\t 1503960366 & 4/19/2016 12:00:00 AM & 1 & 304 & 320\\\\\n",
       "\\end{tabular}\n"
      ],
      "text/markdown": [
       "\n",
       "A tibble: 6 × 5\n",
       "\n",
       "| Id &lt;dbl&gt; | SleepDay &lt;chr&gt; | TotalSleepRecords &lt;dbl&gt; | TotalMinutesAsleep &lt;dbl&gt; | TotalTimeInBed &lt;dbl&gt; |\n",
       "|---|---|---|---|---|\n",
       "| 1503960366 | 4/12/2016 12:00:00 AM | 1 | 327 | 346 |\n",
       "| 1503960366 | 4/13/2016 12:00:00 AM | 2 | 384 | 407 |\n",
       "| 1503960366 | 4/15/2016 12:00:00 AM | 1 | 412 | 442 |\n",
       "| 1503960366 | 4/16/2016 12:00:00 AM | 2 | 340 | 367 |\n",
       "| 1503960366 | 4/17/2016 12:00:00 AM | 1 | 700 | 712 |\n",
       "| 1503960366 | 4/19/2016 12:00:00 AM | 1 | 304 | 320 |\n",
       "\n"
      ],
      "text/plain": [
       "  Id         SleepDay              TotalSleepRecords TotalMinutesAsleep\n",
       "1 1503960366 4/12/2016 12:00:00 AM 1                 327               \n",
       "2 1503960366 4/13/2016 12:00:00 AM 2                 384               \n",
       "3 1503960366 4/15/2016 12:00:00 AM 1                 412               \n",
       "4 1503960366 4/16/2016 12:00:00 AM 2                 340               \n",
       "5 1503960366 4/17/2016 12:00:00 AM 1                 700               \n",
       "6 1503960366 4/19/2016 12:00:00 AM 1                 304               \n",
       "  TotalTimeInBed\n",
       "1 346           \n",
       "2 407           \n",
       "3 442           \n",
       "4 367           \n",
       "5 712           \n",
       "6 320           "
      ]
     },
     "metadata": {},
     "output_type": "display_data"
    },
    {
     "name": "stdout",
     "output_type": "stream",
     "text": [
      "spec_tbl_df [413 × 5] (S3: spec_tbl_df/tbl_df/tbl/data.frame)\n",
      " $ Id                : num [1:413] 1.5e+09 1.5e+09 1.5e+09 1.5e+09 1.5e+09 ...\n",
      " $ SleepDay          : chr [1:413] \"4/12/2016 12:00:00 AM\" \"4/13/2016 12:00:00 AM\" \"4/15/2016 12:00:00 AM\" \"4/16/2016 12:00:00 AM\" ...\n",
      " $ TotalSleepRecords : num [1:413] 1 2 1 2 1 1 1 1 1 1 ...\n",
      " $ TotalMinutesAsleep: num [1:413] 327 384 412 340 700 304 360 325 361 430 ...\n",
      " $ TotalTimeInBed    : num [1:413] 346 407 442 367 712 320 377 364 384 449 ...\n",
      " - attr(*, \"spec\")=\n",
      "  .. cols(\n",
      "  ..   Id = \u001b[32mcol_double()\u001b[39m,\n",
      "  ..   SleepDay = \u001b[31mcol_character()\u001b[39m,\n",
      "  ..   TotalSleepRecords = \u001b[32mcol_double()\u001b[39m,\n",
      "  ..   TotalMinutesAsleep = \u001b[32mcol_double()\u001b[39m,\n",
      "  ..   TotalTimeInBed = \u001b[32mcol_double()\u001b[39m\n",
      "  .. )\n",
      " - attr(*, \"problems\")=<externalptr> \n"
     ]
    },
    {
     "data": {
      "text/html": [
       "<table class=\"dataframe\">\n",
       "<caption>A tibble: 6 × 15</caption>\n",
       "<thead>\n",
       "\t<tr><th scope=col>Id</th><th scope=col>ActivityDate</th><th scope=col>TotalSteps</th><th scope=col>TotalDistance</th><th scope=col>TrackerDistance</th><th scope=col>LoggedActivitiesDistance</th><th scope=col>VeryActiveDistance</th><th scope=col>ModeratelyActiveDistance</th><th scope=col>LightActiveDistance</th><th scope=col>SedentaryActiveDistance</th><th scope=col>VeryActiveMinutes</th><th scope=col>FairlyActiveMinutes</th><th scope=col>LightlyActiveMinutes</th><th scope=col>SedentaryMinutes</th><th scope=col>Calories</th></tr>\n",
       "\t<tr><th scope=col>&lt;dbl&gt;</th><th scope=col>&lt;chr&gt;</th><th scope=col>&lt;dbl&gt;</th><th scope=col>&lt;dbl&gt;</th><th scope=col>&lt;dbl&gt;</th><th scope=col>&lt;dbl&gt;</th><th scope=col>&lt;dbl&gt;</th><th scope=col>&lt;dbl&gt;</th><th scope=col>&lt;dbl&gt;</th><th scope=col>&lt;dbl&gt;</th><th scope=col>&lt;dbl&gt;</th><th scope=col>&lt;dbl&gt;</th><th scope=col>&lt;dbl&gt;</th><th scope=col>&lt;dbl&gt;</th><th scope=col>&lt;dbl&gt;</th></tr>\n",
       "</thead>\n",
       "<tbody>\n",
       "\t<tr><td>1503960366</td><td>4/12/2016</td><td>13162</td><td>8.50</td><td>8.50</td><td>0</td><td>1.88</td><td>0.55</td><td>6.06</td><td>0</td><td>25</td><td>13</td><td>328</td><td> 728</td><td>1985</td></tr>\n",
       "\t<tr><td>1503960366</td><td>4/13/2016</td><td>10735</td><td>6.97</td><td>6.97</td><td>0</td><td>1.57</td><td>0.69</td><td>4.71</td><td>0</td><td>21</td><td>19</td><td>217</td><td> 776</td><td>1797</td></tr>\n",
       "\t<tr><td>1503960366</td><td>4/14/2016</td><td>10460</td><td>6.74</td><td>6.74</td><td>0</td><td>2.44</td><td>0.40</td><td>3.91</td><td>0</td><td>30</td><td>11</td><td>181</td><td>1218</td><td>1776</td></tr>\n",
       "\t<tr><td>1503960366</td><td>4/15/2016</td><td> 9762</td><td>6.28</td><td>6.28</td><td>0</td><td>2.14</td><td>1.26</td><td>2.83</td><td>0</td><td>29</td><td>34</td><td>209</td><td> 726</td><td>1745</td></tr>\n",
       "\t<tr><td>1503960366</td><td>4/16/2016</td><td>12669</td><td>8.16</td><td>8.16</td><td>0</td><td>2.71</td><td>0.41</td><td>5.04</td><td>0</td><td>36</td><td>10</td><td>221</td><td> 773</td><td>1863</td></tr>\n",
       "\t<tr><td>1503960366</td><td>4/17/2016</td><td> 9705</td><td>6.48</td><td>6.48</td><td>0</td><td>3.19</td><td>0.78</td><td>2.51</td><td>0</td><td>38</td><td>20</td><td>164</td><td> 539</td><td>1728</td></tr>\n",
       "</tbody>\n",
       "</table>\n"
      ],
      "text/latex": [
       "A tibble: 6 × 15\n",
       "\\begin{tabular}{lllllllllllllll}\n",
       " Id & ActivityDate & TotalSteps & TotalDistance & TrackerDistance & LoggedActivitiesDistance & VeryActiveDistance & ModeratelyActiveDistance & LightActiveDistance & SedentaryActiveDistance & VeryActiveMinutes & FairlyActiveMinutes & LightlyActiveMinutes & SedentaryMinutes & Calories\\\\\n",
       " <dbl> & <chr> & <dbl> & <dbl> & <dbl> & <dbl> & <dbl> & <dbl> & <dbl> & <dbl> & <dbl> & <dbl> & <dbl> & <dbl> & <dbl>\\\\\n",
       "\\hline\n",
       "\t 1503960366 & 4/12/2016 & 13162 & 8.50 & 8.50 & 0 & 1.88 & 0.55 & 6.06 & 0 & 25 & 13 & 328 &  728 & 1985\\\\\n",
       "\t 1503960366 & 4/13/2016 & 10735 & 6.97 & 6.97 & 0 & 1.57 & 0.69 & 4.71 & 0 & 21 & 19 & 217 &  776 & 1797\\\\\n",
       "\t 1503960366 & 4/14/2016 & 10460 & 6.74 & 6.74 & 0 & 2.44 & 0.40 & 3.91 & 0 & 30 & 11 & 181 & 1218 & 1776\\\\\n",
       "\t 1503960366 & 4/15/2016 &  9762 & 6.28 & 6.28 & 0 & 2.14 & 1.26 & 2.83 & 0 & 29 & 34 & 209 &  726 & 1745\\\\\n",
       "\t 1503960366 & 4/16/2016 & 12669 & 8.16 & 8.16 & 0 & 2.71 & 0.41 & 5.04 & 0 & 36 & 10 & 221 &  773 & 1863\\\\\n",
       "\t 1503960366 & 4/17/2016 &  9705 & 6.48 & 6.48 & 0 & 3.19 & 0.78 & 2.51 & 0 & 38 & 20 & 164 &  539 & 1728\\\\\n",
       "\\end{tabular}\n"
      ],
      "text/markdown": [
       "\n",
       "A tibble: 6 × 15\n",
       "\n",
       "| Id &lt;dbl&gt; | ActivityDate &lt;chr&gt; | TotalSteps &lt;dbl&gt; | TotalDistance &lt;dbl&gt; | TrackerDistance &lt;dbl&gt; | LoggedActivitiesDistance &lt;dbl&gt; | VeryActiveDistance &lt;dbl&gt; | ModeratelyActiveDistance &lt;dbl&gt; | LightActiveDistance &lt;dbl&gt; | SedentaryActiveDistance &lt;dbl&gt; | VeryActiveMinutes &lt;dbl&gt; | FairlyActiveMinutes &lt;dbl&gt; | LightlyActiveMinutes &lt;dbl&gt; | SedentaryMinutes &lt;dbl&gt; | Calories &lt;dbl&gt; |\n",
       "|---|---|---|---|---|---|---|---|---|---|---|---|---|---|---|\n",
       "| 1503960366 | 4/12/2016 | 13162 | 8.50 | 8.50 | 0 | 1.88 | 0.55 | 6.06 | 0 | 25 | 13 | 328 |  728 | 1985 |\n",
       "| 1503960366 | 4/13/2016 | 10735 | 6.97 | 6.97 | 0 | 1.57 | 0.69 | 4.71 | 0 | 21 | 19 | 217 |  776 | 1797 |\n",
       "| 1503960366 | 4/14/2016 | 10460 | 6.74 | 6.74 | 0 | 2.44 | 0.40 | 3.91 | 0 | 30 | 11 | 181 | 1218 | 1776 |\n",
       "| 1503960366 | 4/15/2016 |  9762 | 6.28 | 6.28 | 0 | 2.14 | 1.26 | 2.83 | 0 | 29 | 34 | 209 |  726 | 1745 |\n",
       "| 1503960366 | 4/16/2016 | 12669 | 8.16 | 8.16 | 0 | 2.71 | 0.41 | 5.04 | 0 | 36 | 10 | 221 |  773 | 1863 |\n",
       "| 1503960366 | 4/17/2016 |  9705 | 6.48 | 6.48 | 0 | 3.19 | 0.78 | 2.51 | 0 | 38 | 20 | 164 |  539 | 1728 |\n",
       "\n"
      ],
      "text/plain": [
       "  Id         ActivityDate TotalSteps TotalDistance TrackerDistance\n",
       "1 1503960366 4/12/2016    13162      8.50          8.50           \n",
       "2 1503960366 4/13/2016    10735      6.97          6.97           \n",
       "3 1503960366 4/14/2016    10460      6.74          6.74           \n",
       "4 1503960366 4/15/2016     9762      6.28          6.28           \n",
       "5 1503960366 4/16/2016    12669      8.16          8.16           \n",
       "6 1503960366 4/17/2016     9705      6.48          6.48           \n",
       "  LoggedActivitiesDistance VeryActiveDistance ModeratelyActiveDistance\n",
       "1 0                        1.88               0.55                    \n",
       "2 0                        1.57               0.69                    \n",
       "3 0                        2.44               0.40                    \n",
       "4 0                        2.14               1.26                    \n",
       "5 0                        2.71               0.41                    \n",
       "6 0                        3.19               0.78                    \n",
       "  LightActiveDistance SedentaryActiveDistance VeryActiveMinutes\n",
       "1 6.06                0                       25               \n",
       "2 4.71                0                       21               \n",
       "3 3.91                0                       30               \n",
       "4 2.83                0                       29               \n",
       "5 5.04                0                       36               \n",
       "6 2.51                0                       38               \n",
       "  FairlyActiveMinutes LightlyActiveMinutes SedentaryMinutes Calories\n",
       "1 13                  328                   728             1985    \n",
       "2 19                  217                   776             1797    \n",
       "3 11                  181                  1218             1776    \n",
       "4 34                  209                   726             1745    \n",
       "5 10                  221                   773             1863    \n",
       "6 20                  164                   539             1728    "
      ]
     },
     "metadata": {},
     "output_type": "display_data"
    },
    {
     "name": "stdout",
     "output_type": "stream",
     "text": [
      "spec_tbl_df [940 × 15] (S3: spec_tbl_df/tbl_df/tbl/data.frame)\n",
      " $ Id                      : num [1:940] 1.5e+09 1.5e+09 1.5e+09 1.5e+09 1.5e+09 ...\n",
      " $ ActivityDate            : chr [1:940] \"4/12/2016\" \"4/13/2016\" \"4/14/2016\" \"4/15/2016\" ...\n",
      " $ TotalSteps              : num [1:940] 13162 10735 10460 9762 12669 ...\n",
      " $ TotalDistance           : num [1:940] 8.5 6.97 6.74 6.28 8.16 ...\n",
      " $ TrackerDistance         : num [1:940] 8.5 6.97 6.74 6.28 8.16 ...\n",
      " $ LoggedActivitiesDistance: num [1:940] 0 0 0 0 0 0 0 0 0 0 ...\n",
      " $ VeryActiveDistance      : num [1:940] 1.88 1.57 2.44 2.14 2.71 ...\n",
      " $ ModeratelyActiveDistance: num [1:940] 0.55 0.69 0.4 1.26 0.41 ...\n",
      " $ LightActiveDistance     : num [1:940] 6.06 4.71 3.91 2.83 5.04 ...\n",
      " $ SedentaryActiveDistance : num [1:940] 0 0 0 0 0 0 0 0 0 0 ...\n",
      " $ VeryActiveMinutes       : num [1:940] 25 21 30 29 36 38 42 50 28 19 ...\n",
      " $ FairlyActiveMinutes     : num [1:940] 13 19 11 34 10 20 16 31 12 8 ...\n",
      " $ LightlyActiveMinutes    : num [1:940] 328 217 181 209 221 164 233 264 205 211 ...\n",
      " $ SedentaryMinutes        : num [1:940] 728 776 1218 726 773 ...\n",
      " $ Calories                : num [1:940] 1985 1797 1776 1745 1863 ...\n",
      " - attr(*, \"spec\")=\n",
      "  .. cols(\n",
      "  ..   Id = \u001b[32mcol_double()\u001b[39m,\n",
      "  ..   ActivityDate = \u001b[31mcol_character()\u001b[39m,\n",
      "  ..   TotalSteps = \u001b[32mcol_double()\u001b[39m,\n",
      "  ..   TotalDistance = \u001b[32mcol_double()\u001b[39m,\n",
      "  ..   TrackerDistance = \u001b[32mcol_double()\u001b[39m,\n",
      "  ..   LoggedActivitiesDistance = \u001b[32mcol_double()\u001b[39m,\n",
      "  ..   VeryActiveDistance = \u001b[32mcol_double()\u001b[39m,\n",
      "  ..   ModeratelyActiveDistance = \u001b[32mcol_double()\u001b[39m,\n",
      "  ..   LightActiveDistance = \u001b[32mcol_double()\u001b[39m,\n",
      "  ..   SedentaryActiveDistance = \u001b[32mcol_double()\u001b[39m,\n",
      "  ..   VeryActiveMinutes = \u001b[32mcol_double()\u001b[39m,\n",
      "  ..   FairlyActiveMinutes = \u001b[32mcol_double()\u001b[39m,\n",
      "  ..   LightlyActiveMinutes = \u001b[32mcol_double()\u001b[39m,\n",
      "  ..   SedentaryMinutes = \u001b[32mcol_double()\u001b[39m,\n",
      "  ..   Calories = \u001b[32mcol_double()\u001b[39m\n",
      "  .. )\n",
      " - attr(*, \"problems\")=<externalptr> \n"
     ]
    },
    {
     "data": {
      "text/html": [
       "<table class=\"dataframe\">\n",
       "<caption>A tibble: 6 × 3</caption>\n",
       "<thead>\n",
       "\t<tr><th scope=col>Id</th><th scope=col>ActivityHour</th><th scope=col>StepTotal</th></tr>\n",
       "\t<tr><th scope=col>&lt;dbl&gt;</th><th scope=col>&lt;chr&gt;</th><th scope=col>&lt;dbl&gt;</th></tr>\n",
       "</thead>\n",
       "<tbody>\n",
       "\t<tr><td>1503960366</td><td>4/12/2016 12:00:00 AM</td><td>373</td></tr>\n",
       "\t<tr><td>1503960366</td><td>4/12/2016 1:00:00 AM </td><td>160</td></tr>\n",
       "\t<tr><td>1503960366</td><td>4/12/2016 2:00:00 AM </td><td>151</td></tr>\n",
       "\t<tr><td>1503960366</td><td>4/12/2016 3:00:00 AM </td><td>  0</td></tr>\n",
       "\t<tr><td>1503960366</td><td>4/12/2016 4:00:00 AM </td><td>  0</td></tr>\n",
       "\t<tr><td>1503960366</td><td>4/12/2016 5:00:00 AM </td><td>  0</td></tr>\n",
       "</tbody>\n",
       "</table>\n"
      ],
      "text/latex": [
       "A tibble: 6 × 3\n",
       "\\begin{tabular}{lll}\n",
       " Id & ActivityHour & StepTotal\\\\\n",
       " <dbl> & <chr> & <dbl>\\\\\n",
       "\\hline\n",
       "\t 1503960366 & 4/12/2016 12:00:00 AM & 373\\\\\n",
       "\t 1503960366 & 4/12/2016 1:00:00 AM  & 160\\\\\n",
       "\t 1503960366 & 4/12/2016 2:00:00 AM  & 151\\\\\n",
       "\t 1503960366 & 4/12/2016 3:00:00 AM  &   0\\\\\n",
       "\t 1503960366 & 4/12/2016 4:00:00 AM  &   0\\\\\n",
       "\t 1503960366 & 4/12/2016 5:00:00 AM  &   0\\\\\n",
       "\\end{tabular}\n"
      ],
      "text/markdown": [
       "\n",
       "A tibble: 6 × 3\n",
       "\n",
       "| Id &lt;dbl&gt; | ActivityHour &lt;chr&gt; | StepTotal &lt;dbl&gt; |\n",
       "|---|---|---|\n",
       "| 1503960366 | 4/12/2016 12:00:00 AM | 373 |\n",
       "| 1503960366 | 4/12/2016 1:00:00 AM  | 160 |\n",
       "| 1503960366 | 4/12/2016 2:00:00 AM  | 151 |\n",
       "| 1503960366 | 4/12/2016 3:00:00 AM  |   0 |\n",
       "| 1503960366 | 4/12/2016 4:00:00 AM  |   0 |\n",
       "| 1503960366 | 4/12/2016 5:00:00 AM  |   0 |\n",
       "\n"
      ],
      "text/plain": [
       "  Id         ActivityHour          StepTotal\n",
       "1 1503960366 4/12/2016 12:00:00 AM 373      \n",
       "2 1503960366 4/12/2016 1:00:00 AM  160      \n",
       "3 1503960366 4/12/2016 2:00:00 AM  151      \n",
       "4 1503960366 4/12/2016 3:00:00 AM    0      \n",
       "5 1503960366 4/12/2016 4:00:00 AM    0      \n",
       "6 1503960366 4/12/2016 5:00:00 AM    0      "
      ]
     },
     "metadata": {},
     "output_type": "display_data"
    },
    {
     "name": "stdout",
     "output_type": "stream",
     "text": [
      "spec_tbl_df [22,099 × 3] (S3: spec_tbl_df/tbl_df/tbl/data.frame)\n",
      " $ Id          : num [1:22099] 1.5e+09 1.5e+09 1.5e+09 1.5e+09 1.5e+09 ...\n",
      " $ ActivityHour: chr [1:22099] \"4/12/2016 12:00:00 AM\" \"4/12/2016 1:00:00 AM\" \"4/12/2016 2:00:00 AM\" \"4/12/2016 3:00:00 AM\" ...\n",
      " $ StepTotal   : num [1:22099] 373 160 151 0 0 ...\n",
      " - attr(*, \"spec\")=\n",
      "  .. cols(\n",
      "  ..   Id = \u001b[32mcol_double()\u001b[39m,\n",
      "  ..   ActivityHour = \u001b[31mcol_character()\u001b[39m,\n",
      "  ..   StepTotal = \u001b[32mcol_double()\u001b[39m\n",
      "  .. )\n",
      " - attr(*, \"problems\")=<externalptr> \n"
     ]
    }
   ],
   "source": [
    "head(sleep_day)\n",
    "str(sleep_day)\n",
    "\n",
    "head(daily_activity)\n",
    "str(daily_activity)\n",
    "\n",
    "head(hourly_steps)\n",
    "str(hourly_steps)\n",
    "\n"
   ]
  },
  {
   "cell_type": "markdown",
   "id": "d7c24bb6",
   "metadata": {
    "papermill": {
     "duration": 0.144573,
     "end_time": "2022-01-10T19:07:52.321671",
     "exception": false,
     "start_time": "2022-01-10T19:07:52.177098",
     "status": "completed"
    },
    "tags": []
   },
   "source": [
    "# <span style=\"color:#FA8072; font-size:16px;\"> 4.4 Formatting and Cleaning </span>\n",
    "Identify errors and discprencies\n",
    "# <span style=\"color:#FA8072; font-size:14px;\"> 4.4.1 Number of User Verification </span>\n",
    "In the analysis, weight and heart rate will not be considered since they have 8 and 7 users with data respectively."
   ]
  },
  {
   "cell_type": "code",
   "execution_count": 4,
   "id": "d11748f6",
   "metadata": {
    "execution": {
     "iopub.execute_input": "2022-01-10T19:07:52.622502Z",
     "iopub.status.busy": "2022-01-10T19:07:52.620345Z",
     "iopub.status.idle": "2022-01-10T19:07:52.671465Z",
     "shell.execute_reply": "2022-01-10T19:07:52.669504Z"
    },
    "papermill": {
     "duration": 0.204109,
     "end_time": "2022-01-10T19:07:52.671612",
     "exception": false,
     "start_time": "2022-01-10T19:07:52.467503",
     "status": "completed"
    },
    "tags": []
   },
   "outputs": [
    {
     "data": {
      "text/html": [
       "24"
      ],
      "text/latex": [
       "24"
      ],
      "text/markdown": [
       "24"
      ],
      "text/plain": [
       "[1] 24"
      ]
     },
     "metadata": {},
     "output_type": "display_data"
    },
    {
     "data": {
      "text/html": [
       "33"
      ],
      "text/latex": [
       "33"
      ],
      "text/markdown": [
       "33"
      ],
      "text/plain": [
       "[1] 33"
      ]
     },
     "metadata": {},
     "output_type": "display_data"
    },
    {
     "data": {
      "text/html": [
       "33"
      ],
      "text/latex": [
       "33"
      ],
      "text/markdown": [
       "33"
      ],
      "text/plain": [
       "[1] 33"
      ]
     },
     "metadata": {},
     "output_type": "display_data"
    }
   ],
   "source": [
    "n_unique(sleep_day$Id)\n",
    "n_unique(daily_activity$Id)\n",
    "n_unique(hourly_steps$Id)"
   ]
  },
  {
   "cell_type": "markdown",
   "id": "d94f9a98",
   "metadata": {
    "papermill": {
     "duration": 0.154064,
     "end_time": "2022-01-10T19:07:52.978763",
     "exception": false,
     "start_time": "2022-01-10T19:07:52.824699",
     "status": "completed"
    },
    "tags": []
   },
   "source": [
    "# <span style=\"color:#FA8072; font-size:14px;\"> 4.4.2 Identify Duplicates </span>"
   ]
  },
  {
   "cell_type": "code",
   "execution_count": 5,
   "id": "6538089b",
   "metadata": {
    "execution": {
     "iopub.execute_input": "2022-01-10T19:07:53.293249Z",
     "iopub.status.busy": "2022-01-10T19:07:53.291520Z",
     "iopub.status.idle": "2022-01-10T19:07:53.413438Z",
     "shell.execute_reply": "2022-01-10T19:07:53.411639Z"
    },
    "papermill": {
     "duration": 0.281014,
     "end_time": "2022-01-10T19:07:53.413610",
     "exception": false,
     "start_time": "2022-01-10T19:07:53.132596",
     "status": "completed"
    },
    "tags": []
   },
   "outputs": [
    {
     "data": {
      "text/html": [
       "3"
      ],
      "text/latex": [
       "3"
      ],
      "text/markdown": [
       "3"
      ],
      "text/plain": [
       "[1] 3"
      ]
     },
     "metadata": {},
     "output_type": "display_data"
    },
    {
     "data": {
      "text/html": [
       "0"
      ],
      "text/latex": [
       "0"
      ],
      "text/markdown": [
       "0"
      ],
      "text/plain": [
       "[1] 0"
      ]
     },
     "metadata": {},
     "output_type": "display_data"
    },
    {
     "data": {
      "text/html": [
       "0"
      ],
      "text/latex": [
       "0"
      ],
      "text/markdown": [
       "0"
      ],
      "text/plain": [
       "[1] 0"
      ]
     },
     "metadata": {},
     "output_type": "display_data"
    }
   ],
   "source": [
    "sum(duplicated(sleep_day))\n",
    "sum(duplicated(daily_activity))\n",
    "sum(duplicated(hourly_steps))"
   ]
  },
  {
   "cell_type": "markdown",
   "id": "a7bb8bdd",
   "metadata": {
    "papermill": {
     "duration": 0.181095,
     "end_time": "2022-01-10T19:07:53.764452",
     "exception": false,
     "start_time": "2022-01-10T19:07:53.583357",
     "status": "completed"
    },
    "tags": []
   },
   "source": [
    "# <span style=\"color:#FA8072; font-size:14px;\"> 4.4.3 Remove Duplicates </span>\n",
    "I will remove the 3 duplicates in this table and verify that they have been removed. Additionally, I will drop any observations that are N/A\n"
   ]
  },
  {
   "cell_type": "code",
   "execution_count": 6,
   "id": "17832c36",
   "metadata": {
    "execution": {
     "iopub.execute_input": "2022-01-10T19:07:54.096851Z",
     "iopub.status.busy": "2022-01-10T19:07:54.094814Z",
     "iopub.status.idle": "2022-01-10T19:07:54.174366Z",
     "shell.execute_reply": "2022-01-10T19:07:54.172744Z"
    },
    "papermill": {
     "duration": 0.24793,
     "end_time": "2022-01-10T19:07:54.174558",
     "exception": false,
     "start_time": "2022-01-10T19:07:53.926628",
     "status": "completed"
    },
    "tags": []
   },
   "outputs": [
    {
     "data": {
      "text/html": [
       "0"
      ],
      "text/latex": [
       "0"
      ],
      "text/markdown": [
       "0"
      ],
      "text/plain": [
       "[1] 0"
      ]
     },
     "metadata": {},
     "output_type": "display_data"
    }
   ],
   "source": [
    "sleep_day <- sleep_day %>%\n",
    "  distinct() %>%\n",
    "  drop_na()\n",
    "\n",
    "sum(duplicated(sleep_day))\n",
    "\n",
    "daily_activity <- daily_activity %>%\n",
    "  distinct() %>%\n",
    "  drop_na()\n",
    "\n",
    "hourly_steps <- hourly_steps %>%\n",
    "  distinct() %>%\n",
    "  drop_na()"
   ]
  },
  {
   "cell_type": "markdown",
   "id": "468a6446",
   "metadata": {
    "papermill": {
     "duration": 0.162681,
     "end_time": "2022-01-10T19:07:54.505919",
     "exception": false,
     "start_time": "2022-01-10T19:07:54.343238",
     "status": "completed"
    },
    "tags": []
   },
   "source": [
    "# <span style=\"color:#FA8072; font-size:14px;\"> 4.4.4 Rename Columns </span>\n",
    "Since the tables will be merged later, I will reformat the columns to ensure that they are using correct synatax."
   ]
  },
  {
   "cell_type": "code",
   "execution_count": 7,
   "id": "ae014144",
   "metadata": {
    "execution": {
     "iopub.execute_input": "2022-01-10T19:07:54.838565Z",
     "iopub.status.busy": "2022-01-10T19:07:54.836578Z",
     "iopub.status.idle": "2022-01-10T19:07:55.249501Z",
     "shell.execute_reply": "2022-01-10T19:07:55.247517Z"
    },
    "papermill": {
     "duration": 0.580398,
     "end_time": "2022-01-10T19:07:55.249684",
     "exception": false,
     "start_time": "2022-01-10T19:07:54.669286",
     "status": "completed"
    },
    "tags": []
   },
   "outputs": [
    {
     "data": {
      "text/html": [
       "<table class=\"dataframe\">\n",
       "<caption>A tibble: 410 × 5</caption>\n",
       "<thead>\n",
       "\t<tr><th scope=col>id</th><th scope=col>sleep_day</th><th scope=col>total_sleep_records</th><th scope=col>total_minutes_asleep</th><th scope=col>total_time_in_bed</th></tr>\n",
       "\t<tr><th scope=col>&lt;dbl&gt;</th><th scope=col>&lt;chr&gt;</th><th scope=col>&lt;dbl&gt;</th><th scope=col>&lt;dbl&gt;</th><th scope=col>&lt;dbl&gt;</th></tr>\n",
       "</thead>\n",
       "<tbody>\n",
       "\t<tr><td>1503960366</td><td>4/12/2016 12:00:00 AM</td><td>1</td><td>327</td><td>346</td></tr>\n",
       "\t<tr><td>1503960366</td><td>4/13/2016 12:00:00 AM</td><td>2</td><td>384</td><td>407</td></tr>\n",
       "\t<tr><td>1503960366</td><td>4/15/2016 12:00:00 AM</td><td>1</td><td>412</td><td>442</td></tr>\n",
       "\t<tr><td>1503960366</td><td>4/16/2016 12:00:00 AM</td><td>2</td><td>340</td><td>367</td></tr>\n",
       "\t<tr><td>1503960366</td><td>4/17/2016 12:00:00 AM</td><td>1</td><td>700</td><td>712</td></tr>\n",
       "\t<tr><td>1503960366</td><td>4/19/2016 12:00:00 AM</td><td>1</td><td>304</td><td>320</td></tr>\n",
       "\t<tr><td>1503960366</td><td>4/20/2016 12:00:00 AM</td><td>1</td><td>360</td><td>377</td></tr>\n",
       "\t<tr><td>1503960366</td><td>4/21/2016 12:00:00 AM</td><td>1</td><td>325</td><td>364</td></tr>\n",
       "\t<tr><td>1503960366</td><td>4/23/2016 12:00:00 AM</td><td>1</td><td>361</td><td>384</td></tr>\n",
       "\t<tr><td>1503960366</td><td>4/24/2016 12:00:00 AM</td><td>1</td><td>430</td><td>449</td></tr>\n",
       "\t<tr><td>1503960366</td><td>4/25/2016 12:00:00 AM</td><td>1</td><td>277</td><td>323</td></tr>\n",
       "\t<tr><td>1503960366</td><td>4/26/2016 12:00:00 AM</td><td>1</td><td>245</td><td>274</td></tr>\n",
       "\t<tr><td>1503960366</td><td>4/28/2016 12:00:00 AM</td><td>1</td><td>366</td><td>393</td></tr>\n",
       "\t<tr><td>1503960366</td><td>4/29/2016 12:00:00 AM</td><td>1</td><td>341</td><td>354</td></tr>\n",
       "\t<tr><td>1503960366</td><td>4/30/2016 12:00:00 AM</td><td>1</td><td>404</td><td>425</td></tr>\n",
       "\t<tr><td>1503960366</td><td>5/1/2016 12:00:00 AM </td><td>1</td><td>369</td><td>396</td></tr>\n",
       "\t<tr><td>1503960366</td><td>5/2/2016 12:00:00 AM </td><td>1</td><td>277</td><td>309</td></tr>\n",
       "\t<tr><td>1503960366</td><td>5/3/2016 12:00:00 AM </td><td>1</td><td>273</td><td>296</td></tr>\n",
       "\t<tr><td>1503960366</td><td>5/5/2016 12:00:00 AM </td><td>1</td><td>247</td><td>264</td></tr>\n",
       "\t<tr><td>1503960366</td><td>5/6/2016 12:00:00 AM </td><td>1</td><td>334</td><td>367</td></tr>\n",
       "\t<tr><td>1503960366</td><td>5/7/2016 12:00:00 AM </td><td>1</td><td>331</td><td>349</td></tr>\n",
       "\t<tr><td>1503960366</td><td>5/8/2016 12:00:00 AM </td><td>1</td><td>594</td><td>611</td></tr>\n",
       "\t<tr><td>1503960366</td><td>5/9/2016 12:00:00 AM </td><td>1</td><td>338</td><td>342</td></tr>\n",
       "\t<tr><td>1503960366</td><td>5/10/2016 12:00:00 AM</td><td>1</td><td>383</td><td>403</td></tr>\n",
       "\t<tr><td>1503960366</td><td>5/11/2016 12:00:00 AM</td><td>1</td><td>285</td><td>306</td></tr>\n",
       "\t<tr><td>1644430081</td><td>4/29/2016 12:00:00 AM</td><td>1</td><td>119</td><td>127</td></tr>\n",
       "\t<tr><td>1644430081</td><td>4/30/2016 12:00:00 AM</td><td>1</td><td>124</td><td>142</td></tr>\n",
       "\t<tr><td>1644430081</td><td>5/2/2016 12:00:00 AM </td><td>1</td><td>796</td><td>961</td></tr>\n",
       "\t<tr><td>1644430081</td><td>5/8/2016 12:00:00 AM </td><td>1</td><td>137</td><td>154</td></tr>\n",
       "\t<tr><td>1844505072</td><td>4/15/2016 12:00:00 AM</td><td>1</td><td>644</td><td>961</td></tr>\n",
       "\t<tr><td>⋮</td><td>⋮</td><td>⋮</td><td>⋮</td><td>⋮</td></tr>\n",
       "\t<tr><td>8378563200</td><td>4/28/2016 12:00:00 AM</td><td>1</td><td>506</td><td>556</td></tr>\n",
       "\t<tr><td>8378563200</td><td>4/29/2016 12:00:00 AM</td><td>1</td><td>527</td><td>562</td></tr>\n",
       "\t<tr><td>8378563200</td><td>4/30/2016 12:00:00 AM</td><td>1</td><td>468</td><td>555</td></tr>\n",
       "\t<tr><td>8378563200</td><td>5/1/2016 12:00:00 AM </td><td>1</td><td>475</td><td>539</td></tr>\n",
       "\t<tr><td>8378563200</td><td>5/2/2016 12:00:00 AM </td><td>1</td><td>351</td><td>385</td></tr>\n",
       "\t<tr><td>8378563200</td><td>5/3/2016 12:00:00 AM </td><td>1</td><td>405</td><td>429</td></tr>\n",
       "\t<tr><td>8378563200</td><td>5/4/2016 12:00:00 AM </td><td>1</td><td>441</td><td>477</td></tr>\n",
       "\t<tr><td>8378563200</td><td>5/5/2016 12:00:00 AM </td><td>1</td><td>381</td><td>417</td></tr>\n",
       "\t<tr><td>8378563200</td><td>5/6/2016 12:00:00 AM </td><td>1</td><td>323</td><td>355</td></tr>\n",
       "\t<tr><td>8378563200</td><td>5/7/2016 12:00:00 AM </td><td>2</td><td>459</td><td>513</td></tr>\n",
       "\t<tr><td>8378563200</td><td>5/8/2016 12:00:00 AM </td><td>1</td><td>545</td><td>606</td></tr>\n",
       "\t<tr><td>8378563200</td><td>5/9/2016 12:00:00 AM </td><td>1</td><td>359</td><td>399</td></tr>\n",
       "\t<tr><td>8378563200</td><td>5/10/2016 12:00:00 AM</td><td>1</td><td>342</td><td>391</td></tr>\n",
       "\t<tr><td>8378563200</td><td>5/11/2016 12:00:00 AM</td><td>1</td><td>368</td><td>387</td></tr>\n",
       "\t<tr><td>8378563200</td><td>5/12/2016 12:00:00 AM</td><td>1</td><td>496</td><td>546</td></tr>\n",
       "\t<tr><td>8792009665</td><td>4/12/2016 12:00:00 AM</td><td>1</td><td>458</td><td>493</td></tr>\n",
       "\t<tr><td>8792009665</td><td>4/13/2016 12:00:00 AM</td><td>1</td><td>531</td><td>552</td></tr>\n",
       "\t<tr><td>8792009665</td><td>4/14/2016 12:00:00 AM</td><td>1</td><td>486</td><td>503</td></tr>\n",
       "\t<tr><td>8792009665</td><td>4/15/2016 12:00:00 AM</td><td>1</td><td>363</td><td>377</td></tr>\n",
       "\t<tr><td>8792009665</td><td>4/20/2016 12:00:00 AM</td><td>1</td><td>528</td><td>547</td></tr>\n",
       "\t<tr><td>8792009665</td><td>4/22/2016 12:00:00 AM</td><td>1</td><td>391</td><td>407</td></tr>\n",
       "\t<tr><td>8792009665</td><td>4/23/2016 12:00:00 AM</td><td>1</td><td>339</td><td>360</td></tr>\n",
       "\t<tr><td>8792009665</td><td>4/27/2016 12:00:00 AM</td><td>1</td><td>423</td><td>428</td></tr>\n",
       "\t<tr><td>8792009665</td><td>4/28/2016 12:00:00 AM</td><td>1</td><td>402</td><td>416</td></tr>\n",
       "\t<tr><td>8792009665</td><td>4/29/2016 12:00:00 AM</td><td>1</td><td>398</td><td>406</td></tr>\n",
       "\t<tr><td>8792009665</td><td>4/30/2016 12:00:00 AM</td><td>1</td><td>343</td><td>360</td></tr>\n",
       "\t<tr><td>8792009665</td><td>5/1/2016 12:00:00 AM </td><td>1</td><td>503</td><td>527</td></tr>\n",
       "\t<tr><td>8792009665</td><td>5/2/2016 12:00:00 AM </td><td>1</td><td>415</td><td>423</td></tr>\n",
       "\t<tr><td>8792009665</td><td>5/3/2016 12:00:00 AM </td><td>1</td><td>516</td><td>545</td></tr>\n",
       "\t<tr><td>8792009665</td><td>5/4/2016 12:00:00 AM </td><td>1</td><td>439</td><td>463</td></tr>\n",
       "</tbody>\n",
       "</table>\n"
      ],
      "text/latex": [
       "A tibble: 410 × 5\n",
       "\\begin{tabular}{lllll}\n",
       " id & sleep\\_day & total\\_sleep\\_records & total\\_minutes\\_asleep & total\\_time\\_in\\_bed\\\\\n",
       " <dbl> & <chr> & <dbl> & <dbl> & <dbl>\\\\\n",
       "\\hline\n",
       "\t 1503960366 & 4/12/2016 12:00:00 AM & 1 & 327 & 346\\\\\n",
       "\t 1503960366 & 4/13/2016 12:00:00 AM & 2 & 384 & 407\\\\\n",
       "\t 1503960366 & 4/15/2016 12:00:00 AM & 1 & 412 & 442\\\\\n",
       "\t 1503960366 & 4/16/2016 12:00:00 AM & 2 & 340 & 367\\\\\n",
       "\t 1503960366 & 4/17/2016 12:00:00 AM & 1 & 700 & 712\\\\\n",
       "\t 1503960366 & 4/19/2016 12:00:00 AM & 1 & 304 & 320\\\\\n",
       "\t 1503960366 & 4/20/2016 12:00:00 AM & 1 & 360 & 377\\\\\n",
       "\t 1503960366 & 4/21/2016 12:00:00 AM & 1 & 325 & 364\\\\\n",
       "\t 1503960366 & 4/23/2016 12:00:00 AM & 1 & 361 & 384\\\\\n",
       "\t 1503960366 & 4/24/2016 12:00:00 AM & 1 & 430 & 449\\\\\n",
       "\t 1503960366 & 4/25/2016 12:00:00 AM & 1 & 277 & 323\\\\\n",
       "\t 1503960366 & 4/26/2016 12:00:00 AM & 1 & 245 & 274\\\\\n",
       "\t 1503960366 & 4/28/2016 12:00:00 AM & 1 & 366 & 393\\\\\n",
       "\t 1503960366 & 4/29/2016 12:00:00 AM & 1 & 341 & 354\\\\\n",
       "\t 1503960366 & 4/30/2016 12:00:00 AM & 1 & 404 & 425\\\\\n",
       "\t 1503960366 & 5/1/2016 12:00:00 AM  & 1 & 369 & 396\\\\\n",
       "\t 1503960366 & 5/2/2016 12:00:00 AM  & 1 & 277 & 309\\\\\n",
       "\t 1503960366 & 5/3/2016 12:00:00 AM  & 1 & 273 & 296\\\\\n",
       "\t 1503960366 & 5/5/2016 12:00:00 AM  & 1 & 247 & 264\\\\\n",
       "\t 1503960366 & 5/6/2016 12:00:00 AM  & 1 & 334 & 367\\\\\n",
       "\t 1503960366 & 5/7/2016 12:00:00 AM  & 1 & 331 & 349\\\\\n",
       "\t 1503960366 & 5/8/2016 12:00:00 AM  & 1 & 594 & 611\\\\\n",
       "\t 1503960366 & 5/9/2016 12:00:00 AM  & 1 & 338 & 342\\\\\n",
       "\t 1503960366 & 5/10/2016 12:00:00 AM & 1 & 383 & 403\\\\\n",
       "\t 1503960366 & 5/11/2016 12:00:00 AM & 1 & 285 & 306\\\\\n",
       "\t 1644430081 & 4/29/2016 12:00:00 AM & 1 & 119 & 127\\\\\n",
       "\t 1644430081 & 4/30/2016 12:00:00 AM & 1 & 124 & 142\\\\\n",
       "\t 1644430081 & 5/2/2016 12:00:00 AM  & 1 & 796 & 961\\\\\n",
       "\t 1644430081 & 5/8/2016 12:00:00 AM  & 1 & 137 & 154\\\\\n",
       "\t 1844505072 & 4/15/2016 12:00:00 AM & 1 & 644 & 961\\\\\n",
       "\t ⋮ & ⋮ & ⋮ & ⋮ & ⋮\\\\\n",
       "\t 8378563200 & 4/28/2016 12:00:00 AM & 1 & 506 & 556\\\\\n",
       "\t 8378563200 & 4/29/2016 12:00:00 AM & 1 & 527 & 562\\\\\n",
       "\t 8378563200 & 4/30/2016 12:00:00 AM & 1 & 468 & 555\\\\\n",
       "\t 8378563200 & 5/1/2016 12:00:00 AM  & 1 & 475 & 539\\\\\n",
       "\t 8378563200 & 5/2/2016 12:00:00 AM  & 1 & 351 & 385\\\\\n",
       "\t 8378563200 & 5/3/2016 12:00:00 AM  & 1 & 405 & 429\\\\\n",
       "\t 8378563200 & 5/4/2016 12:00:00 AM  & 1 & 441 & 477\\\\\n",
       "\t 8378563200 & 5/5/2016 12:00:00 AM  & 1 & 381 & 417\\\\\n",
       "\t 8378563200 & 5/6/2016 12:00:00 AM  & 1 & 323 & 355\\\\\n",
       "\t 8378563200 & 5/7/2016 12:00:00 AM  & 2 & 459 & 513\\\\\n",
       "\t 8378563200 & 5/8/2016 12:00:00 AM  & 1 & 545 & 606\\\\\n",
       "\t 8378563200 & 5/9/2016 12:00:00 AM  & 1 & 359 & 399\\\\\n",
       "\t 8378563200 & 5/10/2016 12:00:00 AM & 1 & 342 & 391\\\\\n",
       "\t 8378563200 & 5/11/2016 12:00:00 AM & 1 & 368 & 387\\\\\n",
       "\t 8378563200 & 5/12/2016 12:00:00 AM & 1 & 496 & 546\\\\\n",
       "\t 8792009665 & 4/12/2016 12:00:00 AM & 1 & 458 & 493\\\\\n",
       "\t 8792009665 & 4/13/2016 12:00:00 AM & 1 & 531 & 552\\\\\n",
       "\t 8792009665 & 4/14/2016 12:00:00 AM & 1 & 486 & 503\\\\\n",
       "\t 8792009665 & 4/15/2016 12:00:00 AM & 1 & 363 & 377\\\\\n",
       "\t 8792009665 & 4/20/2016 12:00:00 AM & 1 & 528 & 547\\\\\n",
       "\t 8792009665 & 4/22/2016 12:00:00 AM & 1 & 391 & 407\\\\\n",
       "\t 8792009665 & 4/23/2016 12:00:00 AM & 1 & 339 & 360\\\\\n",
       "\t 8792009665 & 4/27/2016 12:00:00 AM & 1 & 423 & 428\\\\\n",
       "\t 8792009665 & 4/28/2016 12:00:00 AM & 1 & 402 & 416\\\\\n",
       "\t 8792009665 & 4/29/2016 12:00:00 AM & 1 & 398 & 406\\\\\n",
       "\t 8792009665 & 4/30/2016 12:00:00 AM & 1 & 343 & 360\\\\\n",
       "\t 8792009665 & 5/1/2016 12:00:00 AM  & 1 & 503 & 527\\\\\n",
       "\t 8792009665 & 5/2/2016 12:00:00 AM  & 1 & 415 & 423\\\\\n",
       "\t 8792009665 & 5/3/2016 12:00:00 AM  & 1 & 516 & 545\\\\\n",
       "\t 8792009665 & 5/4/2016 12:00:00 AM  & 1 & 439 & 463\\\\\n",
       "\\end{tabular}\n"
      ],
      "text/markdown": [
       "\n",
       "A tibble: 410 × 5\n",
       "\n",
       "| id &lt;dbl&gt; | sleep_day &lt;chr&gt; | total_sleep_records &lt;dbl&gt; | total_minutes_asleep &lt;dbl&gt; | total_time_in_bed &lt;dbl&gt; |\n",
       "|---|---|---|---|---|\n",
       "| 1503960366 | 4/12/2016 12:00:00 AM | 1 | 327 | 346 |\n",
       "| 1503960366 | 4/13/2016 12:00:00 AM | 2 | 384 | 407 |\n",
       "| 1503960366 | 4/15/2016 12:00:00 AM | 1 | 412 | 442 |\n",
       "| 1503960366 | 4/16/2016 12:00:00 AM | 2 | 340 | 367 |\n",
       "| 1503960366 | 4/17/2016 12:00:00 AM | 1 | 700 | 712 |\n",
       "| 1503960366 | 4/19/2016 12:00:00 AM | 1 | 304 | 320 |\n",
       "| 1503960366 | 4/20/2016 12:00:00 AM | 1 | 360 | 377 |\n",
       "| 1503960366 | 4/21/2016 12:00:00 AM | 1 | 325 | 364 |\n",
       "| 1503960366 | 4/23/2016 12:00:00 AM | 1 | 361 | 384 |\n",
       "| 1503960366 | 4/24/2016 12:00:00 AM | 1 | 430 | 449 |\n",
       "| 1503960366 | 4/25/2016 12:00:00 AM | 1 | 277 | 323 |\n",
       "| 1503960366 | 4/26/2016 12:00:00 AM | 1 | 245 | 274 |\n",
       "| 1503960366 | 4/28/2016 12:00:00 AM | 1 | 366 | 393 |\n",
       "| 1503960366 | 4/29/2016 12:00:00 AM | 1 | 341 | 354 |\n",
       "| 1503960366 | 4/30/2016 12:00:00 AM | 1 | 404 | 425 |\n",
       "| 1503960366 | 5/1/2016 12:00:00 AM  | 1 | 369 | 396 |\n",
       "| 1503960366 | 5/2/2016 12:00:00 AM  | 1 | 277 | 309 |\n",
       "| 1503960366 | 5/3/2016 12:00:00 AM  | 1 | 273 | 296 |\n",
       "| 1503960366 | 5/5/2016 12:00:00 AM  | 1 | 247 | 264 |\n",
       "| 1503960366 | 5/6/2016 12:00:00 AM  | 1 | 334 | 367 |\n",
       "| 1503960366 | 5/7/2016 12:00:00 AM  | 1 | 331 | 349 |\n",
       "| 1503960366 | 5/8/2016 12:00:00 AM  | 1 | 594 | 611 |\n",
       "| 1503960366 | 5/9/2016 12:00:00 AM  | 1 | 338 | 342 |\n",
       "| 1503960366 | 5/10/2016 12:00:00 AM | 1 | 383 | 403 |\n",
       "| 1503960366 | 5/11/2016 12:00:00 AM | 1 | 285 | 306 |\n",
       "| 1644430081 | 4/29/2016 12:00:00 AM | 1 | 119 | 127 |\n",
       "| 1644430081 | 4/30/2016 12:00:00 AM | 1 | 124 | 142 |\n",
       "| 1644430081 | 5/2/2016 12:00:00 AM  | 1 | 796 | 961 |\n",
       "| 1644430081 | 5/8/2016 12:00:00 AM  | 1 | 137 | 154 |\n",
       "| 1844505072 | 4/15/2016 12:00:00 AM | 1 | 644 | 961 |\n",
       "| ⋮ | ⋮ | ⋮ | ⋮ | ⋮ |\n",
       "| 8378563200 | 4/28/2016 12:00:00 AM | 1 | 506 | 556 |\n",
       "| 8378563200 | 4/29/2016 12:00:00 AM | 1 | 527 | 562 |\n",
       "| 8378563200 | 4/30/2016 12:00:00 AM | 1 | 468 | 555 |\n",
       "| 8378563200 | 5/1/2016 12:00:00 AM  | 1 | 475 | 539 |\n",
       "| 8378563200 | 5/2/2016 12:00:00 AM  | 1 | 351 | 385 |\n",
       "| 8378563200 | 5/3/2016 12:00:00 AM  | 1 | 405 | 429 |\n",
       "| 8378563200 | 5/4/2016 12:00:00 AM  | 1 | 441 | 477 |\n",
       "| 8378563200 | 5/5/2016 12:00:00 AM  | 1 | 381 | 417 |\n",
       "| 8378563200 | 5/6/2016 12:00:00 AM  | 1 | 323 | 355 |\n",
       "| 8378563200 | 5/7/2016 12:00:00 AM  | 2 | 459 | 513 |\n",
       "| 8378563200 | 5/8/2016 12:00:00 AM  | 1 | 545 | 606 |\n",
       "| 8378563200 | 5/9/2016 12:00:00 AM  | 1 | 359 | 399 |\n",
       "| 8378563200 | 5/10/2016 12:00:00 AM | 1 | 342 | 391 |\n",
       "| 8378563200 | 5/11/2016 12:00:00 AM | 1 | 368 | 387 |\n",
       "| 8378563200 | 5/12/2016 12:00:00 AM | 1 | 496 | 546 |\n",
       "| 8792009665 | 4/12/2016 12:00:00 AM | 1 | 458 | 493 |\n",
       "| 8792009665 | 4/13/2016 12:00:00 AM | 1 | 531 | 552 |\n",
       "| 8792009665 | 4/14/2016 12:00:00 AM | 1 | 486 | 503 |\n",
       "| 8792009665 | 4/15/2016 12:00:00 AM | 1 | 363 | 377 |\n",
       "| 8792009665 | 4/20/2016 12:00:00 AM | 1 | 528 | 547 |\n",
       "| 8792009665 | 4/22/2016 12:00:00 AM | 1 | 391 | 407 |\n",
       "| 8792009665 | 4/23/2016 12:00:00 AM | 1 | 339 | 360 |\n",
       "| 8792009665 | 4/27/2016 12:00:00 AM | 1 | 423 | 428 |\n",
       "| 8792009665 | 4/28/2016 12:00:00 AM | 1 | 402 | 416 |\n",
       "| 8792009665 | 4/29/2016 12:00:00 AM | 1 | 398 | 406 |\n",
       "| 8792009665 | 4/30/2016 12:00:00 AM | 1 | 343 | 360 |\n",
       "| 8792009665 | 5/1/2016 12:00:00 AM  | 1 | 503 | 527 |\n",
       "| 8792009665 | 5/2/2016 12:00:00 AM  | 1 | 415 | 423 |\n",
       "| 8792009665 | 5/3/2016 12:00:00 AM  | 1 | 516 | 545 |\n",
       "| 8792009665 | 5/4/2016 12:00:00 AM  | 1 | 439 | 463 |\n",
       "\n"
      ],
      "text/plain": [
       "    id         sleep_day             total_sleep_records total_minutes_asleep\n",
       "1   1503960366 4/12/2016 12:00:00 AM 1                   327                 \n",
       "2   1503960366 4/13/2016 12:00:00 AM 2                   384                 \n",
       "3   1503960366 4/15/2016 12:00:00 AM 1                   412                 \n",
       "4   1503960366 4/16/2016 12:00:00 AM 2                   340                 \n",
       "5   1503960366 4/17/2016 12:00:00 AM 1                   700                 \n",
       "6   1503960366 4/19/2016 12:00:00 AM 1                   304                 \n",
       "7   1503960366 4/20/2016 12:00:00 AM 1                   360                 \n",
       "8   1503960366 4/21/2016 12:00:00 AM 1                   325                 \n",
       "9   1503960366 4/23/2016 12:00:00 AM 1                   361                 \n",
       "10  1503960366 4/24/2016 12:00:00 AM 1                   430                 \n",
       "11  1503960366 4/25/2016 12:00:00 AM 1                   277                 \n",
       "12  1503960366 4/26/2016 12:00:00 AM 1                   245                 \n",
       "13  1503960366 4/28/2016 12:00:00 AM 1                   366                 \n",
       "14  1503960366 4/29/2016 12:00:00 AM 1                   341                 \n",
       "15  1503960366 4/30/2016 12:00:00 AM 1                   404                 \n",
       "16  1503960366 5/1/2016 12:00:00 AM  1                   369                 \n",
       "17  1503960366 5/2/2016 12:00:00 AM  1                   277                 \n",
       "18  1503960366 5/3/2016 12:00:00 AM  1                   273                 \n",
       "19  1503960366 5/5/2016 12:00:00 AM  1                   247                 \n",
       "20  1503960366 5/6/2016 12:00:00 AM  1                   334                 \n",
       "21  1503960366 5/7/2016 12:00:00 AM  1                   331                 \n",
       "22  1503960366 5/8/2016 12:00:00 AM  1                   594                 \n",
       "23  1503960366 5/9/2016 12:00:00 AM  1                   338                 \n",
       "24  1503960366 5/10/2016 12:00:00 AM 1                   383                 \n",
       "25  1503960366 5/11/2016 12:00:00 AM 1                   285                 \n",
       "26  1644430081 4/29/2016 12:00:00 AM 1                   119                 \n",
       "27  1644430081 4/30/2016 12:00:00 AM 1                   124                 \n",
       "28  1644430081 5/2/2016 12:00:00 AM  1                   796                 \n",
       "29  1644430081 5/8/2016 12:00:00 AM  1                   137                 \n",
       "30  1844505072 4/15/2016 12:00:00 AM 1                   644                 \n",
       "⋮   ⋮          ⋮                     ⋮                   ⋮                   \n",
       "381 8378563200 4/28/2016 12:00:00 AM 1                   506                 \n",
       "382 8378563200 4/29/2016 12:00:00 AM 1                   527                 \n",
       "383 8378563200 4/30/2016 12:00:00 AM 1                   468                 \n",
       "384 8378563200 5/1/2016 12:00:00 AM  1                   475                 \n",
       "385 8378563200 5/2/2016 12:00:00 AM  1                   351                 \n",
       "386 8378563200 5/3/2016 12:00:00 AM  1                   405                 \n",
       "387 8378563200 5/4/2016 12:00:00 AM  1                   441                 \n",
       "388 8378563200 5/5/2016 12:00:00 AM  1                   381                 \n",
       "389 8378563200 5/6/2016 12:00:00 AM  1                   323                 \n",
       "390 8378563200 5/7/2016 12:00:00 AM  2                   459                 \n",
       "391 8378563200 5/8/2016 12:00:00 AM  1                   545                 \n",
       "392 8378563200 5/9/2016 12:00:00 AM  1                   359                 \n",
       "393 8378563200 5/10/2016 12:00:00 AM 1                   342                 \n",
       "394 8378563200 5/11/2016 12:00:00 AM 1                   368                 \n",
       "395 8378563200 5/12/2016 12:00:00 AM 1                   496                 \n",
       "396 8792009665 4/12/2016 12:00:00 AM 1                   458                 \n",
       "397 8792009665 4/13/2016 12:00:00 AM 1                   531                 \n",
       "398 8792009665 4/14/2016 12:00:00 AM 1                   486                 \n",
       "399 8792009665 4/15/2016 12:00:00 AM 1                   363                 \n",
       "400 8792009665 4/20/2016 12:00:00 AM 1                   528                 \n",
       "401 8792009665 4/22/2016 12:00:00 AM 1                   391                 \n",
       "402 8792009665 4/23/2016 12:00:00 AM 1                   339                 \n",
       "403 8792009665 4/27/2016 12:00:00 AM 1                   423                 \n",
       "404 8792009665 4/28/2016 12:00:00 AM 1                   402                 \n",
       "405 8792009665 4/29/2016 12:00:00 AM 1                   398                 \n",
       "406 8792009665 4/30/2016 12:00:00 AM 1                   343                 \n",
       "407 8792009665 5/1/2016 12:00:00 AM  1                   503                 \n",
       "408 8792009665 5/2/2016 12:00:00 AM  1                   415                 \n",
       "409 8792009665 5/3/2016 12:00:00 AM  1                   516                 \n",
       "410 8792009665 5/4/2016 12:00:00 AM  1                   439                 \n",
       "    total_time_in_bed\n",
       "1   346              \n",
       "2   407              \n",
       "3   442              \n",
       "4   367              \n",
       "5   712              \n",
       "6   320              \n",
       "7   377              \n",
       "8   364              \n",
       "9   384              \n",
       "10  449              \n",
       "11  323              \n",
       "12  274              \n",
       "13  393              \n",
       "14  354              \n",
       "15  425              \n",
       "16  396              \n",
       "17  309              \n",
       "18  296              \n",
       "19  264              \n",
       "20  367              \n",
       "21  349              \n",
       "22  611              \n",
       "23  342              \n",
       "24  403              \n",
       "25  306              \n",
       "26  127              \n",
       "27  142              \n",
       "28  961              \n",
       "29  154              \n",
       "30  961              \n",
       "⋮   ⋮                \n",
       "381 556              \n",
       "382 562              \n",
       "383 555              \n",
       "384 539              \n",
       "385 385              \n",
       "386 429              \n",
       "387 477              \n",
       "388 417              \n",
       "389 355              \n",
       "390 513              \n",
       "391 606              \n",
       "392 399              \n",
       "393 391              \n",
       "394 387              \n",
       "395 546              \n",
       "396 493              \n",
       "397 552              \n",
       "398 503              \n",
       "399 377              \n",
       "400 547              \n",
       "401 407              \n",
       "402 360              \n",
       "403 428              \n",
       "404 416              \n",
       "405 406              \n",
       "406 360              \n",
       "407 527              \n",
       "408 423              \n",
       "409 545              \n",
       "410 463              "
      ]
     },
     "metadata": {},
     "output_type": "display_data"
    },
    {
     "data": {
      "text/html": [
       "<table class=\"dataframe\">\n",
       "<caption>A tibble: 940 × 15</caption>\n",
       "<thead>\n",
       "\t<tr><th scope=col>id</th><th scope=col>activity_date</th><th scope=col>total_steps</th><th scope=col>total_distance</th><th scope=col>tracker_distance</th><th scope=col>logged_activities_distance</th><th scope=col>very_active_distance</th><th scope=col>moderately_active_distance</th><th scope=col>light_active_distance</th><th scope=col>sedentary_active_distance</th><th scope=col>very_active_minutes</th><th scope=col>fairly_active_minutes</th><th scope=col>lightly_active_minutes</th><th scope=col>sedentary_minutes</th><th scope=col>calories</th></tr>\n",
       "\t<tr><th scope=col>&lt;dbl&gt;</th><th scope=col>&lt;chr&gt;</th><th scope=col>&lt;dbl&gt;</th><th scope=col>&lt;dbl&gt;</th><th scope=col>&lt;dbl&gt;</th><th scope=col>&lt;dbl&gt;</th><th scope=col>&lt;dbl&gt;</th><th scope=col>&lt;dbl&gt;</th><th scope=col>&lt;dbl&gt;</th><th scope=col>&lt;dbl&gt;</th><th scope=col>&lt;dbl&gt;</th><th scope=col>&lt;dbl&gt;</th><th scope=col>&lt;dbl&gt;</th><th scope=col>&lt;dbl&gt;</th><th scope=col>&lt;dbl&gt;</th></tr>\n",
       "</thead>\n",
       "<tbody>\n",
       "\t<tr><td>1503960366</td><td>4/12/2016</td><td>13162</td><td> 8.50</td><td> 8.50</td><td>0</td><td>1.88</td><td>0.55</td><td>6.06</td><td>0</td><td>25</td><td>13</td><td>328</td><td> 728</td><td>1985</td></tr>\n",
       "\t<tr><td>1503960366</td><td>4/13/2016</td><td>10735</td><td> 6.97</td><td> 6.97</td><td>0</td><td>1.57</td><td>0.69</td><td>4.71</td><td>0</td><td>21</td><td>19</td><td>217</td><td> 776</td><td>1797</td></tr>\n",
       "\t<tr><td>1503960366</td><td>4/14/2016</td><td>10460</td><td> 6.74</td><td> 6.74</td><td>0</td><td>2.44</td><td>0.40</td><td>3.91</td><td>0</td><td>30</td><td>11</td><td>181</td><td>1218</td><td>1776</td></tr>\n",
       "\t<tr><td>1503960366</td><td>4/15/2016</td><td> 9762</td><td> 6.28</td><td> 6.28</td><td>0</td><td>2.14</td><td>1.26</td><td>2.83</td><td>0</td><td>29</td><td>34</td><td>209</td><td> 726</td><td>1745</td></tr>\n",
       "\t<tr><td>1503960366</td><td>4/16/2016</td><td>12669</td><td> 8.16</td><td> 8.16</td><td>0</td><td>2.71</td><td>0.41</td><td>5.04</td><td>0</td><td>36</td><td>10</td><td>221</td><td> 773</td><td>1863</td></tr>\n",
       "\t<tr><td>1503960366</td><td>4/17/2016</td><td> 9705</td><td> 6.48</td><td> 6.48</td><td>0</td><td>3.19</td><td>0.78</td><td>2.51</td><td>0</td><td>38</td><td>20</td><td>164</td><td> 539</td><td>1728</td></tr>\n",
       "\t<tr><td>1503960366</td><td>4/18/2016</td><td>13019</td><td> 8.59</td><td> 8.59</td><td>0</td><td>3.25</td><td>0.64</td><td>4.71</td><td>0</td><td>42</td><td>16</td><td>233</td><td>1149</td><td>1921</td></tr>\n",
       "\t<tr><td>1503960366</td><td>4/19/2016</td><td>15506</td><td> 9.88</td><td> 9.88</td><td>0</td><td>3.53</td><td>1.32</td><td>5.03</td><td>0</td><td>50</td><td>31</td><td>264</td><td> 775</td><td>2035</td></tr>\n",
       "\t<tr><td>1503960366</td><td>4/20/2016</td><td>10544</td><td> 6.68</td><td> 6.68</td><td>0</td><td>1.96</td><td>0.48</td><td>4.24</td><td>0</td><td>28</td><td>12</td><td>205</td><td> 818</td><td>1786</td></tr>\n",
       "\t<tr><td>1503960366</td><td>4/21/2016</td><td> 9819</td><td> 6.34</td><td> 6.34</td><td>0</td><td>1.34</td><td>0.35</td><td>4.65</td><td>0</td><td>19</td><td> 8</td><td>211</td><td> 838</td><td>1775</td></tr>\n",
       "\t<tr><td>1503960366</td><td>4/22/2016</td><td>12764</td><td> 8.13</td><td> 8.13</td><td>0</td><td>4.76</td><td>1.12</td><td>2.24</td><td>0</td><td>66</td><td>27</td><td>130</td><td>1217</td><td>1827</td></tr>\n",
       "\t<tr><td>1503960366</td><td>4/23/2016</td><td>14371</td><td> 9.04</td><td> 9.04</td><td>0</td><td>2.81</td><td>0.87</td><td>5.36</td><td>0</td><td>41</td><td>21</td><td>262</td><td> 732</td><td>1949</td></tr>\n",
       "\t<tr><td>1503960366</td><td>4/24/2016</td><td>10039</td><td> 6.41</td><td> 6.41</td><td>0</td><td>2.92</td><td>0.21</td><td>3.28</td><td>0</td><td>39</td><td> 5</td><td>238</td><td> 709</td><td>1788</td></tr>\n",
       "\t<tr><td>1503960366</td><td>4/25/2016</td><td>15355</td><td> 9.80</td><td> 9.80</td><td>0</td><td>5.29</td><td>0.57</td><td>3.94</td><td>0</td><td>73</td><td>14</td><td>216</td><td> 814</td><td>2013</td></tr>\n",
       "\t<tr><td>1503960366</td><td>4/26/2016</td><td>13755</td><td> 8.79</td><td> 8.79</td><td>0</td><td>2.33</td><td>0.92</td><td>5.54</td><td>0</td><td>31</td><td>23</td><td>279</td><td> 833</td><td>1970</td></tr>\n",
       "\t<tr><td>1503960366</td><td>4/27/2016</td><td>18134</td><td>12.21</td><td>12.21</td><td>0</td><td>6.40</td><td>0.41</td><td>5.41</td><td>0</td><td>78</td><td>11</td><td>243</td><td>1108</td><td>2159</td></tr>\n",
       "\t<tr><td>1503960366</td><td>4/28/2016</td><td>13154</td><td> 8.53</td><td> 8.53</td><td>0</td><td>3.54</td><td>1.16</td><td>3.79</td><td>0</td><td>48</td><td>28</td><td>189</td><td> 782</td><td>1898</td></tr>\n",
       "\t<tr><td>1503960366</td><td>4/29/2016</td><td>11181</td><td> 7.15</td><td> 7.15</td><td>0</td><td>1.06</td><td>0.50</td><td>5.58</td><td>0</td><td>16</td><td>12</td><td>243</td><td> 815</td><td>1837</td></tr>\n",
       "\t<tr><td>1503960366</td><td>4/30/2016</td><td>14673</td><td> 9.25</td><td> 9.25</td><td>0</td><td>3.56</td><td>1.42</td><td>4.27</td><td>0</td><td>52</td><td>34</td><td>217</td><td> 712</td><td>1947</td></tr>\n",
       "\t<tr><td>1503960366</td><td>5/1/2016 </td><td>10602</td><td> 6.81</td><td> 6.81</td><td>0</td><td>2.29</td><td>1.60</td><td>2.92</td><td>0</td><td>33</td><td>35</td><td>246</td><td> 730</td><td>1820</td></tr>\n",
       "\t<tr><td>1503960366</td><td>5/2/2016 </td><td>14727</td><td> 9.71</td><td> 9.71</td><td>0</td><td>3.21</td><td>0.57</td><td>5.92</td><td>0</td><td>41</td><td>15</td><td>277</td><td> 798</td><td>2004</td></tr>\n",
       "\t<tr><td>1503960366</td><td>5/3/2016 </td><td>15103</td><td> 9.66</td><td> 9.66</td><td>0</td><td>3.73</td><td>1.05</td><td>4.88</td><td>0</td><td>50</td><td>24</td><td>254</td><td> 816</td><td>1990</td></tr>\n",
       "\t<tr><td>1503960366</td><td>5/4/2016 </td><td>11100</td><td> 7.15</td><td> 7.15</td><td>0</td><td>2.46</td><td>0.87</td><td>3.82</td><td>0</td><td>36</td><td>22</td><td>203</td><td>1179</td><td>1819</td></tr>\n",
       "\t<tr><td>1503960366</td><td>5/5/2016 </td><td>14070</td><td> 8.90</td><td> 8.90</td><td>0</td><td>2.92</td><td>1.08</td><td>4.88</td><td>0</td><td>45</td><td>24</td><td>250</td><td> 857</td><td>1959</td></tr>\n",
       "\t<tr><td>1503960366</td><td>5/6/2016 </td><td>12159</td><td> 8.03</td><td> 8.03</td><td>0</td><td>1.97</td><td>0.25</td><td>5.81</td><td>0</td><td>24</td><td> 6</td><td>289</td><td> 754</td><td>1896</td></tr>\n",
       "\t<tr><td>1503960366</td><td>5/7/2016 </td><td>11992</td><td> 7.71</td><td> 7.71</td><td>0</td><td>2.46</td><td>2.12</td><td>3.13</td><td>0</td><td>37</td><td>46</td><td>175</td><td> 833</td><td>1821</td></tr>\n",
       "\t<tr><td>1503960366</td><td>5/8/2016 </td><td>10060</td><td> 6.58</td><td> 6.58</td><td>0</td><td>3.53</td><td>0.32</td><td>2.73</td><td>0</td><td>44</td><td> 8</td><td>203</td><td> 574</td><td>1740</td></tr>\n",
       "\t<tr><td>1503960366</td><td>5/9/2016 </td><td>12022</td><td> 7.72</td><td> 7.72</td><td>0</td><td>3.45</td><td>0.53</td><td>3.74</td><td>0</td><td>46</td><td>11</td><td>206</td><td> 835</td><td>1819</td></tr>\n",
       "\t<tr><td>1503960366</td><td>5/10/2016</td><td>12207</td><td> 7.77</td><td> 7.77</td><td>0</td><td>3.35</td><td>1.16</td><td>3.26</td><td>0</td><td>46</td><td>31</td><td>214</td><td> 746</td><td>1859</td></tr>\n",
       "\t<tr><td>1503960366</td><td>5/11/2016</td><td>12770</td><td> 8.13</td><td> 8.13</td><td>0</td><td>2.56</td><td>1.01</td><td>4.55</td><td>0</td><td>36</td><td>23</td><td>251</td><td> 669</td><td>1783</td></tr>\n",
       "\t<tr><td>⋮</td><td>⋮</td><td>⋮</td><td>⋮</td><td>⋮</td><td>⋮</td><td>⋮</td><td>⋮</td><td>⋮</td><td>⋮</td><td>⋮</td><td>⋮</td><td>⋮</td><td>⋮</td><td>⋮</td></tr>\n",
       "\t<tr><td>8877689391</td><td>4/13/2016</td><td>15337</td><td> 9.58</td><td> 9.58</td><td>0</td><td> 3.55</td><td>0.38</td><td> 5.64</td><td>0.00</td><td>108</td><td>18</td><td>216</td><td>1098</td><td>3566</td></tr>\n",
       "\t<tr><td>8877689391</td><td>4/14/2016</td><td>21129</td><td>18.98</td><td>18.98</td><td>0</td><td>10.55</td><td>0.59</td><td> 7.75</td><td>0.02</td><td> 68</td><td>13</td><td>298</td><td>1061</td><td>3793</td></tr>\n",
       "\t<tr><td>8877689391</td><td>4/15/2016</td><td>13422</td><td> 7.17</td><td> 7.17</td><td>0</td><td> 0.05</td><td>0.05</td><td> 7.01</td><td>0.01</td><td>106</td><td> 1</td><td>281</td><td>1052</td><td>3934</td></tr>\n",
       "\t<tr><td>8877689391</td><td>4/16/2016</td><td>29326</td><td>25.29</td><td>25.29</td><td>0</td><td>13.24</td><td>1.21</td><td>10.71</td><td>0.00</td><td> 94</td><td>29</td><td>429</td><td> 888</td><td>4547</td></tr>\n",
       "\t<tr><td>8877689391</td><td>4/17/2016</td><td>15118</td><td> 8.87</td><td> 8.87</td><td>0</td><td> 0.00</td><td>0.07</td><td> 8.79</td><td>0.00</td><td> 58</td><td>15</td><td>307</td><td>1060</td><td>3545</td></tr>\n",
       "\t<tr><td>8877689391</td><td>4/18/2016</td><td>11423</td><td> 8.67</td><td> 8.67</td><td>0</td><td> 2.44</td><td>0.27</td><td> 5.94</td><td>0.00</td><td> 29</td><td> 5</td><td>191</td><td>1215</td><td>2761</td></tr>\n",
       "\t<tr><td>8877689391</td><td>4/19/2016</td><td>18785</td><td>17.40</td><td>17.40</td><td>0</td><td>12.15</td><td>0.18</td><td> 5.03</td><td>0.00</td><td> 82</td><td>13</td><td>214</td><td>1131</td><td>3676</td></tr>\n",
       "\t<tr><td>8877689391</td><td>4/20/2016</td><td>19948</td><td>18.11</td><td>18.11</td><td>0</td><td>11.02</td><td>0.69</td><td> 6.34</td><td>0.00</td><td> 73</td><td>19</td><td>225</td><td>1123</td><td>3679</td></tr>\n",
       "\t<tr><td>8877689391</td><td>4/21/2016</td><td>19377</td><td>17.62</td><td>17.62</td><td>0</td><td>12.29</td><td>0.42</td><td> 4.89</td><td>0.00</td><td> 82</td><td>13</td><td>226</td><td>1119</td><td>3659</td></tr>\n",
       "\t<tr><td>8877689391</td><td>4/22/2016</td><td>18258</td><td>16.31</td><td>16.31</td><td>0</td><td>10.23</td><td>0.03</td><td> 5.97</td><td>0.05</td><td> 61</td><td> 2</td><td>236</td><td>1141</td><td>3427</td></tr>\n",
       "\t<tr><td>8877689391</td><td>4/23/2016</td><td>11200</td><td> 7.43</td><td> 7.43</td><td>0</td><td> 0.00</td><td>0.00</td><td> 7.40</td><td>0.01</td><td>102</td><td> 6</td><td>300</td><td>1032</td><td>3891</td></tr>\n",
       "\t<tr><td>8877689391</td><td>4/24/2016</td><td>16674</td><td>15.74</td><td>15.74</td><td>0</td><td>11.01</td><td>0.01</td><td> 4.69</td><td>0.00</td><td> 64</td><td> 1</td><td>227</td><td>1148</td><td>3455</td></tr>\n",
       "\t<tr><td>8877689391</td><td>4/25/2016</td><td>12986</td><td> 8.74</td><td> 8.74</td><td>0</td><td> 2.37</td><td>0.07</td><td> 6.27</td><td>0.01</td><td>113</td><td> 8</td><td>218</td><td>1101</td><td>3802</td></tr>\n",
       "\t<tr><td>8877689391</td><td>4/26/2016</td><td>11101</td><td> 8.43</td><td> 8.43</td><td>0</td><td> 1.76</td><td>0.13</td><td> 6.50</td><td>0.00</td><td> 22</td><td> 3</td><td>258</td><td>1157</td><td>2860</td></tr>\n",
       "\t<tr><td>8877689391</td><td>4/27/2016</td><td>23629</td><td>20.65</td><td>20.65</td><td>0</td><td>13.07</td><td>0.44</td><td> 7.10</td><td>0.00</td><td> 93</td><td> 8</td><td>235</td><td>1104</td><td>3808</td></tr>\n",
       "\t<tr><td>8877689391</td><td>4/28/2016</td><td>14890</td><td>11.30</td><td>11.30</td><td>0</td><td> 4.93</td><td>0.38</td><td> 5.97</td><td>0.00</td><td> 58</td><td> 8</td><td>231</td><td>1143</td><td>3060</td></tr>\n",
       "\t<tr><td>8877689391</td><td>4/29/2016</td><td> 9733</td><td> 7.39</td><td> 7.39</td><td>0</td><td> 1.38</td><td>0.17</td><td> 5.79</td><td>0.00</td><td> 18</td><td> 5</td><td>210</td><td>1207</td><td>2698</td></tr>\n",
       "\t<tr><td>8877689391</td><td>4/30/2016</td><td>27745</td><td>26.72</td><td>26.72</td><td>0</td><td>21.66</td><td>0.08</td><td> 4.93</td><td>0.00</td><td>124</td><td> 4</td><td>223</td><td>1089</td><td>4398</td></tr>\n",
       "\t<tr><td>8877689391</td><td>5/1/2016 </td><td>10930</td><td> 8.32</td><td> 8.32</td><td>0</td><td> 3.13</td><td>0.57</td><td> 4.57</td><td>0.00</td><td> 36</td><td>12</td><td>166</td><td>1226</td><td>2786</td></tr>\n",
       "\t<tr><td>8877689391</td><td>5/2/2016 </td><td> 4790</td><td> 3.64</td><td> 3.64</td><td>0</td><td> 0.00</td><td>0.00</td><td> 3.56</td><td>0.00</td><td>  0</td><td> 0</td><td>105</td><td>1335</td><td>2189</td></tr>\n",
       "\t<tr><td>8877689391</td><td>5/3/2016 </td><td>10818</td><td> 8.21</td><td> 8.21</td><td>0</td><td> 1.39</td><td>0.10</td><td> 6.67</td><td>0.01</td><td> 19</td><td> 3</td><td>229</td><td>1189</td><td>2817</td></tr>\n",
       "\t<tr><td>8877689391</td><td>5/4/2016 </td><td>18193</td><td>16.30</td><td>16.30</td><td>0</td><td>10.42</td><td>0.31</td><td> 5.53</td><td>0.00</td><td> 66</td><td> 8</td><td>212</td><td>1154</td><td>3477</td></tr>\n",
       "\t<tr><td>8877689391</td><td>5/5/2016 </td><td>14055</td><td>10.67</td><td>10.67</td><td>0</td><td> 5.46</td><td>0.82</td><td> 4.37</td><td>0.00</td><td> 67</td><td>15</td><td>188</td><td>1170</td><td>3052</td></tr>\n",
       "\t<tr><td>8877689391</td><td>5/6/2016 </td><td>21727</td><td>19.34</td><td>19.34</td><td>0</td><td>12.79</td><td>0.29</td><td> 6.16</td><td>0.00</td><td> 96</td><td>17</td><td>232</td><td>1095</td><td>4015</td></tr>\n",
       "\t<tr><td>8877689391</td><td>5/7/2016 </td><td>12332</td><td> 8.13</td><td> 8.13</td><td>0</td><td> 0.08</td><td>0.96</td><td> 6.99</td><td>0.00</td><td>105</td><td>28</td><td>271</td><td>1036</td><td>4142</td></tr>\n",
       "\t<tr><td>8877689391</td><td>5/8/2016 </td><td>10686</td><td> 8.11</td><td> 8.11</td><td>0</td><td> 1.08</td><td>0.20</td><td> 6.80</td><td>0.00</td><td> 17</td><td> 4</td><td>245</td><td>1174</td><td>2847</td></tr>\n",
       "\t<tr><td>8877689391</td><td>5/9/2016 </td><td>20226</td><td>18.25</td><td>18.25</td><td>0</td><td>11.10</td><td>0.80</td><td> 6.24</td><td>0.05</td><td> 73</td><td>19</td><td>217</td><td>1131</td><td>3710</td></tr>\n",
       "\t<tr><td>8877689391</td><td>5/10/2016</td><td>10733</td><td> 8.15</td><td> 8.15</td><td>0</td><td> 1.35</td><td>0.46</td><td> 6.28</td><td>0.00</td><td> 18</td><td>11</td><td>224</td><td>1187</td><td>2832</td></tr>\n",
       "\t<tr><td>8877689391</td><td>5/11/2016</td><td>21420</td><td>19.56</td><td>19.56</td><td>0</td><td>13.22</td><td>0.41</td><td> 5.89</td><td>0.00</td><td> 88</td><td>12</td><td>213</td><td>1127</td><td>3832</td></tr>\n",
       "\t<tr><td>8877689391</td><td>5/12/2016</td><td> 8064</td><td> 6.12</td><td> 6.12</td><td>0</td><td> 1.82</td><td>0.04</td><td> 4.25</td><td>0.00</td><td> 23</td><td> 1</td><td>137</td><td> 770</td><td>1849</td></tr>\n",
       "</tbody>\n",
       "</table>\n"
      ],
      "text/latex": [
       "A tibble: 940 × 15\n",
       "\\begin{tabular}{lllllllllllllll}\n",
       " id & activity\\_date & total\\_steps & total\\_distance & tracker\\_distance & logged\\_activities\\_distance & very\\_active\\_distance & moderately\\_active\\_distance & light\\_active\\_distance & sedentary\\_active\\_distance & very\\_active\\_minutes & fairly\\_active\\_minutes & lightly\\_active\\_minutes & sedentary\\_minutes & calories\\\\\n",
       " <dbl> & <chr> & <dbl> & <dbl> & <dbl> & <dbl> & <dbl> & <dbl> & <dbl> & <dbl> & <dbl> & <dbl> & <dbl> & <dbl> & <dbl>\\\\\n",
       "\\hline\n",
       "\t 1503960366 & 4/12/2016 & 13162 &  8.50 &  8.50 & 0 & 1.88 & 0.55 & 6.06 & 0 & 25 & 13 & 328 &  728 & 1985\\\\\n",
       "\t 1503960366 & 4/13/2016 & 10735 &  6.97 &  6.97 & 0 & 1.57 & 0.69 & 4.71 & 0 & 21 & 19 & 217 &  776 & 1797\\\\\n",
       "\t 1503960366 & 4/14/2016 & 10460 &  6.74 &  6.74 & 0 & 2.44 & 0.40 & 3.91 & 0 & 30 & 11 & 181 & 1218 & 1776\\\\\n",
       "\t 1503960366 & 4/15/2016 &  9762 &  6.28 &  6.28 & 0 & 2.14 & 1.26 & 2.83 & 0 & 29 & 34 & 209 &  726 & 1745\\\\\n",
       "\t 1503960366 & 4/16/2016 & 12669 &  8.16 &  8.16 & 0 & 2.71 & 0.41 & 5.04 & 0 & 36 & 10 & 221 &  773 & 1863\\\\\n",
       "\t 1503960366 & 4/17/2016 &  9705 &  6.48 &  6.48 & 0 & 3.19 & 0.78 & 2.51 & 0 & 38 & 20 & 164 &  539 & 1728\\\\\n",
       "\t 1503960366 & 4/18/2016 & 13019 &  8.59 &  8.59 & 0 & 3.25 & 0.64 & 4.71 & 0 & 42 & 16 & 233 & 1149 & 1921\\\\\n",
       "\t 1503960366 & 4/19/2016 & 15506 &  9.88 &  9.88 & 0 & 3.53 & 1.32 & 5.03 & 0 & 50 & 31 & 264 &  775 & 2035\\\\\n",
       "\t 1503960366 & 4/20/2016 & 10544 &  6.68 &  6.68 & 0 & 1.96 & 0.48 & 4.24 & 0 & 28 & 12 & 205 &  818 & 1786\\\\\n",
       "\t 1503960366 & 4/21/2016 &  9819 &  6.34 &  6.34 & 0 & 1.34 & 0.35 & 4.65 & 0 & 19 &  8 & 211 &  838 & 1775\\\\\n",
       "\t 1503960366 & 4/22/2016 & 12764 &  8.13 &  8.13 & 0 & 4.76 & 1.12 & 2.24 & 0 & 66 & 27 & 130 & 1217 & 1827\\\\\n",
       "\t 1503960366 & 4/23/2016 & 14371 &  9.04 &  9.04 & 0 & 2.81 & 0.87 & 5.36 & 0 & 41 & 21 & 262 &  732 & 1949\\\\\n",
       "\t 1503960366 & 4/24/2016 & 10039 &  6.41 &  6.41 & 0 & 2.92 & 0.21 & 3.28 & 0 & 39 &  5 & 238 &  709 & 1788\\\\\n",
       "\t 1503960366 & 4/25/2016 & 15355 &  9.80 &  9.80 & 0 & 5.29 & 0.57 & 3.94 & 0 & 73 & 14 & 216 &  814 & 2013\\\\\n",
       "\t 1503960366 & 4/26/2016 & 13755 &  8.79 &  8.79 & 0 & 2.33 & 0.92 & 5.54 & 0 & 31 & 23 & 279 &  833 & 1970\\\\\n",
       "\t 1503960366 & 4/27/2016 & 18134 & 12.21 & 12.21 & 0 & 6.40 & 0.41 & 5.41 & 0 & 78 & 11 & 243 & 1108 & 2159\\\\\n",
       "\t 1503960366 & 4/28/2016 & 13154 &  8.53 &  8.53 & 0 & 3.54 & 1.16 & 3.79 & 0 & 48 & 28 & 189 &  782 & 1898\\\\\n",
       "\t 1503960366 & 4/29/2016 & 11181 &  7.15 &  7.15 & 0 & 1.06 & 0.50 & 5.58 & 0 & 16 & 12 & 243 &  815 & 1837\\\\\n",
       "\t 1503960366 & 4/30/2016 & 14673 &  9.25 &  9.25 & 0 & 3.56 & 1.42 & 4.27 & 0 & 52 & 34 & 217 &  712 & 1947\\\\\n",
       "\t 1503960366 & 5/1/2016  & 10602 &  6.81 &  6.81 & 0 & 2.29 & 1.60 & 2.92 & 0 & 33 & 35 & 246 &  730 & 1820\\\\\n",
       "\t 1503960366 & 5/2/2016  & 14727 &  9.71 &  9.71 & 0 & 3.21 & 0.57 & 5.92 & 0 & 41 & 15 & 277 &  798 & 2004\\\\\n",
       "\t 1503960366 & 5/3/2016  & 15103 &  9.66 &  9.66 & 0 & 3.73 & 1.05 & 4.88 & 0 & 50 & 24 & 254 &  816 & 1990\\\\\n",
       "\t 1503960366 & 5/4/2016  & 11100 &  7.15 &  7.15 & 0 & 2.46 & 0.87 & 3.82 & 0 & 36 & 22 & 203 & 1179 & 1819\\\\\n",
       "\t 1503960366 & 5/5/2016  & 14070 &  8.90 &  8.90 & 0 & 2.92 & 1.08 & 4.88 & 0 & 45 & 24 & 250 &  857 & 1959\\\\\n",
       "\t 1503960366 & 5/6/2016  & 12159 &  8.03 &  8.03 & 0 & 1.97 & 0.25 & 5.81 & 0 & 24 &  6 & 289 &  754 & 1896\\\\\n",
       "\t 1503960366 & 5/7/2016  & 11992 &  7.71 &  7.71 & 0 & 2.46 & 2.12 & 3.13 & 0 & 37 & 46 & 175 &  833 & 1821\\\\\n",
       "\t 1503960366 & 5/8/2016  & 10060 &  6.58 &  6.58 & 0 & 3.53 & 0.32 & 2.73 & 0 & 44 &  8 & 203 &  574 & 1740\\\\\n",
       "\t 1503960366 & 5/9/2016  & 12022 &  7.72 &  7.72 & 0 & 3.45 & 0.53 & 3.74 & 0 & 46 & 11 & 206 &  835 & 1819\\\\\n",
       "\t 1503960366 & 5/10/2016 & 12207 &  7.77 &  7.77 & 0 & 3.35 & 1.16 & 3.26 & 0 & 46 & 31 & 214 &  746 & 1859\\\\\n",
       "\t 1503960366 & 5/11/2016 & 12770 &  8.13 &  8.13 & 0 & 2.56 & 1.01 & 4.55 & 0 & 36 & 23 & 251 &  669 & 1783\\\\\n",
       "\t ⋮ & ⋮ & ⋮ & ⋮ & ⋮ & ⋮ & ⋮ & ⋮ & ⋮ & ⋮ & ⋮ & ⋮ & ⋮ & ⋮ & ⋮\\\\\n",
       "\t 8877689391 & 4/13/2016 & 15337 &  9.58 &  9.58 & 0 &  3.55 & 0.38 &  5.64 & 0.00 & 108 & 18 & 216 & 1098 & 3566\\\\\n",
       "\t 8877689391 & 4/14/2016 & 21129 & 18.98 & 18.98 & 0 & 10.55 & 0.59 &  7.75 & 0.02 &  68 & 13 & 298 & 1061 & 3793\\\\\n",
       "\t 8877689391 & 4/15/2016 & 13422 &  7.17 &  7.17 & 0 &  0.05 & 0.05 &  7.01 & 0.01 & 106 &  1 & 281 & 1052 & 3934\\\\\n",
       "\t 8877689391 & 4/16/2016 & 29326 & 25.29 & 25.29 & 0 & 13.24 & 1.21 & 10.71 & 0.00 &  94 & 29 & 429 &  888 & 4547\\\\\n",
       "\t 8877689391 & 4/17/2016 & 15118 &  8.87 &  8.87 & 0 &  0.00 & 0.07 &  8.79 & 0.00 &  58 & 15 & 307 & 1060 & 3545\\\\\n",
       "\t 8877689391 & 4/18/2016 & 11423 &  8.67 &  8.67 & 0 &  2.44 & 0.27 &  5.94 & 0.00 &  29 &  5 & 191 & 1215 & 2761\\\\\n",
       "\t 8877689391 & 4/19/2016 & 18785 & 17.40 & 17.40 & 0 & 12.15 & 0.18 &  5.03 & 0.00 &  82 & 13 & 214 & 1131 & 3676\\\\\n",
       "\t 8877689391 & 4/20/2016 & 19948 & 18.11 & 18.11 & 0 & 11.02 & 0.69 &  6.34 & 0.00 &  73 & 19 & 225 & 1123 & 3679\\\\\n",
       "\t 8877689391 & 4/21/2016 & 19377 & 17.62 & 17.62 & 0 & 12.29 & 0.42 &  4.89 & 0.00 &  82 & 13 & 226 & 1119 & 3659\\\\\n",
       "\t 8877689391 & 4/22/2016 & 18258 & 16.31 & 16.31 & 0 & 10.23 & 0.03 &  5.97 & 0.05 &  61 &  2 & 236 & 1141 & 3427\\\\\n",
       "\t 8877689391 & 4/23/2016 & 11200 &  7.43 &  7.43 & 0 &  0.00 & 0.00 &  7.40 & 0.01 & 102 &  6 & 300 & 1032 & 3891\\\\\n",
       "\t 8877689391 & 4/24/2016 & 16674 & 15.74 & 15.74 & 0 & 11.01 & 0.01 &  4.69 & 0.00 &  64 &  1 & 227 & 1148 & 3455\\\\\n",
       "\t 8877689391 & 4/25/2016 & 12986 &  8.74 &  8.74 & 0 &  2.37 & 0.07 &  6.27 & 0.01 & 113 &  8 & 218 & 1101 & 3802\\\\\n",
       "\t 8877689391 & 4/26/2016 & 11101 &  8.43 &  8.43 & 0 &  1.76 & 0.13 &  6.50 & 0.00 &  22 &  3 & 258 & 1157 & 2860\\\\\n",
       "\t 8877689391 & 4/27/2016 & 23629 & 20.65 & 20.65 & 0 & 13.07 & 0.44 &  7.10 & 0.00 &  93 &  8 & 235 & 1104 & 3808\\\\\n",
       "\t 8877689391 & 4/28/2016 & 14890 & 11.30 & 11.30 & 0 &  4.93 & 0.38 &  5.97 & 0.00 &  58 &  8 & 231 & 1143 & 3060\\\\\n",
       "\t 8877689391 & 4/29/2016 &  9733 &  7.39 &  7.39 & 0 &  1.38 & 0.17 &  5.79 & 0.00 &  18 &  5 & 210 & 1207 & 2698\\\\\n",
       "\t 8877689391 & 4/30/2016 & 27745 & 26.72 & 26.72 & 0 & 21.66 & 0.08 &  4.93 & 0.00 & 124 &  4 & 223 & 1089 & 4398\\\\\n",
       "\t 8877689391 & 5/1/2016  & 10930 &  8.32 &  8.32 & 0 &  3.13 & 0.57 &  4.57 & 0.00 &  36 & 12 & 166 & 1226 & 2786\\\\\n",
       "\t 8877689391 & 5/2/2016  &  4790 &  3.64 &  3.64 & 0 &  0.00 & 0.00 &  3.56 & 0.00 &   0 &  0 & 105 & 1335 & 2189\\\\\n",
       "\t 8877689391 & 5/3/2016  & 10818 &  8.21 &  8.21 & 0 &  1.39 & 0.10 &  6.67 & 0.01 &  19 &  3 & 229 & 1189 & 2817\\\\\n",
       "\t 8877689391 & 5/4/2016  & 18193 & 16.30 & 16.30 & 0 & 10.42 & 0.31 &  5.53 & 0.00 &  66 &  8 & 212 & 1154 & 3477\\\\\n",
       "\t 8877689391 & 5/5/2016  & 14055 & 10.67 & 10.67 & 0 &  5.46 & 0.82 &  4.37 & 0.00 &  67 & 15 & 188 & 1170 & 3052\\\\\n",
       "\t 8877689391 & 5/6/2016  & 21727 & 19.34 & 19.34 & 0 & 12.79 & 0.29 &  6.16 & 0.00 &  96 & 17 & 232 & 1095 & 4015\\\\\n",
       "\t 8877689391 & 5/7/2016  & 12332 &  8.13 &  8.13 & 0 &  0.08 & 0.96 &  6.99 & 0.00 & 105 & 28 & 271 & 1036 & 4142\\\\\n",
       "\t 8877689391 & 5/8/2016  & 10686 &  8.11 &  8.11 & 0 &  1.08 & 0.20 &  6.80 & 0.00 &  17 &  4 & 245 & 1174 & 2847\\\\\n",
       "\t 8877689391 & 5/9/2016  & 20226 & 18.25 & 18.25 & 0 & 11.10 & 0.80 &  6.24 & 0.05 &  73 & 19 & 217 & 1131 & 3710\\\\\n",
       "\t 8877689391 & 5/10/2016 & 10733 &  8.15 &  8.15 & 0 &  1.35 & 0.46 &  6.28 & 0.00 &  18 & 11 & 224 & 1187 & 2832\\\\\n",
       "\t 8877689391 & 5/11/2016 & 21420 & 19.56 & 19.56 & 0 & 13.22 & 0.41 &  5.89 & 0.00 &  88 & 12 & 213 & 1127 & 3832\\\\\n",
       "\t 8877689391 & 5/12/2016 &  8064 &  6.12 &  6.12 & 0 &  1.82 & 0.04 &  4.25 & 0.00 &  23 &  1 & 137 &  770 & 1849\\\\\n",
       "\\end{tabular}\n"
      ],
      "text/markdown": [
       "\n",
       "A tibble: 940 × 15\n",
       "\n",
       "| id &lt;dbl&gt; | activity_date &lt;chr&gt; | total_steps &lt;dbl&gt; | total_distance &lt;dbl&gt; | tracker_distance &lt;dbl&gt; | logged_activities_distance &lt;dbl&gt; | very_active_distance &lt;dbl&gt; | moderately_active_distance &lt;dbl&gt; | light_active_distance &lt;dbl&gt; | sedentary_active_distance &lt;dbl&gt; | very_active_minutes &lt;dbl&gt; | fairly_active_minutes &lt;dbl&gt; | lightly_active_minutes &lt;dbl&gt; | sedentary_minutes &lt;dbl&gt; | calories &lt;dbl&gt; |\n",
       "|---|---|---|---|---|---|---|---|---|---|---|---|---|---|---|\n",
       "| 1503960366 | 4/12/2016 | 13162 |  8.50 |  8.50 | 0 | 1.88 | 0.55 | 6.06 | 0 | 25 | 13 | 328 |  728 | 1985 |\n",
       "| 1503960366 | 4/13/2016 | 10735 |  6.97 |  6.97 | 0 | 1.57 | 0.69 | 4.71 | 0 | 21 | 19 | 217 |  776 | 1797 |\n",
       "| 1503960366 | 4/14/2016 | 10460 |  6.74 |  6.74 | 0 | 2.44 | 0.40 | 3.91 | 0 | 30 | 11 | 181 | 1218 | 1776 |\n",
       "| 1503960366 | 4/15/2016 |  9762 |  6.28 |  6.28 | 0 | 2.14 | 1.26 | 2.83 | 0 | 29 | 34 | 209 |  726 | 1745 |\n",
       "| 1503960366 | 4/16/2016 | 12669 |  8.16 |  8.16 | 0 | 2.71 | 0.41 | 5.04 | 0 | 36 | 10 | 221 |  773 | 1863 |\n",
       "| 1503960366 | 4/17/2016 |  9705 |  6.48 |  6.48 | 0 | 3.19 | 0.78 | 2.51 | 0 | 38 | 20 | 164 |  539 | 1728 |\n",
       "| 1503960366 | 4/18/2016 | 13019 |  8.59 |  8.59 | 0 | 3.25 | 0.64 | 4.71 | 0 | 42 | 16 | 233 | 1149 | 1921 |\n",
       "| 1503960366 | 4/19/2016 | 15506 |  9.88 |  9.88 | 0 | 3.53 | 1.32 | 5.03 | 0 | 50 | 31 | 264 |  775 | 2035 |\n",
       "| 1503960366 | 4/20/2016 | 10544 |  6.68 |  6.68 | 0 | 1.96 | 0.48 | 4.24 | 0 | 28 | 12 | 205 |  818 | 1786 |\n",
       "| 1503960366 | 4/21/2016 |  9819 |  6.34 |  6.34 | 0 | 1.34 | 0.35 | 4.65 | 0 | 19 |  8 | 211 |  838 | 1775 |\n",
       "| 1503960366 | 4/22/2016 | 12764 |  8.13 |  8.13 | 0 | 4.76 | 1.12 | 2.24 | 0 | 66 | 27 | 130 | 1217 | 1827 |\n",
       "| 1503960366 | 4/23/2016 | 14371 |  9.04 |  9.04 | 0 | 2.81 | 0.87 | 5.36 | 0 | 41 | 21 | 262 |  732 | 1949 |\n",
       "| 1503960366 | 4/24/2016 | 10039 |  6.41 |  6.41 | 0 | 2.92 | 0.21 | 3.28 | 0 | 39 |  5 | 238 |  709 | 1788 |\n",
       "| 1503960366 | 4/25/2016 | 15355 |  9.80 |  9.80 | 0 | 5.29 | 0.57 | 3.94 | 0 | 73 | 14 | 216 |  814 | 2013 |\n",
       "| 1503960366 | 4/26/2016 | 13755 |  8.79 |  8.79 | 0 | 2.33 | 0.92 | 5.54 | 0 | 31 | 23 | 279 |  833 | 1970 |\n",
       "| 1503960366 | 4/27/2016 | 18134 | 12.21 | 12.21 | 0 | 6.40 | 0.41 | 5.41 | 0 | 78 | 11 | 243 | 1108 | 2159 |\n",
       "| 1503960366 | 4/28/2016 | 13154 |  8.53 |  8.53 | 0 | 3.54 | 1.16 | 3.79 | 0 | 48 | 28 | 189 |  782 | 1898 |\n",
       "| 1503960366 | 4/29/2016 | 11181 |  7.15 |  7.15 | 0 | 1.06 | 0.50 | 5.58 | 0 | 16 | 12 | 243 |  815 | 1837 |\n",
       "| 1503960366 | 4/30/2016 | 14673 |  9.25 |  9.25 | 0 | 3.56 | 1.42 | 4.27 | 0 | 52 | 34 | 217 |  712 | 1947 |\n",
       "| 1503960366 | 5/1/2016  | 10602 |  6.81 |  6.81 | 0 | 2.29 | 1.60 | 2.92 | 0 | 33 | 35 | 246 |  730 | 1820 |\n",
       "| 1503960366 | 5/2/2016  | 14727 |  9.71 |  9.71 | 0 | 3.21 | 0.57 | 5.92 | 0 | 41 | 15 | 277 |  798 | 2004 |\n",
       "| 1503960366 | 5/3/2016  | 15103 |  9.66 |  9.66 | 0 | 3.73 | 1.05 | 4.88 | 0 | 50 | 24 | 254 |  816 | 1990 |\n",
       "| 1503960366 | 5/4/2016  | 11100 |  7.15 |  7.15 | 0 | 2.46 | 0.87 | 3.82 | 0 | 36 | 22 | 203 | 1179 | 1819 |\n",
       "| 1503960366 | 5/5/2016  | 14070 |  8.90 |  8.90 | 0 | 2.92 | 1.08 | 4.88 | 0 | 45 | 24 | 250 |  857 | 1959 |\n",
       "| 1503960366 | 5/6/2016  | 12159 |  8.03 |  8.03 | 0 | 1.97 | 0.25 | 5.81 | 0 | 24 |  6 | 289 |  754 | 1896 |\n",
       "| 1503960366 | 5/7/2016  | 11992 |  7.71 |  7.71 | 0 | 2.46 | 2.12 | 3.13 | 0 | 37 | 46 | 175 |  833 | 1821 |\n",
       "| 1503960366 | 5/8/2016  | 10060 |  6.58 |  6.58 | 0 | 3.53 | 0.32 | 2.73 | 0 | 44 |  8 | 203 |  574 | 1740 |\n",
       "| 1503960366 | 5/9/2016  | 12022 |  7.72 |  7.72 | 0 | 3.45 | 0.53 | 3.74 | 0 | 46 | 11 | 206 |  835 | 1819 |\n",
       "| 1503960366 | 5/10/2016 | 12207 |  7.77 |  7.77 | 0 | 3.35 | 1.16 | 3.26 | 0 | 46 | 31 | 214 |  746 | 1859 |\n",
       "| 1503960366 | 5/11/2016 | 12770 |  8.13 |  8.13 | 0 | 2.56 | 1.01 | 4.55 | 0 | 36 | 23 | 251 |  669 | 1783 |\n",
       "| ⋮ | ⋮ | ⋮ | ⋮ | ⋮ | ⋮ | ⋮ | ⋮ | ⋮ | ⋮ | ⋮ | ⋮ | ⋮ | ⋮ | ⋮ |\n",
       "| 8877689391 | 4/13/2016 | 15337 |  9.58 |  9.58 | 0 |  3.55 | 0.38 |  5.64 | 0.00 | 108 | 18 | 216 | 1098 | 3566 |\n",
       "| 8877689391 | 4/14/2016 | 21129 | 18.98 | 18.98 | 0 | 10.55 | 0.59 |  7.75 | 0.02 |  68 | 13 | 298 | 1061 | 3793 |\n",
       "| 8877689391 | 4/15/2016 | 13422 |  7.17 |  7.17 | 0 |  0.05 | 0.05 |  7.01 | 0.01 | 106 |  1 | 281 | 1052 | 3934 |\n",
       "| 8877689391 | 4/16/2016 | 29326 | 25.29 | 25.29 | 0 | 13.24 | 1.21 | 10.71 | 0.00 |  94 | 29 | 429 |  888 | 4547 |\n",
       "| 8877689391 | 4/17/2016 | 15118 |  8.87 |  8.87 | 0 |  0.00 | 0.07 |  8.79 | 0.00 |  58 | 15 | 307 | 1060 | 3545 |\n",
       "| 8877689391 | 4/18/2016 | 11423 |  8.67 |  8.67 | 0 |  2.44 | 0.27 |  5.94 | 0.00 |  29 |  5 | 191 | 1215 | 2761 |\n",
       "| 8877689391 | 4/19/2016 | 18785 | 17.40 | 17.40 | 0 | 12.15 | 0.18 |  5.03 | 0.00 |  82 | 13 | 214 | 1131 | 3676 |\n",
       "| 8877689391 | 4/20/2016 | 19948 | 18.11 | 18.11 | 0 | 11.02 | 0.69 |  6.34 | 0.00 |  73 | 19 | 225 | 1123 | 3679 |\n",
       "| 8877689391 | 4/21/2016 | 19377 | 17.62 | 17.62 | 0 | 12.29 | 0.42 |  4.89 | 0.00 |  82 | 13 | 226 | 1119 | 3659 |\n",
       "| 8877689391 | 4/22/2016 | 18258 | 16.31 | 16.31 | 0 | 10.23 | 0.03 |  5.97 | 0.05 |  61 |  2 | 236 | 1141 | 3427 |\n",
       "| 8877689391 | 4/23/2016 | 11200 |  7.43 |  7.43 | 0 |  0.00 | 0.00 |  7.40 | 0.01 | 102 |  6 | 300 | 1032 | 3891 |\n",
       "| 8877689391 | 4/24/2016 | 16674 | 15.74 | 15.74 | 0 | 11.01 | 0.01 |  4.69 | 0.00 |  64 |  1 | 227 | 1148 | 3455 |\n",
       "| 8877689391 | 4/25/2016 | 12986 |  8.74 |  8.74 | 0 |  2.37 | 0.07 |  6.27 | 0.01 | 113 |  8 | 218 | 1101 | 3802 |\n",
       "| 8877689391 | 4/26/2016 | 11101 |  8.43 |  8.43 | 0 |  1.76 | 0.13 |  6.50 | 0.00 |  22 |  3 | 258 | 1157 | 2860 |\n",
       "| 8877689391 | 4/27/2016 | 23629 | 20.65 | 20.65 | 0 | 13.07 | 0.44 |  7.10 | 0.00 |  93 |  8 | 235 | 1104 | 3808 |\n",
       "| 8877689391 | 4/28/2016 | 14890 | 11.30 | 11.30 | 0 |  4.93 | 0.38 |  5.97 | 0.00 |  58 |  8 | 231 | 1143 | 3060 |\n",
       "| 8877689391 | 4/29/2016 |  9733 |  7.39 |  7.39 | 0 |  1.38 | 0.17 |  5.79 | 0.00 |  18 |  5 | 210 | 1207 | 2698 |\n",
       "| 8877689391 | 4/30/2016 | 27745 | 26.72 | 26.72 | 0 | 21.66 | 0.08 |  4.93 | 0.00 | 124 |  4 | 223 | 1089 | 4398 |\n",
       "| 8877689391 | 5/1/2016  | 10930 |  8.32 |  8.32 | 0 |  3.13 | 0.57 |  4.57 | 0.00 |  36 | 12 | 166 | 1226 | 2786 |\n",
       "| 8877689391 | 5/2/2016  |  4790 |  3.64 |  3.64 | 0 |  0.00 | 0.00 |  3.56 | 0.00 |   0 |  0 | 105 | 1335 | 2189 |\n",
       "| 8877689391 | 5/3/2016  | 10818 |  8.21 |  8.21 | 0 |  1.39 | 0.10 |  6.67 | 0.01 |  19 |  3 | 229 | 1189 | 2817 |\n",
       "| 8877689391 | 5/4/2016  | 18193 | 16.30 | 16.30 | 0 | 10.42 | 0.31 |  5.53 | 0.00 |  66 |  8 | 212 | 1154 | 3477 |\n",
       "| 8877689391 | 5/5/2016  | 14055 | 10.67 | 10.67 | 0 |  5.46 | 0.82 |  4.37 | 0.00 |  67 | 15 | 188 | 1170 | 3052 |\n",
       "| 8877689391 | 5/6/2016  | 21727 | 19.34 | 19.34 | 0 | 12.79 | 0.29 |  6.16 | 0.00 |  96 | 17 | 232 | 1095 | 4015 |\n",
       "| 8877689391 | 5/7/2016  | 12332 |  8.13 |  8.13 | 0 |  0.08 | 0.96 |  6.99 | 0.00 | 105 | 28 | 271 | 1036 | 4142 |\n",
       "| 8877689391 | 5/8/2016  | 10686 |  8.11 |  8.11 | 0 |  1.08 | 0.20 |  6.80 | 0.00 |  17 |  4 | 245 | 1174 | 2847 |\n",
       "| 8877689391 | 5/9/2016  | 20226 | 18.25 | 18.25 | 0 | 11.10 | 0.80 |  6.24 | 0.05 |  73 | 19 | 217 | 1131 | 3710 |\n",
       "| 8877689391 | 5/10/2016 | 10733 |  8.15 |  8.15 | 0 |  1.35 | 0.46 |  6.28 | 0.00 |  18 | 11 | 224 | 1187 | 2832 |\n",
       "| 8877689391 | 5/11/2016 | 21420 | 19.56 | 19.56 | 0 | 13.22 | 0.41 |  5.89 | 0.00 |  88 | 12 | 213 | 1127 | 3832 |\n",
       "| 8877689391 | 5/12/2016 |  8064 |  6.12 |  6.12 | 0 |  1.82 | 0.04 |  4.25 | 0.00 |  23 |  1 | 137 |  770 | 1849 |\n",
       "\n"
      ],
      "text/plain": [
       "    id         activity_date total_steps total_distance tracker_distance\n",
       "1   1503960366 4/12/2016     13162        8.50           8.50           \n",
       "2   1503960366 4/13/2016     10735        6.97           6.97           \n",
       "3   1503960366 4/14/2016     10460        6.74           6.74           \n",
       "4   1503960366 4/15/2016      9762        6.28           6.28           \n",
       "5   1503960366 4/16/2016     12669        8.16           8.16           \n",
       "6   1503960366 4/17/2016      9705        6.48           6.48           \n",
       "7   1503960366 4/18/2016     13019        8.59           8.59           \n",
       "8   1503960366 4/19/2016     15506        9.88           9.88           \n",
       "9   1503960366 4/20/2016     10544        6.68           6.68           \n",
       "10  1503960366 4/21/2016      9819        6.34           6.34           \n",
       "11  1503960366 4/22/2016     12764        8.13           8.13           \n",
       "12  1503960366 4/23/2016     14371        9.04           9.04           \n",
       "13  1503960366 4/24/2016     10039        6.41           6.41           \n",
       "14  1503960366 4/25/2016     15355        9.80           9.80           \n",
       "15  1503960366 4/26/2016     13755        8.79           8.79           \n",
       "16  1503960366 4/27/2016     18134       12.21          12.21           \n",
       "17  1503960366 4/28/2016     13154        8.53           8.53           \n",
       "18  1503960366 4/29/2016     11181        7.15           7.15           \n",
       "19  1503960366 4/30/2016     14673        9.25           9.25           \n",
       "20  1503960366 5/1/2016      10602        6.81           6.81           \n",
       "21  1503960366 5/2/2016      14727        9.71           9.71           \n",
       "22  1503960366 5/3/2016      15103        9.66           9.66           \n",
       "23  1503960366 5/4/2016      11100        7.15           7.15           \n",
       "24  1503960366 5/5/2016      14070        8.90           8.90           \n",
       "25  1503960366 5/6/2016      12159        8.03           8.03           \n",
       "26  1503960366 5/7/2016      11992        7.71           7.71           \n",
       "27  1503960366 5/8/2016      10060        6.58           6.58           \n",
       "28  1503960366 5/9/2016      12022        7.72           7.72           \n",
       "29  1503960366 5/10/2016     12207        7.77           7.77           \n",
       "30  1503960366 5/11/2016     12770        8.13           8.13           \n",
       "⋮   ⋮          ⋮             ⋮           ⋮              ⋮               \n",
       "911 8877689391 4/13/2016     15337        9.58           9.58           \n",
       "912 8877689391 4/14/2016     21129       18.98          18.98           \n",
       "913 8877689391 4/15/2016     13422        7.17           7.17           \n",
       "914 8877689391 4/16/2016     29326       25.29          25.29           \n",
       "915 8877689391 4/17/2016     15118        8.87           8.87           \n",
       "916 8877689391 4/18/2016     11423        8.67           8.67           \n",
       "917 8877689391 4/19/2016     18785       17.40          17.40           \n",
       "918 8877689391 4/20/2016     19948       18.11          18.11           \n",
       "919 8877689391 4/21/2016     19377       17.62          17.62           \n",
       "920 8877689391 4/22/2016     18258       16.31          16.31           \n",
       "921 8877689391 4/23/2016     11200        7.43           7.43           \n",
       "922 8877689391 4/24/2016     16674       15.74          15.74           \n",
       "923 8877689391 4/25/2016     12986        8.74           8.74           \n",
       "924 8877689391 4/26/2016     11101        8.43           8.43           \n",
       "925 8877689391 4/27/2016     23629       20.65          20.65           \n",
       "926 8877689391 4/28/2016     14890       11.30          11.30           \n",
       "927 8877689391 4/29/2016      9733        7.39           7.39           \n",
       "928 8877689391 4/30/2016     27745       26.72          26.72           \n",
       "929 8877689391 5/1/2016      10930        8.32           8.32           \n",
       "930 8877689391 5/2/2016       4790        3.64           3.64           \n",
       "931 8877689391 5/3/2016      10818        8.21           8.21           \n",
       "932 8877689391 5/4/2016      18193       16.30          16.30           \n",
       "933 8877689391 5/5/2016      14055       10.67          10.67           \n",
       "934 8877689391 5/6/2016      21727       19.34          19.34           \n",
       "935 8877689391 5/7/2016      12332        8.13           8.13           \n",
       "936 8877689391 5/8/2016      10686        8.11           8.11           \n",
       "937 8877689391 5/9/2016      20226       18.25          18.25           \n",
       "938 8877689391 5/10/2016     10733        8.15           8.15           \n",
       "939 8877689391 5/11/2016     21420       19.56          19.56           \n",
       "940 8877689391 5/12/2016      8064        6.12           6.12           \n",
       "    logged_activities_distance very_active_distance moderately_active_distance\n",
       "1   0                          1.88                 0.55                      \n",
       "2   0                          1.57                 0.69                      \n",
       "3   0                          2.44                 0.40                      \n",
       "4   0                          2.14                 1.26                      \n",
       "5   0                          2.71                 0.41                      \n",
       "6   0                          3.19                 0.78                      \n",
       "7   0                          3.25                 0.64                      \n",
       "8   0                          3.53                 1.32                      \n",
       "9   0                          1.96                 0.48                      \n",
       "10  0                          1.34                 0.35                      \n",
       "11  0                          4.76                 1.12                      \n",
       "12  0                          2.81                 0.87                      \n",
       "13  0                          2.92                 0.21                      \n",
       "14  0                          5.29                 0.57                      \n",
       "15  0                          2.33                 0.92                      \n",
       "16  0                          6.40                 0.41                      \n",
       "17  0                          3.54                 1.16                      \n",
       "18  0                          1.06                 0.50                      \n",
       "19  0                          3.56                 1.42                      \n",
       "20  0                          2.29                 1.60                      \n",
       "21  0                          3.21                 0.57                      \n",
       "22  0                          3.73                 1.05                      \n",
       "23  0                          2.46                 0.87                      \n",
       "24  0                          2.92                 1.08                      \n",
       "25  0                          1.97                 0.25                      \n",
       "26  0                          2.46                 2.12                      \n",
       "27  0                          3.53                 0.32                      \n",
       "28  0                          3.45                 0.53                      \n",
       "29  0                          3.35                 1.16                      \n",
       "30  0                          2.56                 1.01                      \n",
       "⋮   ⋮                          ⋮                    ⋮                         \n",
       "911 0                           3.55                0.38                      \n",
       "912 0                          10.55                0.59                      \n",
       "913 0                           0.05                0.05                      \n",
       "914 0                          13.24                1.21                      \n",
       "915 0                           0.00                0.07                      \n",
       "916 0                           2.44                0.27                      \n",
       "917 0                          12.15                0.18                      \n",
       "918 0                          11.02                0.69                      \n",
       "919 0                          12.29                0.42                      \n",
       "920 0                          10.23                0.03                      \n",
       "921 0                           0.00                0.00                      \n",
       "922 0                          11.01                0.01                      \n",
       "923 0                           2.37                0.07                      \n",
       "924 0                           1.76                0.13                      \n",
       "925 0                          13.07                0.44                      \n",
       "926 0                           4.93                0.38                      \n",
       "927 0                           1.38                0.17                      \n",
       "928 0                          21.66                0.08                      \n",
       "929 0                           3.13                0.57                      \n",
       "930 0                           0.00                0.00                      \n",
       "931 0                           1.39                0.10                      \n",
       "932 0                          10.42                0.31                      \n",
       "933 0                           5.46                0.82                      \n",
       "934 0                          12.79                0.29                      \n",
       "935 0                           0.08                0.96                      \n",
       "936 0                           1.08                0.20                      \n",
       "937 0                          11.10                0.80                      \n",
       "938 0                           1.35                0.46                      \n",
       "939 0                          13.22                0.41                      \n",
       "940 0                           1.82                0.04                      \n",
       "    light_active_distance sedentary_active_distance very_active_minutes\n",
       "1   6.06                  0                         25                 \n",
       "2   4.71                  0                         21                 \n",
       "3   3.91                  0                         30                 \n",
       "4   2.83                  0                         29                 \n",
       "5   5.04                  0                         36                 \n",
       "6   2.51                  0                         38                 \n",
       "7   4.71                  0                         42                 \n",
       "8   5.03                  0                         50                 \n",
       "9   4.24                  0                         28                 \n",
       "10  4.65                  0                         19                 \n",
       "11  2.24                  0                         66                 \n",
       "12  5.36                  0                         41                 \n",
       "13  3.28                  0                         39                 \n",
       "14  3.94                  0                         73                 \n",
       "15  5.54                  0                         31                 \n",
       "16  5.41                  0                         78                 \n",
       "17  3.79                  0                         48                 \n",
       "18  5.58                  0                         16                 \n",
       "19  4.27                  0                         52                 \n",
       "20  2.92                  0                         33                 \n",
       "21  5.92                  0                         41                 \n",
       "22  4.88                  0                         50                 \n",
       "23  3.82                  0                         36                 \n",
       "24  4.88                  0                         45                 \n",
       "25  5.81                  0                         24                 \n",
       "26  3.13                  0                         37                 \n",
       "27  2.73                  0                         44                 \n",
       "28  3.74                  0                         46                 \n",
       "29  3.26                  0                         46                 \n",
       "30  4.55                  0                         36                 \n",
       "⋮   ⋮                     ⋮                         ⋮                  \n",
       "911  5.64                 0.00                      108                \n",
       "912  7.75                 0.02                       68                \n",
       "913  7.01                 0.01                      106                \n",
       "914 10.71                 0.00                       94                \n",
       "915  8.79                 0.00                       58                \n",
       "916  5.94                 0.00                       29                \n",
       "917  5.03                 0.00                       82                \n",
       "918  6.34                 0.00                       73                \n",
       "919  4.89                 0.00                       82                \n",
       "920  5.97                 0.05                       61                \n",
       "921  7.40                 0.01                      102                \n",
       "922  4.69                 0.00                       64                \n",
       "923  6.27                 0.01                      113                \n",
       "924  6.50                 0.00                       22                \n",
       "925  7.10                 0.00                       93                \n",
       "926  5.97                 0.00                       58                \n",
       "927  5.79                 0.00                       18                \n",
       "928  4.93                 0.00                      124                \n",
       "929  4.57                 0.00                       36                \n",
       "930  3.56                 0.00                        0                \n",
       "931  6.67                 0.01                       19                \n",
       "932  5.53                 0.00                       66                \n",
       "933  4.37                 0.00                       67                \n",
       "934  6.16                 0.00                       96                \n",
       "935  6.99                 0.00                      105                \n",
       "936  6.80                 0.00                       17                \n",
       "937  6.24                 0.05                       73                \n",
       "938  6.28                 0.00                       18                \n",
       "939  5.89                 0.00                       88                \n",
       "940  4.25                 0.00                       23                \n",
       "    fairly_active_minutes lightly_active_minutes sedentary_minutes calories\n",
       "1   13                    328                     728              1985    \n",
       "2   19                    217                     776              1797    \n",
       "3   11                    181                    1218              1776    \n",
       "4   34                    209                     726              1745    \n",
       "5   10                    221                     773              1863    \n",
       "6   20                    164                     539              1728    \n",
       "7   16                    233                    1149              1921    \n",
       "8   31                    264                     775              2035    \n",
       "9   12                    205                     818              1786    \n",
       "10   8                    211                     838              1775    \n",
       "11  27                    130                    1217              1827    \n",
       "12  21                    262                     732              1949    \n",
       "13   5                    238                     709              1788    \n",
       "14  14                    216                     814              2013    \n",
       "15  23                    279                     833              1970    \n",
       "16  11                    243                    1108              2159    \n",
       "17  28                    189                     782              1898    \n",
       "18  12                    243                     815              1837    \n",
       "19  34                    217                     712              1947    \n",
       "20  35                    246                     730              1820    \n",
       "21  15                    277                     798              2004    \n",
       "22  24                    254                     816              1990    \n",
       "23  22                    203                    1179              1819    \n",
       "24  24                    250                     857              1959    \n",
       "25   6                    289                     754              1896    \n",
       "26  46                    175                     833              1821    \n",
       "27   8                    203                     574              1740    \n",
       "28  11                    206                     835              1819    \n",
       "29  31                    214                     746              1859    \n",
       "30  23                    251                     669              1783    \n",
       "⋮   ⋮                     ⋮                      ⋮                 ⋮       \n",
       "911 18                    216                    1098              3566    \n",
       "912 13                    298                    1061              3793    \n",
       "913  1                    281                    1052              3934    \n",
       "914 29                    429                     888              4547    \n",
       "915 15                    307                    1060              3545    \n",
       "916  5                    191                    1215              2761    \n",
       "917 13                    214                    1131              3676    \n",
       "918 19                    225                    1123              3679    \n",
       "919 13                    226                    1119              3659    \n",
       "920  2                    236                    1141              3427    \n",
       "921  6                    300                    1032              3891    \n",
       "922  1                    227                    1148              3455    \n",
       "923  8                    218                    1101              3802    \n",
       "924  3                    258                    1157              2860    \n",
       "925  8                    235                    1104              3808    \n",
       "926  8                    231                    1143              3060    \n",
       "927  5                    210                    1207              2698    \n",
       "928  4                    223                    1089              4398    \n",
       "929 12                    166                    1226              2786    \n",
       "930  0                    105                    1335              2189    \n",
       "931  3                    229                    1189              2817    \n",
       "932  8                    212                    1154              3477    \n",
       "933 15                    188                    1170              3052    \n",
       "934 17                    232                    1095              4015    \n",
       "935 28                    271                    1036              4142    \n",
       "936  4                    245                    1174              2847    \n",
       "937 19                    217                    1131              3710    \n",
       "938 11                    224                    1187              2832    \n",
       "939 12                    213                    1127              3832    \n",
       "940  1                    137                     770              1849    "
      ]
     },
     "metadata": {},
     "output_type": "display_data"
    },
    {
     "data": {
      "text/html": [
       "<table class=\"dataframe\">\n",
       "<caption>A tibble: 22099 × 3</caption>\n",
       "<thead>\n",
       "\t<tr><th scope=col>id</th><th scope=col>activity_hour</th><th scope=col>step_total</th></tr>\n",
       "\t<tr><th scope=col>&lt;dbl&gt;</th><th scope=col>&lt;chr&gt;</th><th scope=col>&lt;dbl&gt;</th></tr>\n",
       "</thead>\n",
       "<tbody>\n",
       "\t<tr><td>1503960366</td><td>4/12/2016 12:00:00 AM</td><td> 373</td></tr>\n",
       "\t<tr><td>1503960366</td><td>4/12/2016 1:00:00 AM </td><td> 160</td></tr>\n",
       "\t<tr><td>1503960366</td><td>4/12/2016 2:00:00 AM </td><td> 151</td></tr>\n",
       "\t<tr><td>1503960366</td><td>4/12/2016 3:00:00 AM </td><td>   0</td></tr>\n",
       "\t<tr><td>1503960366</td><td>4/12/2016 4:00:00 AM </td><td>   0</td></tr>\n",
       "\t<tr><td>1503960366</td><td>4/12/2016 5:00:00 AM </td><td>   0</td></tr>\n",
       "\t<tr><td>1503960366</td><td>4/12/2016 6:00:00 AM </td><td>   0</td></tr>\n",
       "\t<tr><td>1503960366</td><td>4/12/2016 7:00:00 AM </td><td>   0</td></tr>\n",
       "\t<tr><td>1503960366</td><td>4/12/2016 8:00:00 AM </td><td> 250</td></tr>\n",
       "\t<tr><td>1503960366</td><td>4/12/2016 9:00:00 AM </td><td>1864</td></tr>\n",
       "\t<tr><td>1503960366</td><td>4/12/2016 10:00:00 AM</td><td> 676</td></tr>\n",
       "\t<tr><td>1503960366</td><td>4/12/2016 11:00:00 AM</td><td> 360</td></tr>\n",
       "\t<tr><td>1503960366</td><td>4/12/2016 12:00:00 PM</td><td> 253</td></tr>\n",
       "\t<tr><td>1503960366</td><td>4/12/2016 1:00:00 PM </td><td> 221</td></tr>\n",
       "\t<tr><td>1503960366</td><td>4/12/2016 2:00:00 PM </td><td>1166</td></tr>\n",
       "\t<tr><td>1503960366</td><td>4/12/2016 3:00:00 PM </td><td>2063</td></tr>\n",
       "\t<tr><td>1503960366</td><td>4/12/2016 4:00:00 PM </td><td> 344</td></tr>\n",
       "\t<tr><td>1503960366</td><td>4/12/2016 5:00:00 PM </td><td> 489</td></tr>\n",
       "\t<tr><td>1503960366</td><td>4/12/2016 6:00:00 PM </td><td>1386</td></tr>\n",
       "\t<tr><td>1503960366</td><td>4/12/2016 7:00:00 PM </td><td> 558</td></tr>\n",
       "\t<tr><td>1503960366</td><td>4/12/2016 8:00:00 PM </td><td>1733</td></tr>\n",
       "\t<tr><td>1503960366</td><td>4/12/2016 9:00:00 PM </td><td> 684</td></tr>\n",
       "\t<tr><td>1503960366</td><td>4/12/2016 10:00:00 PM</td><td>  89</td></tr>\n",
       "\t<tr><td>1503960366</td><td>4/12/2016 11:00:00 PM</td><td> 338</td></tr>\n",
       "\t<tr><td>1503960366</td><td>4/13/2016 12:00:00 AM</td><td> 144</td></tr>\n",
       "\t<tr><td>1503960366</td><td>4/13/2016 1:00:00 AM </td><td>   0</td></tr>\n",
       "\t<tr><td>1503960366</td><td>4/13/2016 2:00:00 AM </td><td>   0</td></tr>\n",
       "\t<tr><td>1503960366</td><td>4/13/2016 3:00:00 AM </td><td>  36</td></tr>\n",
       "\t<tr><td>1503960366</td><td>4/13/2016 4:00:00 AM </td><td>   0</td></tr>\n",
       "\t<tr><td>1503960366</td><td>4/13/2016 5:00:00 AM </td><td>   0</td></tr>\n",
       "\t<tr><td>⋮</td><td>⋮</td><td>⋮</td></tr>\n",
       "\t<tr><td>8877689391</td><td>5/11/2016 9:00:00 AM </td><td> 338</td></tr>\n",
       "\t<tr><td>8877689391</td><td>5/11/2016 10:00:00 AM</td><td> 295</td></tr>\n",
       "\t<tr><td>8877689391</td><td>5/11/2016 11:00:00 AM</td><td> 974</td></tr>\n",
       "\t<tr><td>8877689391</td><td>5/11/2016 12:00:00 PM</td><td>3929</td></tr>\n",
       "\t<tr><td>8877689391</td><td>5/11/2016 1:00:00 PM </td><td> 481</td></tr>\n",
       "\t<tr><td>8877689391</td><td>5/11/2016 2:00:00 PM </td><td>  37</td></tr>\n",
       "\t<tr><td>8877689391</td><td>5/11/2016 3:00:00 PM </td><td> 416</td></tr>\n",
       "\t<tr><td>8877689391</td><td>5/11/2016 4:00:00 PM </td><td>2869</td></tr>\n",
       "\t<tr><td>8877689391</td><td>5/11/2016 5:00:00 PM </td><td>8357</td></tr>\n",
       "\t<tr><td>8877689391</td><td>5/11/2016 6:00:00 PM </td><td> 920</td></tr>\n",
       "\t<tr><td>8877689391</td><td>5/11/2016 7:00:00 PM </td><td> 408</td></tr>\n",
       "\t<tr><td>8877689391</td><td>5/11/2016 8:00:00 PM </td><td> 633</td></tr>\n",
       "\t<tr><td>8877689391</td><td>5/11/2016 9:00:00 PM </td><td> 228</td></tr>\n",
       "\t<tr><td>8877689391</td><td>5/11/2016 10:00:00 PM</td><td> 109</td></tr>\n",
       "\t<tr><td>8877689391</td><td>5/11/2016 11:00:00 PM</td><td>   0</td></tr>\n",
       "\t<tr><td>8877689391</td><td>5/12/2016 12:00:00 AM</td><td>   0</td></tr>\n",
       "\t<tr><td>8877689391</td><td>5/12/2016 1:00:00 AM </td><td>   0</td></tr>\n",
       "\t<tr><td>8877689391</td><td>5/12/2016 2:00:00 AM </td><td>   0</td></tr>\n",
       "\t<tr><td>8877689391</td><td>5/12/2016 3:00:00 AM </td><td>   0</td></tr>\n",
       "\t<tr><td>8877689391</td><td>5/12/2016 4:00:00 AM </td><td>   0</td></tr>\n",
       "\t<tr><td>8877689391</td><td>5/12/2016 5:00:00 AM </td><td>   0</td></tr>\n",
       "\t<tr><td>8877689391</td><td>5/12/2016 6:00:00 AM </td><td> 254</td></tr>\n",
       "\t<tr><td>8877689391</td><td>5/12/2016 7:00:00 AM </td><td> 574</td></tr>\n",
       "\t<tr><td>8877689391</td><td>5/12/2016 8:00:00 AM </td><td> 765</td></tr>\n",
       "\t<tr><td>8877689391</td><td>5/12/2016 9:00:00 AM </td><td> 164</td></tr>\n",
       "\t<tr><td>8877689391</td><td>5/12/2016 10:00:00 AM</td><td> 514</td></tr>\n",
       "\t<tr><td>8877689391</td><td>5/12/2016 11:00:00 AM</td><td>1407</td></tr>\n",
       "\t<tr><td>8877689391</td><td>5/12/2016 12:00:00 PM</td><td>3135</td></tr>\n",
       "\t<tr><td>8877689391</td><td>5/12/2016 1:00:00 PM </td><td> 307</td></tr>\n",
       "\t<tr><td>8877689391</td><td>5/12/2016 2:00:00 PM </td><td> 457</td></tr>\n",
       "</tbody>\n",
       "</table>\n"
      ],
      "text/latex": [
       "A tibble: 22099 × 3\n",
       "\\begin{tabular}{lll}\n",
       " id & activity\\_hour & step\\_total\\\\\n",
       " <dbl> & <chr> & <dbl>\\\\\n",
       "\\hline\n",
       "\t 1503960366 & 4/12/2016 12:00:00 AM &  373\\\\\n",
       "\t 1503960366 & 4/12/2016 1:00:00 AM  &  160\\\\\n",
       "\t 1503960366 & 4/12/2016 2:00:00 AM  &  151\\\\\n",
       "\t 1503960366 & 4/12/2016 3:00:00 AM  &    0\\\\\n",
       "\t 1503960366 & 4/12/2016 4:00:00 AM  &    0\\\\\n",
       "\t 1503960366 & 4/12/2016 5:00:00 AM  &    0\\\\\n",
       "\t 1503960366 & 4/12/2016 6:00:00 AM  &    0\\\\\n",
       "\t 1503960366 & 4/12/2016 7:00:00 AM  &    0\\\\\n",
       "\t 1503960366 & 4/12/2016 8:00:00 AM  &  250\\\\\n",
       "\t 1503960366 & 4/12/2016 9:00:00 AM  & 1864\\\\\n",
       "\t 1503960366 & 4/12/2016 10:00:00 AM &  676\\\\\n",
       "\t 1503960366 & 4/12/2016 11:00:00 AM &  360\\\\\n",
       "\t 1503960366 & 4/12/2016 12:00:00 PM &  253\\\\\n",
       "\t 1503960366 & 4/12/2016 1:00:00 PM  &  221\\\\\n",
       "\t 1503960366 & 4/12/2016 2:00:00 PM  & 1166\\\\\n",
       "\t 1503960366 & 4/12/2016 3:00:00 PM  & 2063\\\\\n",
       "\t 1503960366 & 4/12/2016 4:00:00 PM  &  344\\\\\n",
       "\t 1503960366 & 4/12/2016 5:00:00 PM  &  489\\\\\n",
       "\t 1503960366 & 4/12/2016 6:00:00 PM  & 1386\\\\\n",
       "\t 1503960366 & 4/12/2016 7:00:00 PM  &  558\\\\\n",
       "\t 1503960366 & 4/12/2016 8:00:00 PM  & 1733\\\\\n",
       "\t 1503960366 & 4/12/2016 9:00:00 PM  &  684\\\\\n",
       "\t 1503960366 & 4/12/2016 10:00:00 PM &   89\\\\\n",
       "\t 1503960366 & 4/12/2016 11:00:00 PM &  338\\\\\n",
       "\t 1503960366 & 4/13/2016 12:00:00 AM &  144\\\\\n",
       "\t 1503960366 & 4/13/2016 1:00:00 AM  &    0\\\\\n",
       "\t 1503960366 & 4/13/2016 2:00:00 AM  &    0\\\\\n",
       "\t 1503960366 & 4/13/2016 3:00:00 AM  &   36\\\\\n",
       "\t 1503960366 & 4/13/2016 4:00:00 AM  &    0\\\\\n",
       "\t 1503960366 & 4/13/2016 5:00:00 AM  &    0\\\\\n",
       "\t ⋮ & ⋮ & ⋮\\\\\n",
       "\t 8877689391 & 5/11/2016 9:00:00 AM  &  338\\\\\n",
       "\t 8877689391 & 5/11/2016 10:00:00 AM &  295\\\\\n",
       "\t 8877689391 & 5/11/2016 11:00:00 AM &  974\\\\\n",
       "\t 8877689391 & 5/11/2016 12:00:00 PM & 3929\\\\\n",
       "\t 8877689391 & 5/11/2016 1:00:00 PM  &  481\\\\\n",
       "\t 8877689391 & 5/11/2016 2:00:00 PM  &   37\\\\\n",
       "\t 8877689391 & 5/11/2016 3:00:00 PM  &  416\\\\\n",
       "\t 8877689391 & 5/11/2016 4:00:00 PM  & 2869\\\\\n",
       "\t 8877689391 & 5/11/2016 5:00:00 PM  & 8357\\\\\n",
       "\t 8877689391 & 5/11/2016 6:00:00 PM  &  920\\\\\n",
       "\t 8877689391 & 5/11/2016 7:00:00 PM  &  408\\\\\n",
       "\t 8877689391 & 5/11/2016 8:00:00 PM  &  633\\\\\n",
       "\t 8877689391 & 5/11/2016 9:00:00 PM  &  228\\\\\n",
       "\t 8877689391 & 5/11/2016 10:00:00 PM &  109\\\\\n",
       "\t 8877689391 & 5/11/2016 11:00:00 PM &    0\\\\\n",
       "\t 8877689391 & 5/12/2016 12:00:00 AM &    0\\\\\n",
       "\t 8877689391 & 5/12/2016 1:00:00 AM  &    0\\\\\n",
       "\t 8877689391 & 5/12/2016 2:00:00 AM  &    0\\\\\n",
       "\t 8877689391 & 5/12/2016 3:00:00 AM  &    0\\\\\n",
       "\t 8877689391 & 5/12/2016 4:00:00 AM  &    0\\\\\n",
       "\t 8877689391 & 5/12/2016 5:00:00 AM  &    0\\\\\n",
       "\t 8877689391 & 5/12/2016 6:00:00 AM  &  254\\\\\n",
       "\t 8877689391 & 5/12/2016 7:00:00 AM  &  574\\\\\n",
       "\t 8877689391 & 5/12/2016 8:00:00 AM  &  765\\\\\n",
       "\t 8877689391 & 5/12/2016 9:00:00 AM  &  164\\\\\n",
       "\t 8877689391 & 5/12/2016 10:00:00 AM &  514\\\\\n",
       "\t 8877689391 & 5/12/2016 11:00:00 AM & 1407\\\\\n",
       "\t 8877689391 & 5/12/2016 12:00:00 PM & 3135\\\\\n",
       "\t 8877689391 & 5/12/2016 1:00:00 PM  &  307\\\\\n",
       "\t 8877689391 & 5/12/2016 2:00:00 PM  &  457\\\\\n",
       "\\end{tabular}\n"
      ],
      "text/markdown": [
       "\n",
       "A tibble: 22099 × 3\n",
       "\n",
       "| id &lt;dbl&gt; | activity_hour &lt;chr&gt; | step_total &lt;dbl&gt; |\n",
       "|---|---|---|\n",
       "| 1503960366 | 4/12/2016 12:00:00 AM |  373 |\n",
       "| 1503960366 | 4/12/2016 1:00:00 AM  |  160 |\n",
       "| 1503960366 | 4/12/2016 2:00:00 AM  |  151 |\n",
       "| 1503960366 | 4/12/2016 3:00:00 AM  |    0 |\n",
       "| 1503960366 | 4/12/2016 4:00:00 AM  |    0 |\n",
       "| 1503960366 | 4/12/2016 5:00:00 AM  |    0 |\n",
       "| 1503960366 | 4/12/2016 6:00:00 AM  |    0 |\n",
       "| 1503960366 | 4/12/2016 7:00:00 AM  |    0 |\n",
       "| 1503960366 | 4/12/2016 8:00:00 AM  |  250 |\n",
       "| 1503960366 | 4/12/2016 9:00:00 AM  | 1864 |\n",
       "| 1503960366 | 4/12/2016 10:00:00 AM |  676 |\n",
       "| 1503960366 | 4/12/2016 11:00:00 AM |  360 |\n",
       "| 1503960366 | 4/12/2016 12:00:00 PM |  253 |\n",
       "| 1503960366 | 4/12/2016 1:00:00 PM  |  221 |\n",
       "| 1503960366 | 4/12/2016 2:00:00 PM  | 1166 |\n",
       "| 1503960366 | 4/12/2016 3:00:00 PM  | 2063 |\n",
       "| 1503960366 | 4/12/2016 4:00:00 PM  |  344 |\n",
       "| 1503960366 | 4/12/2016 5:00:00 PM  |  489 |\n",
       "| 1503960366 | 4/12/2016 6:00:00 PM  | 1386 |\n",
       "| 1503960366 | 4/12/2016 7:00:00 PM  |  558 |\n",
       "| 1503960366 | 4/12/2016 8:00:00 PM  | 1733 |\n",
       "| 1503960366 | 4/12/2016 9:00:00 PM  |  684 |\n",
       "| 1503960366 | 4/12/2016 10:00:00 PM |   89 |\n",
       "| 1503960366 | 4/12/2016 11:00:00 PM |  338 |\n",
       "| 1503960366 | 4/13/2016 12:00:00 AM |  144 |\n",
       "| 1503960366 | 4/13/2016 1:00:00 AM  |    0 |\n",
       "| 1503960366 | 4/13/2016 2:00:00 AM  |    0 |\n",
       "| 1503960366 | 4/13/2016 3:00:00 AM  |   36 |\n",
       "| 1503960366 | 4/13/2016 4:00:00 AM  |    0 |\n",
       "| 1503960366 | 4/13/2016 5:00:00 AM  |    0 |\n",
       "| ⋮ | ⋮ | ⋮ |\n",
       "| 8877689391 | 5/11/2016 9:00:00 AM  |  338 |\n",
       "| 8877689391 | 5/11/2016 10:00:00 AM |  295 |\n",
       "| 8877689391 | 5/11/2016 11:00:00 AM |  974 |\n",
       "| 8877689391 | 5/11/2016 12:00:00 PM | 3929 |\n",
       "| 8877689391 | 5/11/2016 1:00:00 PM  |  481 |\n",
       "| 8877689391 | 5/11/2016 2:00:00 PM  |   37 |\n",
       "| 8877689391 | 5/11/2016 3:00:00 PM  |  416 |\n",
       "| 8877689391 | 5/11/2016 4:00:00 PM  | 2869 |\n",
       "| 8877689391 | 5/11/2016 5:00:00 PM  | 8357 |\n",
       "| 8877689391 | 5/11/2016 6:00:00 PM  |  920 |\n",
       "| 8877689391 | 5/11/2016 7:00:00 PM  |  408 |\n",
       "| 8877689391 | 5/11/2016 8:00:00 PM  |  633 |\n",
       "| 8877689391 | 5/11/2016 9:00:00 PM  |  228 |\n",
       "| 8877689391 | 5/11/2016 10:00:00 PM |  109 |\n",
       "| 8877689391 | 5/11/2016 11:00:00 PM |    0 |\n",
       "| 8877689391 | 5/12/2016 12:00:00 AM |    0 |\n",
       "| 8877689391 | 5/12/2016 1:00:00 AM  |    0 |\n",
       "| 8877689391 | 5/12/2016 2:00:00 AM  |    0 |\n",
       "| 8877689391 | 5/12/2016 3:00:00 AM  |    0 |\n",
       "| 8877689391 | 5/12/2016 4:00:00 AM  |    0 |\n",
       "| 8877689391 | 5/12/2016 5:00:00 AM  |    0 |\n",
       "| 8877689391 | 5/12/2016 6:00:00 AM  |  254 |\n",
       "| 8877689391 | 5/12/2016 7:00:00 AM  |  574 |\n",
       "| 8877689391 | 5/12/2016 8:00:00 AM  |  765 |\n",
       "| 8877689391 | 5/12/2016 9:00:00 AM  |  164 |\n",
       "| 8877689391 | 5/12/2016 10:00:00 AM |  514 |\n",
       "| 8877689391 | 5/12/2016 11:00:00 AM | 1407 |\n",
       "| 8877689391 | 5/12/2016 12:00:00 PM | 3135 |\n",
       "| 8877689391 | 5/12/2016 1:00:00 PM  |  307 |\n",
       "| 8877689391 | 5/12/2016 2:00:00 PM  |  457 |\n",
       "\n"
      ],
      "text/plain": [
       "      id         activity_hour         step_total\n",
       "1     1503960366 4/12/2016 12:00:00 AM  373      \n",
       "2     1503960366 4/12/2016 1:00:00 AM   160      \n",
       "3     1503960366 4/12/2016 2:00:00 AM   151      \n",
       "4     1503960366 4/12/2016 3:00:00 AM     0      \n",
       "5     1503960366 4/12/2016 4:00:00 AM     0      \n",
       "6     1503960366 4/12/2016 5:00:00 AM     0      \n",
       "7     1503960366 4/12/2016 6:00:00 AM     0      \n",
       "8     1503960366 4/12/2016 7:00:00 AM     0      \n",
       "9     1503960366 4/12/2016 8:00:00 AM   250      \n",
       "10    1503960366 4/12/2016 9:00:00 AM  1864      \n",
       "11    1503960366 4/12/2016 10:00:00 AM  676      \n",
       "12    1503960366 4/12/2016 11:00:00 AM  360      \n",
       "13    1503960366 4/12/2016 12:00:00 PM  253      \n",
       "14    1503960366 4/12/2016 1:00:00 PM   221      \n",
       "15    1503960366 4/12/2016 2:00:00 PM  1166      \n",
       "16    1503960366 4/12/2016 3:00:00 PM  2063      \n",
       "17    1503960366 4/12/2016 4:00:00 PM   344      \n",
       "18    1503960366 4/12/2016 5:00:00 PM   489      \n",
       "19    1503960366 4/12/2016 6:00:00 PM  1386      \n",
       "20    1503960366 4/12/2016 7:00:00 PM   558      \n",
       "21    1503960366 4/12/2016 8:00:00 PM  1733      \n",
       "22    1503960366 4/12/2016 9:00:00 PM   684      \n",
       "23    1503960366 4/12/2016 10:00:00 PM   89      \n",
       "24    1503960366 4/12/2016 11:00:00 PM  338      \n",
       "25    1503960366 4/13/2016 12:00:00 AM  144      \n",
       "26    1503960366 4/13/2016 1:00:00 AM     0      \n",
       "27    1503960366 4/13/2016 2:00:00 AM     0      \n",
       "28    1503960366 4/13/2016 3:00:00 AM    36      \n",
       "29    1503960366 4/13/2016 4:00:00 AM     0      \n",
       "30    1503960366 4/13/2016 5:00:00 AM     0      \n",
       "⋮     ⋮          ⋮                     ⋮         \n",
       "22070 8877689391 5/11/2016 9:00:00 AM   338      \n",
       "22071 8877689391 5/11/2016 10:00:00 AM  295      \n",
       "22072 8877689391 5/11/2016 11:00:00 AM  974      \n",
       "22073 8877689391 5/11/2016 12:00:00 PM 3929      \n",
       "22074 8877689391 5/11/2016 1:00:00 PM   481      \n",
       "22075 8877689391 5/11/2016 2:00:00 PM    37      \n",
       "22076 8877689391 5/11/2016 3:00:00 PM   416      \n",
       "22077 8877689391 5/11/2016 4:00:00 PM  2869      \n",
       "22078 8877689391 5/11/2016 5:00:00 PM  8357      \n",
       "22079 8877689391 5/11/2016 6:00:00 PM   920      \n",
       "22080 8877689391 5/11/2016 7:00:00 PM   408      \n",
       "22081 8877689391 5/11/2016 8:00:00 PM   633      \n",
       "22082 8877689391 5/11/2016 9:00:00 PM   228      \n",
       "22083 8877689391 5/11/2016 10:00:00 PM  109      \n",
       "22084 8877689391 5/11/2016 11:00:00 PM    0      \n",
       "22085 8877689391 5/12/2016 12:00:00 AM    0      \n",
       "22086 8877689391 5/12/2016 1:00:00 AM     0      \n",
       "22087 8877689391 5/12/2016 2:00:00 AM     0      \n",
       "22088 8877689391 5/12/2016 3:00:00 AM     0      \n",
       "22089 8877689391 5/12/2016 4:00:00 AM     0      \n",
       "22090 8877689391 5/12/2016 5:00:00 AM     0      \n",
       "22091 8877689391 5/12/2016 6:00:00 AM   254      \n",
       "22092 8877689391 5/12/2016 7:00:00 AM   574      \n",
       "22093 8877689391 5/12/2016 8:00:00 AM   765      \n",
       "22094 8877689391 5/12/2016 9:00:00 AM   164      \n",
       "22095 8877689391 5/12/2016 10:00:00 AM  514      \n",
       "22096 8877689391 5/12/2016 11:00:00 AM 1407      \n",
       "22097 8877689391 5/12/2016 12:00:00 PM 3135      \n",
       "22098 8877689391 5/12/2016 1:00:00 PM   307      \n",
       "22099 8877689391 5/12/2016 2:00:00 PM   457      "
      ]
     },
     "metadata": {},
     "output_type": "display_data"
    }
   ],
   "source": [
    "clean_names(sleep_day)\n",
    "sleep_day <- rename_with(sleep_day, tolower)\n",
    "\n",
    "clean_names(daily_activity)\n",
    "daily_activity<- rename_with(daily_activity, tolower)\n",
    "\n",
    "clean_names(hourly_steps)\n",
    "hourly_steps <- rename_with(hourly_steps, tolower)"
   ]
  },
  {
   "cell_type": "markdown",
   "id": "748e6f8e",
   "metadata": {
    "papermill": {
     "duration": 0.174437,
     "end_time": "2022-01-10T19:07:55.599185",
     "exception": false,
     "start_time": "2022-01-10T19:07:55.424748",
     "status": "completed"
    },
    "tags": []
   },
   "source": [
    "# <span style=\"color:#FA8072; font-size:14px;\"> 4.4.5 Reformating Date and Time Columns </span>\n",
    "This applies to the daily_activity and sleep_day files. We will remove the time component in sleep_day. \n",
    "For hourly_steps, the date will be converted from date string to date-time"
   ]
  },
  {
   "cell_type": "code",
   "execution_count": 8,
   "id": "12827b5b",
   "metadata": {
    "execution": {
     "iopub.execute_input": "2022-01-10T19:07:55.997472Z",
     "iopub.status.busy": "2022-01-10T19:07:55.995104Z",
     "iopub.status.idle": "2022-01-10T19:07:56.084569Z",
     "shell.execute_reply": "2022-01-10T19:07:56.082768Z"
    },
    "papermill": {
     "duration": 0.306891,
     "end_time": "2022-01-10T19:07:56.084774",
     "exception": false,
     "start_time": "2022-01-10T19:07:55.777883",
     "status": "completed"
    },
    "tags": []
   },
   "outputs": [
    {
     "name": "stderr",
     "output_type": "stream",
     "text": [
      "Warning message:\n",
      "“`tz` argument is ignored by `as_date()`”\n"
     ]
    }
   ],
   "source": [
    "sleep_day <- sleep_day %>%\n",
    "  rename(date = sleepday) %>%\n",
    "  mutate(date = as_date(date,format =\"%m/%d/%Y %I:%M:%S %p\" , tz=Sys.timezone()))\n",
    "\n",
    "daily_activity <- daily_activity %>%\n",
    "  rename(date = activitydate) %>%\n",
    "  mutate(date = as_date(date, format = \"%m/%d/%Y\"))\n",
    "\n",
    "hourly_steps<- hourly_steps %>% \n",
    "  rename(date_time = activityhour) %>% \n",
    "  mutate(date_time = as.POSIXct(date_time,format =\"%m/%d/%Y %I:%M:%S %p\" , tz=Sys.timezone()))\n"
   ]
  },
  {
   "cell_type": "code",
   "execution_count": 9,
   "id": "3e62acc5",
   "metadata": {
    "execution": {
     "iopub.execute_input": "2022-01-10T19:07:56.451120Z",
     "iopub.status.busy": "2022-01-10T19:07:56.449147Z",
     "iopub.status.idle": "2022-01-10T19:07:56.523330Z",
     "shell.execute_reply": "2022-01-10T19:07:56.521518Z"
    },
    "papermill": {
     "duration": 0.259687,
     "end_time": "2022-01-10T19:07:56.523526",
     "exception": false,
     "start_time": "2022-01-10T19:07:56.263839",
     "status": "completed"
    },
    "tags": []
   },
   "outputs": [
    {
     "data": {
      "text/html": [
       "<table class=\"dataframe\">\n",
       "<caption>A tibble: 6 × 5</caption>\n",
       "<thead>\n",
       "\t<tr><th scope=col>id</th><th scope=col>date</th><th scope=col>totalsleeprecords</th><th scope=col>totalminutesasleep</th><th scope=col>totaltimeinbed</th></tr>\n",
       "\t<tr><th scope=col>&lt;dbl&gt;</th><th scope=col>&lt;date&gt;</th><th scope=col>&lt;dbl&gt;</th><th scope=col>&lt;dbl&gt;</th><th scope=col>&lt;dbl&gt;</th></tr>\n",
       "</thead>\n",
       "<tbody>\n",
       "\t<tr><td>1503960366</td><td>2016-04-12</td><td>1</td><td>327</td><td>346</td></tr>\n",
       "\t<tr><td>1503960366</td><td>2016-04-13</td><td>2</td><td>384</td><td>407</td></tr>\n",
       "\t<tr><td>1503960366</td><td>2016-04-15</td><td>1</td><td>412</td><td>442</td></tr>\n",
       "\t<tr><td>1503960366</td><td>2016-04-16</td><td>2</td><td>340</td><td>367</td></tr>\n",
       "\t<tr><td>1503960366</td><td>2016-04-17</td><td>1</td><td>700</td><td>712</td></tr>\n",
       "\t<tr><td>1503960366</td><td>2016-04-19</td><td>1</td><td>304</td><td>320</td></tr>\n",
       "</tbody>\n",
       "</table>\n"
      ],
      "text/latex": [
       "A tibble: 6 × 5\n",
       "\\begin{tabular}{lllll}\n",
       " id & date & totalsleeprecords & totalminutesasleep & totaltimeinbed\\\\\n",
       " <dbl> & <date> & <dbl> & <dbl> & <dbl>\\\\\n",
       "\\hline\n",
       "\t 1503960366 & 2016-04-12 & 1 & 327 & 346\\\\\n",
       "\t 1503960366 & 2016-04-13 & 2 & 384 & 407\\\\\n",
       "\t 1503960366 & 2016-04-15 & 1 & 412 & 442\\\\\n",
       "\t 1503960366 & 2016-04-16 & 2 & 340 & 367\\\\\n",
       "\t 1503960366 & 2016-04-17 & 1 & 700 & 712\\\\\n",
       "\t 1503960366 & 2016-04-19 & 1 & 304 & 320\\\\\n",
       "\\end{tabular}\n"
      ],
      "text/markdown": [
       "\n",
       "A tibble: 6 × 5\n",
       "\n",
       "| id &lt;dbl&gt; | date &lt;date&gt; | totalsleeprecords &lt;dbl&gt; | totalminutesasleep &lt;dbl&gt; | totaltimeinbed &lt;dbl&gt; |\n",
       "|---|---|---|---|---|\n",
       "| 1503960366 | 2016-04-12 | 1 | 327 | 346 |\n",
       "| 1503960366 | 2016-04-13 | 2 | 384 | 407 |\n",
       "| 1503960366 | 2016-04-15 | 1 | 412 | 442 |\n",
       "| 1503960366 | 2016-04-16 | 2 | 340 | 367 |\n",
       "| 1503960366 | 2016-04-17 | 1 | 700 | 712 |\n",
       "| 1503960366 | 2016-04-19 | 1 | 304 | 320 |\n",
       "\n"
      ],
      "text/plain": [
       "  id         date       totalsleeprecords totalminutesasleep totaltimeinbed\n",
       "1 1503960366 2016-04-12 1                 327                346           \n",
       "2 1503960366 2016-04-13 2                 384                407           \n",
       "3 1503960366 2016-04-15 1                 412                442           \n",
       "4 1503960366 2016-04-16 2                 340                367           \n",
       "5 1503960366 2016-04-17 1                 700                712           \n",
       "6 1503960366 2016-04-19 1                 304                320           "
      ]
     },
     "metadata": {},
     "output_type": "display_data"
    },
    {
     "data": {
      "text/html": [
       "<table class=\"dataframe\">\n",
       "<caption>A tibble: 6 × 15</caption>\n",
       "<thead>\n",
       "\t<tr><th scope=col>id</th><th scope=col>date</th><th scope=col>totalsteps</th><th scope=col>totaldistance</th><th scope=col>trackerdistance</th><th scope=col>loggedactivitiesdistance</th><th scope=col>veryactivedistance</th><th scope=col>moderatelyactivedistance</th><th scope=col>lightactivedistance</th><th scope=col>sedentaryactivedistance</th><th scope=col>veryactiveminutes</th><th scope=col>fairlyactiveminutes</th><th scope=col>lightlyactiveminutes</th><th scope=col>sedentaryminutes</th><th scope=col>calories</th></tr>\n",
       "\t<tr><th scope=col>&lt;dbl&gt;</th><th scope=col>&lt;date&gt;</th><th scope=col>&lt;dbl&gt;</th><th scope=col>&lt;dbl&gt;</th><th scope=col>&lt;dbl&gt;</th><th scope=col>&lt;dbl&gt;</th><th scope=col>&lt;dbl&gt;</th><th scope=col>&lt;dbl&gt;</th><th scope=col>&lt;dbl&gt;</th><th scope=col>&lt;dbl&gt;</th><th scope=col>&lt;dbl&gt;</th><th scope=col>&lt;dbl&gt;</th><th scope=col>&lt;dbl&gt;</th><th scope=col>&lt;dbl&gt;</th><th scope=col>&lt;dbl&gt;</th></tr>\n",
       "</thead>\n",
       "<tbody>\n",
       "\t<tr><td>1503960366</td><td>2016-04-12</td><td>13162</td><td>8.50</td><td>8.50</td><td>0</td><td>1.88</td><td>0.55</td><td>6.06</td><td>0</td><td>25</td><td>13</td><td>328</td><td> 728</td><td>1985</td></tr>\n",
       "\t<tr><td>1503960366</td><td>2016-04-13</td><td>10735</td><td>6.97</td><td>6.97</td><td>0</td><td>1.57</td><td>0.69</td><td>4.71</td><td>0</td><td>21</td><td>19</td><td>217</td><td> 776</td><td>1797</td></tr>\n",
       "\t<tr><td>1503960366</td><td>2016-04-14</td><td>10460</td><td>6.74</td><td>6.74</td><td>0</td><td>2.44</td><td>0.40</td><td>3.91</td><td>0</td><td>30</td><td>11</td><td>181</td><td>1218</td><td>1776</td></tr>\n",
       "\t<tr><td>1503960366</td><td>2016-04-15</td><td> 9762</td><td>6.28</td><td>6.28</td><td>0</td><td>2.14</td><td>1.26</td><td>2.83</td><td>0</td><td>29</td><td>34</td><td>209</td><td> 726</td><td>1745</td></tr>\n",
       "\t<tr><td>1503960366</td><td>2016-04-16</td><td>12669</td><td>8.16</td><td>8.16</td><td>0</td><td>2.71</td><td>0.41</td><td>5.04</td><td>0</td><td>36</td><td>10</td><td>221</td><td> 773</td><td>1863</td></tr>\n",
       "\t<tr><td>1503960366</td><td>2016-04-17</td><td> 9705</td><td>6.48</td><td>6.48</td><td>0</td><td>3.19</td><td>0.78</td><td>2.51</td><td>0</td><td>38</td><td>20</td><td>164</td><td> 539</td><td>1728</td></tr>\n",
       "</tbody>\n",
       "</table>\n"
      ],
      "text/latex": [
       "A tibble: 6 × 15\n",
       "\\begin{tabular}{lllllllllllllll}\n",
       " id & date & totalsteps & totaldistance & trackerdistance & loggedactivitiesdistance & veryactivedistance & moderatelyactivedistance & lightactivedistance & sedentaryactivedistance & veryactiveminutes & fairlyactiveminutes & lightlyactiveminutes & sedentaryminutes & calories\\\\\n",
       " <dbl> & <date> & <dbl> & <dbl> & <dbl> & <dbl> & <dbl> & <dbl> & <dbl> & <dbl> & <dbl> & <dbl> & <dbl> & <dbl> & <dbl>\\\\\n",
       "\\hline\n",
       "\t 1503960366 & 2016-04-12 & 13162 & 8.50 & 8.50 & 0 & 1.88 & 0.55 & 6.06 & 0 & 25 & 13 & 328 &  728 & 1985\\\\\n",
       "\t 1503960366 & 2016-04-13 & 10735 & 6.97 & 6.97 & 0 & 1.57 & 0.69 & 4.71 & 0 & 21 & 19 & 217 &  776 & 1797\\\\\n",
       "\t 1503960366 & 2016-04-14 & 10460 & 6.74 & 6.74 & 0 & 2.44 & 0.40 & 3.91 & 0 & 30 & 11 & 181 & 1218 & 1776\\\\\n",
       "\t 1503960366 & 2016-04-15 &  9762 & 6.28 & 6.28 & 0 & 2.14 & 1.26 & 2.83 & 0 & 29 & 34 & 209 &  726 & 1745\\\\\n",
       "\t 1503960366 & 2016-04-16 & 12669 & 8.16 & 8.16 & 0 & 2.71 & 0.41 & 5.04 & 0 & 36 & 10 & 221 &  773 & 1863\\\\\n",
       "\t 1503960366 & 2016-04-17 &  9705 & 6.48 & 6.48 & 0 & 3.19 & 0.78 & 2.51 & 0 & 38 & 20 & 164 &  539 & 1728\\\\\n",
       "\\end{tabular}\n"
      ],
      "text/markdown": [
       "\n",
       "A tibble: 6 × 15\n",
       "\n",
       "| id &lt;dbl&gt; | date &lt;date&gt; | totalsteps &lt;dbl&gt; | totaldistance &lt;dbl&gt; | trackerdistance &lt;dbl&gt; | loggedactivitiesdistance &lt;dbl&gt; | veryactivedistance &lt;dbl&gt; | moderatelyactivedistance &lt;dbl&gt; | lightactivedistance &lt;dbl&gt; | sedentaryactivedistance &lt;dbl&gt; | veryactiveminutes &lt;dbl&gt; | fairlyactiveminutes &lt;dbl&gt; | lightlyactiveminutes &lt;dbl&gt; | sedentaryminutes &lt;dbl&gt; | calories &lt;dbl&gt; |\n",
       "|---|---|---|---|---|---|---|---|---|---|---|---|---|---|---|\n",
       "| 1503960366 | 2016-04-12 | 13162 | 8.50 | 8.50 | 0 | 1.88 | 0.55 | 6.06 | 0 | 25 | 13 | 328 |  728 | 1985 |\n",
       "| 1503960366 | 2016-04-13 | 10735 | 6.97 | 6.97 | 0 | 1.57 | 0.69 | 4.71 | 0 | 21 | 19 | 217 |  776 | 1797 |\n",
       "| 1503960366 | 2016-04-14 | 10460 | 6.74 | 6.74 | 0 | 2.44 | 0.40 | 3.91 | 0 | 30 | 11 | 181 | 1218 | 1776 |\n",
       "| 1503960366 | 2016-04-15 |  9762 | 6.28 | 6.28 | 0 | 2.14 | 1.26 | 2.83 | 0 | 29 | 34 | 209 |  726 | 1745 |\n",
       "| 1503960366 | 2016-04-16 | 12669 | 8.16 | 8.16 | 0 | 2.71 | 0.41 | 5.04 | 0 | 36 | 10 | 221 |  773 | 1863 |\n",
       "| 1503960366 | 2016-04-17 |  9705 | 6.48 | 6.48 | 0 | 3.19 | 0.78 | 2.51 | 0 | 38 | 20 | 164 |  539 | 1728 |\n",
       "\n"
      ],
      "text/plain": [
       "  id         date       totalsteps totaldistance trackerdistance\n",
       "1 1503960366 2016-04-12 13162      8.50          8.50           \n",
       "2 1503960366 2016-04-13 10735      6.97          6.97           \n",
       "3 1503960366 2016-04-14 10460      6.74          6.74           \n",
       "4 1503960366 2016-04-15  9762      6.28          6.28           \n",
       "5 1503960366 2016-04-16 12669      8.16          8.16           \n",
       "6 1503960366 2016-04-17  9705      6.48          6.48           \n",
       "  loggedactivitiesdistance veryactivedistance moderatelyactivedistance\n",
       "1 0                        1.88               0.55                    \n",
       "2 0                        1.57               0.69                    \n",
       "3 0                        2.44               0.40                    \n",
       "4 0                        2.14               1.26                    \n",
       "5 0                        2.71               0.41                    \n",
       "6 0                        3.19               0.78                    \n",
       "  lightactivedistance sedentaryactivedistance veryactiveminutes\n",
       "1 6.06                0                       25               \n",
       "2 4.71                0                       21               \n",
       "3 3.91                0                       30               \n",
       "4 2.83                0                       29               \n",
       "5 5.04                0                       36               \n",
       "6 2.51                0                       38               \n",
       "  fairlyactiveminutes lightlyactiveminutes sedentaryminutes calories\n",
       "1 13                  328                   728             1985    \n",
       "2 19                  217                   776             1797    \n",
       "3 11                  181                  1218             1776    \n",
       "4 34                  209                   726             1745    \n",
       "5 10                  221                   773             1863    \n",
       "6 20                  164                   539             1728    "
      ]
     },
     "metadata": {},
     "output_type": "display_data"
    },
    {
     "data": {
      "text/html": [
       "<table class=\"dataframe\">\n",
       "<caption>A tibble: 6 × 3</caption>\n",
       "<thead>\n",
       "\t<tr><th scope=col>id</th><th scope=col>date_time</th><th scope=col>steptotal</th></tr>\n",
       "\t<tr><th scope=col>&lt;dbl&gt;</th><th scope=col>&lt;dttm&gt;</th><th scope=col>&lt;dbl&gt;</th></tr>\n",
       "</thead>\n",
       "<tbody>\n",
       "\t<tr><td>1503960366</td><td>2016-04-12 00:00:00</td><td>373</td></tr>\n",
       "\t<tr><td>1503960366</td><td>2016-04-12 01:00:00</td><td>160</td></tr>\n",
       "\t<tr><td>1503960366</td><td>2016-04-12 02:00:00</td><td>151</td></tr>\n",
       "\t<tr><td>1503960366</td><td>2016-04-12 03:00:00</td><td>  0</td></tr>\n",
       "\t<tr><td>1503960366</td><td>2016-04-12 04:00:00</td><td>  0</td></tr>\n",
       "\t<tr><td>1503960366</td><td>2016-04-12 05:00:00</td><td>  0</td></tr>\n",
       "</tbody>\n",
       "</table>\n"
      ],
      "text/latex": [
       "A tibble: 6 × 3\n",
       "\\begin{tabular}{lll}\n",
       " id & date\\_time & steptotal\\\\\n",
       " <dbl> & <dttm> & <dbl>\\\\\n",
       "\\hline\n",
       "\t 1503960366 & 2016-04-12 00:00:00 & 373\\\\\n",
       "\t 1503960366 & 2016-04-12 01:00:00 & 160\\\\\n",
       "\t 1503960366 & 2016-04-12 02:00:00 & 151\\\\\n",
       "\t 1503960366 & 2016-04-12 03:00:00 &   0\\\\\n",
       "\t 1503960366 & 2016-04-12 04:00:00 &   0\\\\\n",
       "\t 1503960366 & 2016-04-12 05:00:00 &   0\\\\\n",
       "\\end{tabular}\n"
      ],
      "text/markdown": [
       "\n",
       "A tibble: 6 × 3\n",
       "\n",
       "| id &lt;dbl&gt; | date_time &lt;dttm&gt; | steptotal &lt;dbl&gt; |\n",
       "|---|---|---|\n",
       "| 1503960366 | 2016-04-12 00:00:00 | 373 |\n",
       "| 1503960366 | 2016-04-12 01:00:00 | 160 |\n",
       "| 1503960366 | 2016-04-12 02:00:00 | 151 |\n",
       "| 1503960366 | 2016-04-12 03:00:00 |   0 |\n",
       "| 1503960366 | 2016-04-12 04:00:00 |   0 |\n",
       "| 1503960366 | 2016-04-12 05:00:00 |   0 |\n",
       "\n"
      ],
      "text/plain": [
       "  id         date_time           steptotal\n",
       "1 1503960366 2016-04-12 00:00:00 373      \n",
       "2 1503960366 2016-04-12 01:00:00 160      \n",
       "3 1503960366 2016-04-12 02:00:00 151      \n",
       "4 1503960366 2016-04-12 03:00:00   0      \n",
       "5 1503960366 2016-04-12 04:00:00   0      \n",
       "6 1503960366 2016-04-12 05:00:00   0      "
      ]
     },
     "metadata": {},
     "output_type": "display_data"
    }
   ],
   "source": [
    "head(sleep_day)\n",
    "head(daily_activity)\n",
    "head(hourly_steps)"
   ]
  },
  {
   "cell_type": "markdown",
   "id": "db3a7951",
   "metadata": {
    "papermill": {
     "duration": 0.188018,
     "end_time": "2022-01-10T19:07:56.902984",
     "exception": false,
     "start_time": "2022-01-10T19:07:56.714966",
     "status": "completed"
    },
    "tags": []
   },
   "source": [
    "# <span style=\"color:#FA8072; font-size:16px;\"> 4.5 Merging Datasets </span>\n",
    "To identify correlation between variables, daily_activity and daily_sleep will be merrged. <br>\n",
    "*Primary Keys: id and date*"
   ]
  },
  {
   "cell_type": "code",
   "execution_count": 10,
   "id": "e8e5935b",
   "metadata": {
    "execution": {
     "iopub.execute_input": "2022-01-10T19:07:57.364805Z",
     "iopub.status.busy": "2022-01-10T19:07:57.362666Z",
     "iopub.status.idle": "2022-01-10T19:07:57.410868Z",
     "shell.execute_reply": "2022-01-10T19:07:57.408944Z"
    },
    "papermill": {
     "duration": 0.287933,
     "end_time": "2022-01-10T19:07:57.411045",
     "exception": false,
     "start_time": "2022-01-10T19:07:57.123112",
     "status": "completed"
    },
    "tags": []
   },
   "outputs": [
    {
     "name": "stdout",
     "output_type": "stream",
     "text": [
      "Rows: 410\n",
      "Columns: 18\n",
      "$ id                       \u001b[3m\u001b[90m<dbl>\u001b[39m\u001b[23m 1503960366, 1503960366, 1503960366, 150396036…\n",
      "$ date                     \u001b[3m\u001b[90m<date>\u001b[39m\u001b[23m 2016-04-12, 2016-04-13, 2016-04-15, 2016-04-…\n",
      "$ totalsteps               \u001b[3m\u001b[90m<dbl>\u001b[39m\u001b[23m 13162, 10735, 9762, 12669, 9705, 15506, 10544…\n",
      "$ totaldistance            \u001b[3m\u001b[90m<dbl>\u001b[39m\u001b[23m 8.50, 6.97, 6.28, 8.16, 6.48, 9.88, 6.68, 6.3…\n",
      "$ trackerdistance          \u001b[3m\u001b[90m<dbl>\u001b[39m\u001b[23m 8.50, 6.97, 6.28, 8.16, 6.48, 9.88, 6.68, 6.3…\n",
      "$ loggedactivitiesdistance \u001b[3m\u001b[90m<dbl>\u001b[39m\u001b[23m 0, 0, 0, 0, 0, 0, 0, 0, 0, 0, 0, 0, 0, 0, 0, …\n",
      "$ veryactivedistance       \u001b[3m\u001b[90m<dbl>\u001b[39m\u001b[23m 1.88, 1.57, 2.14, 2.71, 3.19, 3.53, 1.96, 1.3…\n",
      "$ moderatelyactivedistance \u001b[3m\u001b[90m<dbl>\u001b[39m\u001b[23m 0.55, 0.69, 1.26, 0.41, 0.78, 1.32, 0.48, 0.3…\n",
      "$ lightactivedistance      \u001b[3m\u001b[90m<dbl>\u001b[39m\u001b[23m 6.06, 4.71, 2.83, 5.04, 2.51, 5.03, 4.24, 4.6…\n",
      "$ sedentaryactivedistance  \u001b[3m\u001b[90m<dbl>\u001b[39m\u001b[23m 0, 0, 0, 0, 0, 0, 0, 0, 0, 0, 0, 0, 0, 0, 0, …\n",
      "$ veryactiveminutes        \u001b[3m\u001b[90m<dbl>\u001b[39m\u001b[23m 25, 21, 29, 36, 38, 50, 28, 19, 41, 39, 73, 3…\n",
      "$ fairlyactiveminutes      \u001b[3m\u001b[90m<dbl>\u001b[39m\u001b[23m 13, 19, 34, 10, 20, 31, 12, 8, 21, 5, 14, 23,…\n",
      "$ lightlyactiveminutes     \u001b[3m\u001b[90m<dbl>\u001b[39m\u001b[23m 328, 217, 209, 221, 164, 264, 205, 211, 262, …\n",
      "$ sedentaryminutes         \u001b[3m\u001b[90m<dbl>\u001b[39m\u001b[23m 728, 776, 726, 773, 539, 775, 818, 838, 732, …\n",
      "$ calories                 \u001b[3m\u001b[90m<dbl>\u001b[39m\u001b[23m 1985, 1797, 1745, 1863, 1728, 2035, 1786, 177…\n",
      "$ totalsleeprecords        \u001b[3m\u001b[90m<dbl>\u001b[39m\u001b[23m 1, 2, 1, 2, 1, 1, 1, 1, 1, 1, 1, 1, 1, 1, 1, …\n",
      "$ totalminutesasleep       \u001b[3m\u001b[90m<dbl>\u001b[39m\u001b[23m 327, 384, 412, 340, 700, 304, 360, 325, 361, …\n",
      "$ totaltimeinbed           \u001b[3m\u001b[90m<dbl>\u001b[39m\u001b[23m 346, 407, 442, 367, 712, 320, 377, 364, 384, …\n"
     ]
    }
   ],
   "source": [
    "daily_activity_sleep <- merge(daily_activity, sleep_day, by=c (\"id\", \"date\"))\n",
    "glimpse(daily_activity_sleep)"
   ]
  },
  {
   "cell_type": "markdown",
   "id": "9d00b49f",
   "metadata": {
    "papermill": {
     "duration": 0.186295,
     "end_time": "2022-01-10T19:07:57.782552",
     "exception": false,
     "start_time": "2022-01-10T19:07:57.596257",
     "status": "completed"
    },
    "tags": []
   },
   "source": [
    "# <span style=\"color:#FA8072; font-size:20px;\"> 5. Analyze Phase </span>\n",
    "By analyzing trends from the Fitbit users, it will help determine how to go about BellaBeat's marketing stratedgy and achieve our three main goals.\n",
    "# <span style=\"color:#FA8072; font-size:16px;\"> 5.1 Step Usage </span>\n",
    "To better understand the data, I will classify the activity of users in the following three categories:\n",
    "* Low: Less than 5,000 steps a day\n",
    "* Medium: Between 5,000 and 99,999 steps a day\n",
    "* High: More than 10,000 steps a day\n",
    "\n",
    "In order to do this, I will calculate the daily average steps per user"
   ]
  },
  {
   "cell_type": "code",
   "execution_count": 11,
   "id": "ae863cec",
   "metadata": {
    "execution": {
     "iopub.execute_input": "2022-01-10T19:07:58.188656Z",
     "iopub.status.busy": "2022-01-10T19:07:58.186835Z",
     "iopub.status.idle": "2022-01-10T19:07:58.216934Z",
     "shell.execute_reply": "2022-01-10T19:07:58.215248Z"
    },
    "papermill": {
     "duration": 0.23832,
     "end_time": "2022-01-10T19:07:58.217121",
     "exception": false,
     "start_time": "2022-01-10T19:07:57.978801",
     "status": "completed"
    },
    "tags": []
   },
   "outputs": [],
   "source": [
    "daily_average <- daily_activity_sleep %>%\n",
    "  group_by(id) %>%\n",
    "  summarise (mean_daily_steps = mean(totalsteps), mean_daily_calories = mean(calories), mean_daily_sleep = mean(totalminutesasleep))\n"
   ]
  },
  {
   "cell_type": "code",
   "execution_count": 12,
   "id": "dc1193e8",
   "metadata": {
    "execution": {
     "iopub.execute_input": "2022-01-10T19:07:58.595136Z",
     "iopub.status.busy": "2022-01-10T19:07:58.593056Z",
     "iopub.status.idle": "2022-01-10T19:07:58.631062Z",
     "shell.execute_reply": "2022-01-10T19:07:58.629325Z"
    },
    "papermill": {
     "duration": 0.227857,
     "end_time": "2022-01-10T19:07:58.631220",
     "exception": false,
     "start_time": "2022-01-10T19:07:58.403363",
     "status": "completed"
    },
    "tags": []
   },
   "outputs": [
    {
     "data": {
      "text/html": [
       "<table class=\"dataframe\">\n",
       "<caption>A tibble: 6 × 5</caption>\n",
       "<thead>\n",
       "\t<tr><th scope=col>id</th><th scope=col>mean_daily_steps</th><th scope=col>mean_daily_calories</th><th scope=col>mean_daily_sleep</th><th scope=col>user_category</th></tr>\n",
       "\t<tr><th scope=col>&lt;dbl&gt;</th><th scope=col>&lt;dbl&gt;</th><th scope=col>&lt;dbl&gt;</th><th scope=col>&lt;dbl&gt;</th><th scope=col>&lt;chr&gt;</th></tr>\n",
       "</thead>\n",
       "<tbody>\n",
       "\t<tr><td>1503960366</td><td>12405.680</td><td>1872.280</td><td>360.2800</td><td>high  </td></tr>\n",
       "\t<tr><td>1644430081</td><td> 7967.750</td><td>2977.750</td><td>294.0000</td><td>medium</td></tr>\n",
       "\t<tr><td>1844505072</td><td> 3477.000</td><td>1676.333</td><td>652.0000</td><td>low   </td></tr>\n",
       "\t<tr><td>1927972279</td><td> 1490.000</td><td>2316.200</td><td>417.0000</td><td>low   </td></tr>\n",
       "\t<tr><td>2026352035</td><td> 5618.679</td><td>1540.786</td><td>506.1786</td><td>medium</td></tr>\n",
       "\t<tr><td>2320127002</td><td> 5079.000</td><td>1804.000</td><td> 61.0000</td><td>medium</td></tr>\n",
       "</tbody>\n",
       "</table>\n"
      ],
      "text/latex": [
       "A tibble: 6 × 5\n",
       "\\begin{tabular}{lllll}\n",
       " id & mean\\_daily\\_steps & mean\\_daily\\_calories & mean\\_daily\\_sleep & user\\_category\\\\\n",
       " <dbl> & <dbl> & <dbl> & <dbl> & <chr>\\\\\n",
       "\\hline\n",
       "\t 1503960366 & 12405.680 & 1872.280 & 360.2800 & high  \\\\\n",
       "\t 1644430081 &  7967.750 & 2977.750 & 294.0000 & medium\\\\\n",
       "\t 1844505072 &  3477.000 & 1676.333 & 652.0000 & low   \\\\\n",
       "\t 1927972279 &  1490.000 & 2316.200 & 417.0000 & low   \\\\\n",
       "\t 2026352035 &  5618.679 & 1540.786 & 506.1786 & medium\\\\\n",
       "\t 2320127002 &  5079.000 & 1804.000 &  61.0000 & medium\\\\\n",
       "\\end{tabular}\n"
      ],
      "text/markdown": [
       "\n",
       "A tibble: 6 × 5\n",
       "\n",
       "| id &lt;dbl&gt; | mean_daily_steps &lt;dbl&gt; | mean_daily_calories &lt;dbl&gt; | mean_daily_sleep &lt;dbl&gt; | user_category &lt;chr&gt; |\n",
       "|---|---|---|---|---|\n",
       "| 1503960366 | 12405.680 | 1872.280 | 360.2800 | high   |\n",
       "| 1644430081 |  7967.750 | 2977.750 | 294.0000 | medium |\n",
       "| 1844505072 |  3477.000 | 1676.333 | 652.0000 | low    |\n",
       "| 1927972279 |  1490.000 | 2316.200 | 417.0000 | low    |\n",
       "| 2026352035 |  5618.679 | 1540.786 | 506.1786 | medium |\n",
       "| 2320127002 |  5079.000 | 1804.000 |  61.0000 | medium |\n",
       "\n"
      ],
      "text/plain": [
       "  id         mean_daily_steps mean_daily_calories mean_daily_sleep\n",
       "1 1503960366 12405.680        1872.280            360.2800        \n",
       "2 1644430081  7967.750        2977.750            294.0000        \n",
       "3 1844505072  3477.000        1676.333            652.0000        \n",
       "4 1927972279  1490.000        2316.200            417.0000        \n",
       "5 2026352035  5618.679        1540.786            506.1786        \n",
       "6 2320127002  5079.000        1804.000             61.0000        \n",
       "  user_category\n",
       "1 high         \n",
       "2 medium       \n",
       "3 low          \n",
       "4 low          \n",
       "5 medium       \n",
       "6 medium       "
      ]
     },
     "metadata": {},
     "output_type": "display_data"
    }
   ],
   "source": [
    "user_category <- daily_average %>%\n",
    "  mutate(user_category = case_when(\n",
    "    mean_daily_steps < 5000 ~ \"low\",\n",
    "    mean_daily_steps >= 5000 & mean_daily_steps < 9999 ~ \"medium\", \n",
    "    mean_daily_steps >= 10000 ~ \"high\"\n",
    "  ))\n",
    "\n",
    "head(user_category)"
   ]
  },
  {
   "cell_type": "markdown",
   "id": "33b91f6e",
   "metadata": {
    "papermill": {
     "duration": 0.187669,
     "end_time": "2022-01-10T19:07:59.006417",
     "exception": false,
     "start_time": "2022-01-10T19:07:58.818748",
     "status": "completed"
    },
    "tags": []
   },
   "source": [
    "Now that the users have been classified into the three categories, I will create a data frame to show the percentage of users that are in each category. This will allow me to then create a pie chart that will allow a good visualization of the data."
   ]
  },
  {
   "cell_type": "code",
   "execution_count": 13,
   "id": "78535039",
   "metadata": {
    "execution": {
     "iopub.execute_input": "2022-01-10T19:07:59.391262Z",
     "iopub.status.busy": "2022-01-10T19:07:59.389543Z",
     "iopub.status.idle": "2022-01-10T19:07:59.455094Z",
     "shell.execute_reply": "2022-01-10T19:07:59.453272Z"
    },
    "papermill": {
     "duration": 0.260217,
     "end_time": "2022-01-10T19:07:59.455261",
     "exception": false,
     "start_time": "2022-01-10T19:07:59.195044",
     "status": "completed"
    },
    "tags": []
   },
   "outputs": [
    {
     "data": {
      "text/html": [
       "<table class=\"dataframe\">\n",
       "<caption>A tibble: 3 × 3</caption>\n",
       "<thead>\n",
       "\t<tr><th scope=col>user_category</th><th scope=col>total_percent</th><th scope=col>labels</th></tr>\n",
       "\t<tr><th scope=col>&lt;fct&gt;</th><th scope=col>&lt;dbl&gt;</th><th scope=col>&lt;chr&gt;</th></tr>\n",
       "</thead>\n",
       "<tbody>\n",
       "\t<tr><td>high  </td><td>0.2083333</td><td>21%</td></tr>\n",
       "\t<tr><td>low   </td><td>0.2083333</td><td>21%</td></tr>\n",
       "\t<tr><td>medium</td><td>0.5833333</td><td>58%</td></tr>\n",
       "</tbody>\n",
       "</table>\n"
      ],
      "text/latex": [
       "A tibble: 3 × 3\n",
       "\\begin{tabular}{lll}\n",
       " user\\_category & total\\_percent & labels\\\\\n",
       " <fct> & <dbl> & <chr>\\\\\n",
       "\\hline\n",
       "\t high   & 0.2083333 & 21\\%\\\\\n",
       "\t low    & 0.2083333 & 21\\%\\\\\n",
       "\t medium & 0.5833333 & 58\\%\\\\\n",
       "\\end{tabular}\n"
      ],
      "text/markdown": [
       "\n",
       "A tibble: 3 × 3\n",
       "\n",
       "| user_category &lt;fct&gt; | total_percent &lt;dbl&gt; | labels &lt;chr&gt; |\n",
       "|---|---|---|\n",
       "| high   | 0.2083333 | 21% |\n",
       "| low    | 0.2083333 | 21% |\n",
       "| medium | 0.5833333 | 58% |\n",
       "\n"
      ],
      "text/plain": [
       "  user_category total_percent labels\n",
       "1 high          0.2083333     21%   \n",
       "2 low           0.2083333     21%   \n",
       "3 medium        0.5833333     58%   "
      ]
     },
     "metadata": {},
     "output_type": "display_data"
    }
   ],
   "source": [
    "user_category_percent <- user_category %>%\n",
    "  group_by(user_category) %>%\n",
    "  summarise(total = n()) %>%\n",
    "  mutate(totals = sum(total)) %>%\n",
    "  group_by(user_category) %>%\n",
    "   \n",
    "  summarise(total_percent = total / totals) %>%\n",
    "  mutate(labels = scales::percent(total_percent))\n",
    "\n",
    "user_category_percent$user_category <- factor(user_category_percent$user_category , levels = c(\"high\", \"medium\", \"low\"))\n",
    "\n",
    "\n",
    "head(user_category_percent)"
   ]
  },
  {
   "cell_type": "markdown",
   "id": "97a1b696",
   "metadata": {
    "papermill": {
     "duration": 0.190662,
     "end_time": "2022-01-10T19:07:59.838293",
     "exception": false,
     "start_time": "2022-01-10T19:07:59.647631",
     "status": "completed"
    },
    "tags": []
   },
   "source": [
    "It can be seen that the majority of users lie in the medium range of steps per day, with equal percents of users in the high and low categories."
   ]
  },
  {
   "cell_type": "code",
   "execution_count": 14,
   "id": "fa0a5864",
   "metadata": {
    "execution": {
     "iopub.execute_input": "2022-01-10T19:08:00.230818Z",
     "iopub.status.busy": "2022-01-10T19:08:00.228690Z",
     "iopub.status.idle": "2022-01-10T19:08:00.962396Z",
     "shell.execute_reply": "2022-01-10T19:08:00.961484Z"
    },
    "papermill": {
     "duration": 0.930528,
     "end_time": "2022-01-10T19:08:00.962577",
     "exception": false,
     "start_time": "2022-01-10T19:08:00.032049",
     "status": "completed"
    },
    "tags": []
   },
   "outputs": [
    {
     "data": {
      "image/png": "[encoded data removed]"
     },
     "metadata": {
      "image/png": {
       "height": 420,
       "width": 420
      }
     },
     "output_type": "display_data"
    }
   ],
   "source": [
    "user_category_percent %>%\n",
    "  ggplot(aes(x=\"\",y=total_percent, fill=user_category)) +\n",
    "  geom_bar(stat = \"identity\", width = 1,  color=\"black\")+\n",
    "  coord_polar(\"y\", start=0)+\n",
    "  theme_minimal()+\n",
    "  theme(axis.title.x= element_blank(),\n",
    "        axis.title.y = element_blank(),\n",
    "        panel.border = element_blank(), \n",
    "        panel.grid = element_blank(), \n",
    "        axis.ticks = element_blank(),\n",
    "        axis.text.x = element_blank(),\n",
    "        plot.title = element_text(hjust = 0.5, size=14, face = \"bold\")) +\n",
    "  scale_fill_manual(values = c(\"#e06d9e\",\"#f59e6e\", \"#d9fb80\")) +\n",
    "  geom_text(aes(label = labels),\n",
    "            position = position_stack(vjust = 0.5))+\n",
    "  labs(title=\"User Category distribution\")\n"
   ]
  },
  {
   "cell_type": "markdown",
   "id": "0242d38c",
   "metadata": {
    "papermill": {
     "duration": 0.196176,
     "end_time": "2022-01-10T19:08:01.354257",
     "exception": false,
     "start_time": "2022-01-10T19:08:01.158081",
     "status": "completed"
    },
    "tags": []
   },
   "source": [
    "**Key Takeaway:**\n",
    "We can infer that all types of users were smart-devices"
   ]
  },
  {
   "cell_type": "markdown",
   "id": "2656bef6",
   "metadata": {
    "papermill": {
     "duration": 0.197741,
     "end_time": "2022-01-10T19:08:01.747778",
     "exception": false,
     "start_time": "2022-01-10T19:08:01.550037",
     "status": "completed"
    },
    "tags": []
   },
   "source": [
    "# <span style=\"color:#FA8072; font-size:16px;\"> 5.2 Sleep Usage </span>\n",
    "In the same way that I analyzed the step usuage, I will now analyze the sleep usage of the device. \n",
    "Again, I will categorize users in the following way:\n",
    "* Low: Less than 15 days\n",
    "* Medium: Between 15 and 24 days\n",
    "* High: More than 25 days\n",
    "\n",
    "We can not consideer steps with this data, so we will consider the days that the user has worn the device while sleeping."
   ]
  },
  {
   "cell_type": "code",
   "execution_count": 15,
   "id": "a4ea6d01",
   "metadata": {
    "execution": {
     "iopub.execute_input": "2022-01-10T19:08:02.187965Z",
     "iopub.status.busy": "2022-01-10T19:08:02.186085Z",
     "iopub.status.idle": "2022-01-10T19:08:02.248743Z",
     "shell.execute_reply": "2022-01-10T19:08:02.246932Z"
    },
    "papermill": {
     "duration": 0.306574,
     "end_time": "2022-01-10T19:08:02.248909",
     "exception": false,
     "start_time": "2022-01-10T19:08:01.942335",
     "status": "completed"
    },
    "tags": []
   },
   "outputs": [
    {
     "data": {
      "text/html": [
       "<table class=\"dataframe\">\n",
       "<caption>A tibble: 3 × 4</caption>\n",
       "<thead>\n",
       "\t<tr><th scope=col>usage</th><th scope=col>count</th><th scope=col>percent</th><th scope=col>chart_labels</th></tr>\n",
       "\t<tr><th scope=col>&lt;ord&gt;</th><th scope=col>&lt;int&gt;</th><th scope=col>&lt;dbl&gt;</th><th scope=col>&lt;chr&gt;</th></tr>\n",
       "</thead>\n",
       "<tbody>\n",
       "\t<tr><td>High  </td><td>10</td><td>0.4166667</td><td>41.7%</td></tr>\n",
       "\t<tr><td>Low   </td><td> 9</td><td>0.3750000</td><td>37.5%</td></tr>\n",
       "\t<tr><td>Medium</td><td> 5</td><td>0.2083333</td><td>20.8%</td></tr>\n",
       "</tbody>\n",
       "</table>\n"
      ],
      "text/latex": [
       "A tibble: 3 × 4\n",
       "\\begin{tabular}{llll}\n",
       " usage & count & percent & chart\\_labels\\\\\n",
       " <ord> & <int> & <dbl> & <chr>\\\\\n",
       "\\hline\n",
       "\t High   & 10 & 0.4166667 & 41.7\\%\\\\\n",
       "\t Low    &  9 & 0.3750000 & 37.5\\%\\\\\n",
       "\t Medium &  5 & 0.2083333 & 20.8\\%\\\\\n",
       "\\end{tabular}\n"
      ],
      "text/markdown": [
       "\n",
       "A tibble: 3 × 4\n",
       "\n",
       "| usage &lt;ord&gt; | count &lt;int&gt; | percent &lt;dbl&gt; | chart_labels &lt;chr&gt; |\n",
       "|---|---|---|---|\n",
       "| High   | 10 | 0.4166667 | 41.7% |\n",
       "| Low    |  9 | 0.3750000 | 37.5% |\n",
       "| Medium |  5 | 0.2083333 | 20.8% |\n",
       "\n"
      ],
      "text/plain": [
       "  usage  count percent   chart_labels\n",
       "1 High   10    0.4166667 41.7%       \n",
       "2 Low     9    0.3750000 37.5%       \n",
       "3 Medium  5    0.2083333 20.8%       "
      ]
     },
     "metadata": {},
     "output_type": "display_data"
    }
   ],
   "source": [
    "sleep_days_active <- sleep_day %>%\n",
    "    group_by(id) %>%\n",
    "    summarize(days_active = n())\n",
    "\n",
    "sleep_active_categories <- sleep_days_active %>%\n",
    "    mutate(usage = case_when(\n",
    "    days_active < 15 ~ 'Low',\n",
    "    days_active >=15 & days_active <25 ~ 'Medium',\n",
    "    days_active >=25 ~ 'High')) %>%\n",
    "    group_by(usage) %>%\n",
    "    summarize(count = n()) %>%\n",
    "    mutate(percent = count / sum(count)) %>%\n",
    "    mutate(chart_labels = scales::percent(percent))\n",
    "\n",
    "sleep_active_categories$usage <-ordered(sleep_active_categories$usage, levels=c(\"Low\", \"Medium\", \"High\"))\n",
    "\n",
    "sleep_active_categories"
   ]
  },
  {
   "cell_type": "code",
   "execution_count": 16,
   "id": "b992580c",
   "metadata": {
    "execution": {
     "iopub.execute_input": "2022-01-10T19:08:02.652763Z",
     "iopub.status.busy": "2022-01-10T19:08:02.650719Z",
     "iopub.status.idle": "2022-01-10T19:08:03.207323Z",
     "shell.execute_reply": "2022-01-10T19:08:03.206143Z"
    },
    "papermill": {
     "duration": 0.759382,
     "end_time": "2022-01-10T19:08:03.207529",
     "exception": false,
     "start_time": "2022-01-10T19:08:02.448147",
     "status": "completed"
    },
    "tags": []
   },
   "outputs": [
    {
     "data": {
      "image/png": "[encoded data removed]"
     },
     "metadata": {
      "image/png": {
       "height": 420,
       "width": 420
      }
     },
     "output_type": "display_data"
    }
   ],
   "source": [
    "sleep_use_pie_chart <- ggplot(data = sleep_active_categories, aes(x=\"\",y=count, fill=usage)) +\n",
    "  geom_bar(stat = \"identity\", width = 1, color=\"black\")+\n",
    "  coord_polar(\"y\", start=0)+\n",
    "  theme_minimal()+\n",
    "  theme(axis.title.x= element_blank(),\n",
    "        axis.title.y = element_blank(),\n",
    "        panel.border = element_blank(), \n",
    "        panel.grid = element_blank(), \n",
    "        axis.ticks = element_blank(),\n",
    "        axis.text.x = element_blank(),\n",
    "        plot.title = element_text(hjust = 0.5, size=14, face = \"bold\")) +\n",
    "  scale_fill_manual(values = c(\"#e06d9e\",\"#f59e6e\", \"#d9fb80\")) +\n",
    "  geom_text(aes(label = chart_labels),\n",
    "            position = position_stack(vjust = 0.5))+\n",
    "  labs(title=\"Sleep Usage Category\")\n",
    "ggarrange(sleep_use_pie_chart)\n"
   ]
  },
  {
   "cell_type": "markdown",
   "id": "84468af9",
   "metadata": {
    "papermill": {
     "duration": 0.20206,
     "end_time": "2022-01-10T19:08:03.614219",
     "exception": false,
     "start_time": "2022-01-10T19:08:03.412159",
     "status": "completed"
    },
    "tags": []
   },
   "source": [
    "As can be seen the majority of users are in the low and high categories. Overall, there is more distribution than in the previous example.\n",
    "<br>\n",
    "<br>\n",
    "**Key Takeaway:**\n",
    "More users are tracking their sleep (41.7%) than their steps (21%).\n",
    "This may be useful when deciding what new features to add to their devices."
   ]
  },
  {
   "cell_type": "markdown",
   "id": "21a783fb",
   "metadata": {
    "papermill": {
     "duration": 0.201884,
     "end_time": "2022-01-10T19:08:04.015954",
     "exception": false,
     "start_time": "2022-01-10T19:08:03.814070",
     "status": "completed"
    },
    "tags": []
   },
   "source": [
    "# <span style=\"color:#FA8072; font-size:16px;\"> 5.3 Analyzing Steps and Sleep per Weekday </span>\n",
    "This will allow me to see what days of the week users are more active and which days they sleep more.\n",
    "First, I will calculate the weekdays based on the date column. Then I will calculate the average steps per day and average minutes of sleep per day."
   ]
  },
  {
   "cell_type": "code",
   "execution_count": 17,
   "id": "c83ff6bd",
   "metadata": {
    "execution": {
     "iopub.execute_input": "2022-01-10T19:08:04.426220Z",
     "iopub.status.busy": "2022-01-10T19:08:04.424376Z",
     "iopub.status.idle": "2022-01-10T19:08:04.472798Z",
     "shell.execute_reply": "2022-01-10T19:08:04.470937Z"
    },
    "papermill": {
     "duration": 0.257268,
     "end_time": "2022-01-10T19:08:04.472970",
     "exception": false,
     "start_time": "2022-01-10T19:08:04.215702",
     "status": "completed"
    },
    "tags": []
   },
   "outputs": [
    {
     "data": {
      "text/html": [
       "<table class=\"dataframe\">\n",
       "<caption>A tibble: 6 × 3</caption>\n",
       "<thead>\n",
       "\t<tr><th scope=col>weekday</th><th scope=col>daily_steps</th><th scope=col>daily_sleep</th></tr>\n",
       "\t<tr><th scope=col>&lt;ord&gt;</th><th scope=col>&lt;dbl&gt;</th><th scope=col>&lt;dbl&gt;</th></tr>\n",
       "</thead>\n",
       "<tbody>\n",
       "\t<tr><td>Monday   </td><td>9273.217</td><td>419.5000</td></tr>\n",
       "\t<tr><td>Tuesday  </td><td>9182.692</td><td>404.5385</td></tr>\n",
       "\t<tr><td>Wednesday</td><td>8022.864</td><td>434.6818</td></tr>\n",
       "\t<tr><td>Thursday </td><td>8183.516</td><td>401.2969</td></tr>\n",
       "\t<tr><td>Friday   </td><td>7901.404</td><td>405.4211</td></tr>\n",
       "\t<tr><td>Saturday </td><td>9871.123</td><td>419.0702</td></tr>\n",
       "</tbody>\n",
       "</table>\n"
      ],
      "text/latex": [
       "A tibble: 6 × 3\n",
       "\\begin{tabular}{lll}\n",
       " weekday & daily\\_steps & daily\\_sleep\\\\\n",
       " <ord> & <dbl> & <dbl>\\\\\n",
       "\\hline\n",
       "\t Monday    & 9273.217 & 419.5000\\\\\n",
       "\t Tuesday   & 9182.692 & 404.5385\\\\\n",
       "\t Wednesday & 8022.864 & 434.6818\\\\\n",
       "\t Thursday  & 8183.516 & 401.2969\\\\\n",
       "\t Friday    & 7901.404 & 405.4211\\\\\n",
       "\t Saturday  & 9871.123 & 419.0702\\\\\n",
       "\\end{tabular}\n"
      ],
      "text/markdown": [
       "\n",
       "A tibble: 6 × 3\n",
       "\n",
       "| weekday &lt;ord&gt; | daily_steps &lt;dbl&gt; | daily_sleep &lt;dbl&gt; |\n",
       "|---|---|---|\n",
       "| Monday    | 9273.217 | 419.5000 |\n",
       "| Tuesday   | 9182.692 | 404.5385 |\n",
       "| Wednesday | 8022.864 | 434.6818 |\n",
       "| Thursday  | 8183.516 | 401.2969 |\n",
       "| Friday    | 7901.404 | 405.4211 |\n",
       "| Saturday  | 9871.123 | 419.0702 |\n",
       "\n"
      ],
      "text/plain": [
       "  weekday   daily_steps daily_sleep\n",
       "1 Monday    9273.217    419.5000   \n",
       "2 Tuesday   9182.692    404.5385   \n",
       "3 Wednesday 8022.864    434.6818   \n",
       "4 Thursday  8183.516    401.2969   \n",
       "5 Friday    7901.404    405.4211   \n",
       "6 Saturday  9871.123    419.0702   "
      ]
     },
     "metadata": {},
     "output_type": "display_data"
    }
   ],
   "source": [
    "weekday_steps_sleep <- daily_activity_sleep %>%\n",
    "  mutate(weekday = weekdays(date))\n",
    "\n",
    "weekday_steps_sleep$weekday <-ordered(weekday_steps_sleep$weekday, levels=c(\"Monday\", \"Tuesday\", \"Wednesday\", \"Thursday\",\n",
    "\"Friday\", \"Saturday\", \"Sunday\"))\n",
    "\n",
    " weekday_steps_sleep <-weekday_steps_sleep%>%\n",
    "  group_by(weekday) %>%\n",
    "  summarize (daily_steps = mean(totalsteps), daily_sleep = mean(totalminutesasleep))\n",
    "\n",
    "head(weekday_steps_sleep)"
   ]
  },
  {
   "cell_type": "code",
   "execution_count": 18,
   "id": "c687df86",
   "metadata": {
    "execution": {
     "iopub.execute_input": "2022-01-10T19:08:04.921064Z",
     "iopub.status.busy": "2022-01-10T19:08:04.919120Z",
     "iopub.status.idle": "2022-01-10T19:08:05.463499Z",
     "shell.execute_reply": "2022-01-10T19:08:05.462853Z"
    },
    "papermill": {
     "duration": 0.754116,
     "end_time": "2022-01-10T19:08:05.463646",
     "exception": false,
     "start_time": "2022-01-10T19:08:04.709530",
     "status": "completed"
    },
    "tags": []
   },
   "outputs": [
    {
     "data": {
      "image/png": "[encoded data removed]"
     },
     "metadata": {
      "image/png": {
       "height": 420,
       "width": 420
      }
     },
     "output_type": "display_data"
    }
   ],
   "source": [
    "\n",
    "step_activity_by_day_bar_graph <- ggplot(data = weekday_steps_sleep) +\n",
    "    geom_col(aes(x=weekday, y=daily_steps), fill='#e06d9e') +\n",
    "    labs(title = \"Daily Steps per Weekday\", x= \"\", y = \"\") +\n",
    "    theme(axis.text.x = element_text(angle = 45,vjust = 0.5, hjust = 1))\n",
    "\n",
    "sleep_activity_by_day_bar_graph <- ggplot(data = weekday_steps_sleep) +\n",
    "    geom_col(aes(x=weekday, y=daily_sleep), fill='maroon') +\n",
    "    labs(title = \"Device Use for Sleep by Weekday\", x= \"\", y = \"\") +\n",
    "    theme(axis.text.x = element_text(angle = 45,vjust = 0.5, hjust = 1))\n",
    "\n",
    "\n",
    "ggarrange(step_activity_by_day_bar_graph, sleep_activity_by_day_bar_graph)"
   ]
  },
  {
   "cell_type": "markdown",
   "id": "0cf2bd8d",
   "metadata": {
    "papermill": {
     "duration": 0.229304,
     "end_time": "2022-01-10T19:08:05.934510",
     "exception": false,
     "start_time": "2022-01-10T19:08:05.705206",
     "status": "completed"
    },
    "tags": []
   },
   "source": [
    "As can be seen, the most active walking day is Saturday and the least active day is Sunday. Daily steps fluctuates more across the week.\n",
    "For sleeping, sunday is the most active sleep day, whereas, tuesday and thursday are tied in being the least sleep day."
   ]
  },
  {
   "cell_type": "markdown",
   "id": "20faef2b",
   "metadata": {
    "papermill": {
     "duration": 0.230526,
     "end_time": "2022-01-10T19:08:06.390619",
     "exception": false,
     "start_time": "2022-01-10T19:08:06.160093",
     "status": "completed"
    },
    "tags": []
   },
   "source": [
    "# <span style=\"color:#FA8072; font-size:16px;\"> 5.4 Steps per hour in one day </span>\n",
    "Lets see at what time the users are most and least active in the day"
   ]
  },
  {
   "cell_type": "code",
   "execution_count": 19,
   "id": "0b5bf779",
   "metadata": {
    "execution": {
     "iopub.execute_input": "2022-01-10T19:08:06.818356Z",
     "iopub.status.busy": "2022-01-10T19:08:06.815591Z",
     "iopub.status.idle": "2022-01-10T19:08:07.718558Z",
     "shell.execute_reply": "2022-01-10T19:08:07.716438Z"
    },
    "papermill": {
     "duration": 1.121959,
     "end_time": "2022-01-10T19:08:07.718734",
     "exception": false,
     "start_time": "2022-01-10T19:08:06.596775",
     "status": "completed"
    },
    "tags": []
   },
   "outputs": [
    {
     "data": {
      "text/html": [
       "<table class=\"dataframe\">\n",
       "<caption>A tibble: 6 × 4</caption>\n",
       "<thead>\n",
       "\t<tr><th scope=col>id</th><th scope=col>date</th><th scope=col>time</th><th scope=col>steptotal</th></tr>\n",
       "\t<tr><th scope=col>&lt;dbl&gt;</th><th scope=col>&lt;date&gt;</th><th scope=col>&lt;chr&gt;</th><th scope=col>&lt;dbl&gt;</th></tr>\n",
       "</thead>\n",
       "<tbody>\n",
       "\t<tr><td>1503960366</td><td>2016-04-12</td><td>00:00:00</td><td>373</td></tr>\n",
       "\t<tr><td>1503960366</td><td>2016-04-12</td><td>01:00:00</td><td>160</td></tr>\n",
       "\t<tr><td>1503960366</td><td>2016-04-12</td><td>02:00:00</td><td>151</td></tr>\n",
       "\t<tr><td>1503960366</td><td>2016-04-12</td><td>03:00:00</td><td>  0</td></tr>\n",
       "\t<tr><td>1503960366</td><td>2016-04-12</td><td>04:00:00</td><td>  0</td></tr>\n",
       "\t<tr><td>1503960366</td><td>2016-04-12</td><td>05:00:00</td><td>  0</td></tr>\n",
       "</tbody>\n",
       "</table>\n"
      ],
      "text/latex": [
       "A tibble: 6 × 4\n",
       "\\begin{tabular}{llll}\n",
       " id & date & time & steptotal\\\\\n",
       " <dbl> & <date> & <chr> & <dbl>\\\\\n",
       "\\hline\n",
       "\t 1503960366 & 2016-04-12 & 00:00:00 & 373\\\\\n",
       "\t 1503960366 & 2016-04-12 & 01:00:00 & 160\\\\\n",
       "\t 1503960366 & 2016-04-12 & 02:00:00 & 151\\\\\n",
       "\t 1503960366 & 2016-04-12 & 03:00:00 &   0\\\\\n",
       "\t 1503960366 & 2016-04-12 & 04:00:00 &   0\\\\\n",
       "\t 1503960366 & 2016-04-12 & 05:00:00 &   0\\\\\n",
       "\\end{tabular}\n"
      ],
      "text/markdown": [
       "\n",
       "A tibble: 6 × 4\n",
       "\n",
       "| id &lt;dbl&gt; | date &lt;date&gt; | time &lt;chr&gt; | steptotal &lt;dbl&gt; |\n",
       "|---|---|---|---|\n",
       "| 1503960366 | 2016-04-12 | 00:00:00 | 373 |\n",
       "| 1503960366 | 2016-04-12 | 01:00:00 | 160 |\n",
       "| 1503960366 | 2016-04-12 | 02:00:00 | 151 |\n",
       "| 1503960366 | 2016-04-12 | 03:00:00 |   0 |\n",
       "| 1503960366 | 2016-04-12 | 04:00:00 |   0 |\n",
       "| 1503960366 | 2016-04-12 | 05:00:00 |   0 |\n",
       "\n"
      ],
      "text/plain": [
       "  id         date       time     steptotal\n",
       "1 1503960366 2016-04-12 00:00:00 373      \n",
       "2 1503960366 2016-04-12 01:00:00 160      \n",
       "3 1503960366 2016-04-12 02:00:00 151      \n",
       "4 1503960366 2016-04-12 03:00:00   0      \n",
       "5 1503960366 2016-04-12 04:00:00   0      \n",
       "6 1503960366 2016-04-12 05:00:00   0      "
      ]
     },
     "metadata": {},
     "output_type": "display_data"
    }
   ],
   "source": [
    "hourly_steps <- hourly_steps %>%\n",
    "  separate(date_time, into = c(\"date\", \"time\"), sep= \" \") %>%\n",
    "  mutate(date = ymd(date)) \n",
    "  \n",
    "head(hourly_steps)"
   ]
  },
  {
   "cell_type": "code",
   "execution_count": 20,
   "id": "854080d5",
   "metadata": {
    "execution": {
     "iopub.execute_input": "2022-01-10T19:08:08.188662Z",
     "iopub.status.busy": "2022-01-10T19:08:08.186151Z",
     "iopub.status.idle": "2022-01-10T19:08:08.509364Z",
     "shell.execute_reply": "2022-01-10T19:08:08.508082Z"
    },
    "papermill": {
     "duration": 0.567734,
     "end_time": "2022-01-10T19:08:08.509550",
     "exception": false,
     "start_time": "2022-01-10T19:08:07.941816",
     "status": "completed"
    },
    "tags": []
   },
   "outputs": [
    {
     "data": {
      "image/png": "[encoded data removed]"
     },
     "metadata": {
      "image/png": {
       "height": 420,
       "width": 420
      }
     },
     "output_type": "display_data"
    }
   ],
   "source": [
    "hourly_steps %>%\n",
    "  group_by(time) %>%\n",
    "  summarize(average_steps = mean(steptotal)) %>%\n",
    "  ggplot() +\n",
    "  geom_col(mapping = aes(x=time, y = average_steps, fill = average_steps)) + \n",
    "  labs(title = \"Hourly steps throughout the day\", x=\"\", y=\"\") + \n",
    "  scale_fill_gradient(low = \"red\", high = \"green\")+\n",
    "  theme(axis.text.x = element_text(angle = 90))"
   ]
  },
  {
   "cell_type": "markdown",
   "id": "21e7940b",
   "metadata": {
    "papermill": {
     "duration": 0.21207,
     "end_time": "2022-01-10T19:08:08.931446",
     "exception": false,
     "start_time": "2022-01-10T19:08:08.719376",
     "status": "completed"
    },
    "tags": []
   },
   "source": [
    "As can be seen, users are most active between 12-2pm and 5-7pm."
   ]
  },
  {
   "cell_type": "markdown",
   "id": "d678f450",
   "metadata": {
    "papermill": {
     "duration": 0.217924,
     "end_time": "2022-01-10T19:08:09.389620",
     "exception": false,
     "start_time": "2022-01-10T19:08:09.171696",
     "status": "completed"
    },
    "tags": []
   },
   "source": [
    "# <span style=\"color:#FA8072; font-size:16px;\"> 5.5 Correlation between Daily Steps and Calories </span>\n",
    "Lets see if there is any correlation between the number of steps and the number of calories burned by each user."
   ]
  },
  {
   "cell_type": "code",
   "execution_count": 21,
   "id": "c3636d26",
   "metadata": {
    "execution": {
     "iopub.execute_input": "2022-01-10T19:08:09.819710Z",
     "iopub.status.busy": "2022-01-10T19:08:09.817967Z",
     "iopub.status.idle": "2022-01-10T19:08:11.828745Z",
     "shell.execute_reply": "2022-01-10T19:08:11.828015Z"
    },
    "papermill": {
     "duration": 2.228274,
     "end_time": "2022-01-10T19:08:11.828924",
     "exception": false,
     "start_time": "2022-01-10T19:08:09.600650",
     "status": "completed"
    },
    "tags": []
   },
   "outputs": [
    {
     "name": "stderr",
     "output_type": "stream",
     "text": [
      "`geom_smooth()` using method = 'loess' and formula 'y ~ x'\n",
      "\n"
     ]
    },
    {
     "data": {
      "image/png": "[encoded data removed]"
     },
     "metadata": {
      "image/png": {
       "height": 420,
       "width": 420
      }
     },
     "output_type": "display_data"
    }
   ],
   "source": [
    "ggarrange(\n",
    "ggplot(daily_activity_sleep, aes(x=totalsteps, y=calories))+\n",
    "  geom_jitter() +\n",
    "  geom_smooth(color = \"red\") + \n",
    "  labs(title = \"Daily steps vs Calories\", x = \"Daily steps\", y= \"Calories\") +\n",
    "   theme(panel.background = element_blank(),\n",
    "        plot.title = element_text( size=14))\n",
    ")"
   ]
  },
  {
   "cell_type": "markdown",
   "id": "2cd0d251",
   "metadata": {
    "papermill": {
     "duration": 0.26692,
     "end_time": "2022-01-10T19:08:12.315350",
     "exception": false,
     "start_time": "2022-01-10T19:08:12.048430",
     "status": "completed"
    },
    "tags": []
   },
   "source": [
    "Although the data points are quite distributed, we can see an upward slope in the line of best fit, indicating a positive correlation between the number of daily steps and the number of calories burned by the user."
   ]
  },
  {
   "cell_type": "code",
   "execution_count": null,
   "id": "5b9e0780",
   "metadata": {
    "papermill": {
     "duration": 0.217795,
     "end_time": "2022-01-10T19:08:12.751957",
     "exception": false,
     "start_time": "2022-01-10T19:08:12.534162",
     "status": "completed"
    },
    "tags": []
   },
   "outputs": [],
   "source": []
  },
  {
   "cell_type": "markdown",
   "id": "bab99b8b",
   "metadata": {
    "papermill": {
     "duration": 0.23323,
     "end_time": "2022-01-10T19:08:13.208537",
     "exception": false,
     "start_time": "2022-01-10T19:08:12.975307",
     "status": "completed"
    },
    "tags": []
   },
   "source": []
  }
 ],
 "metadata": {
  "kernelspec": {
   "display_name": "R",
   "language": "R",
   "name": "ir"
  },
  "language_info": {
   "codemirror_mode": "r",
   "file_extension": ".r",
   "mimetype": "text/x-r-source",
   "name": "R",
   "pygments_lexer": "r",
   "version": "4.0.5"
  },
  "papermill": {
   "default_parameters": {},
   "duration": 31.315888,
   "end_time": "2022-01-10T19:08:13.539682",
   "environment_variables": {},
   "exception": null,
   "input_path": "__notebook__.ipynb",
   "output_path": "__notebook__.ipynb",
   "parameters": {},
   "start_time": "2022-01-10T19:07:42.223794",
   "version": "2.3.3"
  }
 },
 "nbformat": 4,
 "nbformat_minor": 5
}
